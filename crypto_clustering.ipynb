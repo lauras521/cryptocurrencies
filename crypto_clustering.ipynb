{
 "cells": [
  {
   "cell_type": "markdown",
   "metadata": {},
   "source": [
    "# Clustering Crypto"
   ]
  },
  {
   "cell_type": "code",
   "execution_count": 210,
   "metadata": {},
   "outputs": [],
   "source": [
    "# Initial imports\n",
    "import pandas as pd\n",
    "import hvplot.pandas\n",
    "from path import Path\n",
    "import plotly.express as px\n",
    "from sklearn.preprocessing import StandardScaler, MinMaxScaler\n",
    "from sklearn.decomposition import PCA\n",
    "from sklearn.cluster import KMeans\n",
    "import matplotlib.pyplot as plt"
   ]
  },
  {
   "cell_type": "markdown",
   "metadata": {},
   "source": [
    "### Deliverable 1: Preprocessing the Data for PCA"
   ]
  },
  {
   "cell_type": "code",
   "execution_count": 211,
   "metadata": {},
   "outputs": [],
   "source": [
    "# Load the crypto_data.csv dataset.\n",
    "file_path = \"crypto_data.csv\"\n",
    "crypto_df = pd.read_csv(file_path)\n",
    "#crypto_df.tail()"
   ]
  },
  {
   "cell_type": "code",
   "execution_count": 212,
   "metadata": {},
   "outputs": [],
   "source": [
    "# Keep all the cryptocurrencies that are being traded.\n",
    "crypto_df_true=crypto_df.loc[(crypto_df[\"IsTrading\"]==1)]\n",
    "#crypto_df_true.tail()"
   ]
  },
  {
   "cell_type": "code",
   "execution_count": 213,
   "metadata": {},
   "outputs": [
    {
     "name": "stderr",
     "output_type": "stream",
     "text": [
      "C:\\Users\\laura\\anaconda3\\envs\\mlenv\\lib\\site-packages\\pandas\\core\\frame.py:4913: SettingWithCopyWarning:\n",
      "\n",
      "\n",
      "A value is trying to be set on a copy of a slice from a DataFrame\n",
      "\n",
      "See the caveats in the documentation: https://pandas.pydata.org/pandas-docs/stable/user_guide/indexing.html#returning-a-view-versus-a-copy\n",
      "\n"
     ]
    }
   ],
   "source": [
    "# Remove the \"IsTrading\" column. \n",
    "crypto_df_true.drop('IsTrading', axis=1, inplace=True)"
   ]
  },
  {
   "cell_type": "code",
   "execution_count": 214,
   "metadata": {},
   "outputs": [],
   "source": [
    "#crypto_df_true"
   ]
  },
  {
   "cell_type": "code",
   "execution_count": 215,
   "metadata": {},
   "outputs": [
    {
     "data": {
      "text/plain": [
       "Unnamed: 0          object\n",
       "CoinName            object\n",
       "Algorithm           object\n",
       "ProofType           object\n",
       "TotalCoinsMined    float64\n",
       "TotalCoinSupply     object\n",
       "dtype: object"
      ]
     },
     "execution_count": 215,
     "metadata": {},
     "output_type": "execute_result"
    }
   ],
   "source": [
    "crypto_df_true.dtypes"
   ]
  },
  {
   "cell_type": "code",
   "execution_count": 216,
   "metadata": {},
   "outputs": [
    {
     "data": {
      "text/plain": [
       "Unnamed: 0         1144\n",
       "CoinName           1144\n",
       "Algorithm          1144\n",
       "ProofType          1144\n",
       "TotalCoinsMined    1144\n",
       "TotalCoinSupply    1144\n",
       "dtype: int64"
      ]
     },
     "execution_count": 216,
     "metadata": {},
     "output_type": "execute_result"
    }
   ],
   "source": [
    "crypto_df_true.isnull().count()"
   ]
  },
  {
   "cell_type": "code",
   "execution_count": 217,
   "metadata": {},
   "outputs": [
    {
     "data": {
      "text/plain": [
       "Unnamed: 0         False\n",
       "CoinName           False\n",
       "Algorithm          False\n",
       "ProofType          False\n",
       "TotalCoinsMined     True\n",
       "TotalCoinSupply    False\n",
       "dtype: bool"
      ]
     },
     "execution_count": 217,
     "metadata": {},
     "output_type": "execute_result"
    }
   ],
   "source": [
    "crypto_df_true.isnull().any()"
   ]
  },
  {
   "cell_type": "code",
   "execution_count": 218,
   "metadata": {},
   "outputs": [],
   "source": [
    "# Remove rows that have at least 1 null value.\n",
    "crypto_df_dropna=crypto_df_true.dropna()\n",
    "#crypto_df_dropna"
   ]
  },
  {
   "cell_type": "code",
   "execution_count": 219,
   "metadata": {},
   "outputs": [],
   "source": [
    "# Keep the rows where coins are mined.\n",
    "crypto_df_new=crypto_df_dropna.loc[(crypto_df_dropna[\"TotalCoinsMined\"]>0)]\n",
    "#crypto_df_new"
   ]
  },
  {
   "cell_type": "code",
   "execution_count": 220,
   "metadata": {},
   "outputs": [],
   "source": [
    "#set new index\n",
    "crypto_new_index=crypto_df_new.set_index(\"Unnamed: 0\")"
   ]
  },
  {
   "cell_type": "code",
   "execution_count": 221,
   "metadata": {},
   "outputs": [],
   "source": [
    "#drop name of index\n",
    "crypto_new_index.index.name = None"
   ]
  },
  {
   "cell_type": "code",
   "execution_count": 222,
   "metadata": {},
   "outputs": [
    {
     "data": {
      "text/html": [
       "<div>\n",
       "<style scoped>\n",
       "    .dataframe tbody tr th:only-of-type {\n",
       "        vertical-align: middle;\n",
       "    }\n",
       "\n",
       "    .dataframe tbody tr th {\n",
       "        vertical-align: top;\n",
       "    }\n",
       "\n",
       "    .dataframe thead th {\n",
       "        text-align: right;\n",
       "    }\n",
       "</style>\n",
       "<table border=\"1\" class=\"dataframe\">\n",
       "  <thead>\n",
       "    <tr style=\"text-align: right;\">\n",
       "      <th></th>\n",
       "      <th>CoinName</th>\n",
       "    </tr>\n",
       "  </thead>\n",
       "  <tbody>\n",
       "    <tr>\n",
       "      <th>42</th>\n",
       "      <td>42 Coin</td>\n",
       "    </tr>\n",
       "    <tr>\n",
       "      <th>404</th>\n",
       "      <td>404Coin</td>\n",
       "    </tr>\n",
       "    <tr>\n",
       "      <th>1337</th>\n",
       "      <td>EliteCoin</td>\n",
       "    </tr>\n",
       "    <tr>\n",
       "      <th>BTC</th>\n",
       "      <td>Bitcoin</td>\n",
       "    </tr>\n",
       "    <tr>\n",
       "      <th>ETH</th>\n",
       "      <td>Ethereum</td>\n",
       "    </tr>\n",
       "    <tr>\n",
       "      <th>...</th>\n",
       "      <td>...</td>\n",
       "    </tr>\n",
       "    <tr>\n",
       "      <th>ZEPH</th>\n",
       "      <td>ZEPHYR</td>\n",
       "    </tr>\n",
       "    <tr>\n",
       "      <th>GAP</th>\n",
       "      <td>Gapcoin</td>\n",
       "    </tr>\n",
       "    <tr>\n",
       "      <th>BDX</th>\n",
       "      <td>Beldex</td>\n",
       "    </tr>\n",
       "    <tr>\n",
       "      <th>ZEN</th>\n",
       "      <td>Horizen</td>\n",
       "    </tr>\n",
       "    <tr>\n",
       "      <th>XBC</th>\n",
       "      <td>BitcoinPlus</td>\n",
       "    </tr>\n",
       "  </tbody>\n",
       "</table>\n",
       "<p>532 rows × 1 columns</p>\n",
       "</div>"
      ],
      "text/plain": [
       "         CoinName\n",
       "42        42 Coin\n",
       "404       404Coin\n",
       "1337    EliteCoin\n",
       "BTC       Bitcoin\n",
       "ETH      Ethereum\n",
       "...           ...\n",
       "ZEPH       ZEPHYR\n",
       "GAP       Gapcoin\n",
       "BDX        Beldex\n",
       "ZEN       Horizen\n",
       "XBC   BitcoinPlus\n",
       "\n",
       "[532 rows x 1 columns]"
      ]
     },
     "execution_count": 222,
     "metadata": {},
     "output_type": "execute_result"
    }
   ],
   "source": [
    "# Create a new DataFrame that holds only the cryptocurrencies names.\n",
    "name_df = crypto_new_index[[\"CoinName\"]]\n",
    "name_df"
   ]
  },
  {
   "cell_type": "code",
   "execution_count": 223,
   "metadata": {},
   "outputs": [],
   "source": [
    "# Drop the 'CoinName' column since it's not going to be used on the clustering algorithm.\n",
    "crypto_df_2=crypto_new_index.drop(columns=['CoinName'])"
   ]
  },
  {
   "cell_type": "code",
   "execution_count": 224,
   "metadata": {},
   "outputs": [
    {
     "data": {
      "text/plain": [
       "Algorithm           object\n",
       "ProofType           object\n",
       "TotalCoinsMined    float64\n",
       "TotalCoinSupply     object\n",
       "dtype: object"
      ]
     },
     "execution_count": 224,
     "metadata": {},
     "output_type": "execute_result"
    }
   ],
   "source": [
    "crypto_df_2.dtypes"
   ]
  },
  {
   "cell_type": "code",
   "execution_count": 225,
   "metadata": {},
   "outputs": [],
   "source": [
    "crypto_df_2['TotalCoinSupply'] = crypto_df_2['TotalCoinSupply'].astype(float)"
   ]
  },
  {
   "cell_type": "code",
   "execution_count": 226,
   "metadata": {},
   "outputs": [
    {
     "data": {
      "text/plain": [
       "Algorithm           object\n",
       "ProofType           object\n",
       "TotalCoinsMined    float64\n",
       "TotalCoinSupply    float64\n",
       "dtype: object"
      ]
     },
     "execution_count": 226,
     "metadata": {},
     "output_type": "execute_result"
    }
   ],
   "source": [
    "crypto_df_2.dtypes"
   ]
  },
  {
   "cell_type": "code",
   "execution_count": 227,
   "metadata": {},
   "outputs": [
    {
     "data": {
      "text/html": [
       "<div>\n",
       "<style scoped>\n",
       "    .dataframe tbody tr th:only-of-type {\n",
       "        vertical-align: middle;\n",
       "    }\n",
       "\n",
       "    .dataframe tbody tr th {\n",
       "        vertical-align: top;\n",
       "    }\n",
       "\n",
       "    .dataframe thead th {\n",
       "        text-align: right;\n",
       "    }\n",
       "</style>\n",
       "<table border=\"1\" class=\"dataframe\">\n",
       "  <thead>\n",
       "    <tr style=\"text-align: right;\">\n",
       "      <th></th>\n",
       "      <th>Algorithm</th>\n",
       "      <th>ProofType</th>\n",
       "      <th>TotalCoinsMined</th>\n",
       "      <th>TotalCoinSupply</th>\n",
       "    </tr>\n",
       "  </thead>\n",
       "  <tbody>\n",
       "    <tr>\n",
       "      <th>42</th>\n",
       "      <td>Scrypt</td>\n",
       "      <td>PoW/PoS</td>\n",
       "      <td>4.199995e+01</td>\n",
       "      <td>4.200000e+01</td>\n",
       "    </tr>\n",
       "    <tr>\n",
       "      <th>404</th>\n",
       "      <td>Scrypt</td>\n",
       "      <td>PoW/PoS</td>\n",
       "      <td>1.055185e+09</td>\n",
       "      <td>5.320000e+08</td>\n",
       "    </tr>\n",
       "    <tr>\n",
       "      <th>1337</th>\n",
       "      <td>X13</td>\n",
       "      <td>PoW/PoS</td>\n",
       "      <td>2.927942e+10</td>\n",
       "      <td>3.141590e+11</td>\n",
       "    </tr>\n",
       "    <tr>\n",
       "      <th>BTC</th>\n",
       "      <td>SHA-256</td>\n",
       "      <td>PoW</td>\n",
       "      <td>1.792718e+07</td>\n",
       "      <td>2.100000e+07</td>\n",
       "    </tr>\n",
       "    <tr>\n",
       "      <th>ETH</th>\n",
       "      <td>Ethash</td>\n",
       "      <td>PoW</td>\n",
       "      <td>1.076842e+08</td>\n",
       "      <td>0.000000e+00</td>\n",
       "    </tr>\n",
       "    <tr>\n",
       "      <th>LTC</th>\n",
       "      <td>Scrypt</td>\n",
       "      <td>PoW</td>\n",
       "      <td>6.303924e+07</td>\n",
       "      <td>8.400000e+07</td>\n",
       "    </tr>\n",
       "    <tr>\n",
       "      <th>DASH</th>\n",
       "      <td>X11</td>\n",
       "      <td>PoW/PoS</td>\n",
       "      <td>9.031294e+06</td>\n",
       "      <td>2.200000e+07</td>\n",
       "    </tr>\n",
       "    <tr>\n",
       "      <th>XMR</th>\n",
       "      <td>CryptoNight-V7</td>\n",
       "      <td>PoW</td>\n",
       "      <td>1.720114e+07</td>\n",
       "      <td>0.000000e+00</td>\n",
       "    </tr>\n",
       "    <tr>\n",
       "      <th>ETC</th>\n",
       "      <td>Ethash</td>\n",
       "      <td>PoW</td>\n",
       "      <td>1.133597e+08</td>\n",
       "      <td>2.100000e+08</td>\n",
       "    </tr>\n",
       "    <tr>\n",
       "      <th>ZEC</th>\n",
       "      <td>Equihash</td>\n",
       "      <td>PoW</td>\n",
       "      <td>7.383056e+06</td>\n",
       "      <td>2.100000e+07</td>\n",
       "    </tr>\n",
       "  </tbody>\n",
       "</table>\n",
       "</div>"
      ],
      "text/plain": [
       "           Algorithm ProofType  TotalCoinsMined  TotalCoinSupply\n",
       "42            Scrypt   PoW/PoS     4.199995e+01     4.200000e+01\n",
       "404           Scrypt   PoW/PoS     1.055185e+09     5.320000e+08\n",
       "1337             X13   PoW/PoS     2.927942e+10     3.141590e+11\n",
       "BTC          SHA-256       PoW     1.792718e+07     2.100000e+07\n",
       "ETH           Ethash       PoW     1.076842e+08     0.000000e+00\n",
       "LTC           Scrypt       PoW     6.303924e+07     8.400000e+07\n",
       "DASH             X11   PoW/PoS     9.031294e+06     2.200000e+07\n",
       "XMR   CryptoNight-V7       PoW     1.720114e+07     0.000000e+00\n",
       "ETC           Ethash       PoW     1.133597e+08     2.100000e+08\n",
       "ZEC         Equihash       PoW     7.383056e+06     2.100000e+07"
      ]
     },
     "execution_count": 227,
     "metadata": {},
     "output_type": "execute_result"
    }
   ],
   "source": [
    "crypto_df_2.head()\n",
    "cyrpto_df=crypto_df_2\n",
    "cyrpto_df.head(10)"
   ]
  },
  {
   "cell_type": "code",
   "execution_count": 228,
   "metadata": {},
   "outputs": [
    {
     "data": {
      "text/html": [
       "<div>\n",
       "<style scoped>\n",
       "    .dataframe tbody tr th:only-of-type {\n",
       "        vertical-align: middle;\n",
       "    }\n",
       "\n",
       "    .dataframe tbody tr th {\n",
       "        vertical-align: top;\n",
       "    }\n",
       "\n",
       "    .dataframe thead th {\n",
       "        text-align: right;\n",
       "    }\n",
       "</style>\n",
       "<table border=\"1\" class=\"dataframe\">\n",
       "  <thead>\n",
       "    <tr style=\"text-align: right;\">\n",
       "      <th></th>\n",
       "      <th>TotalCoinsMined</th>\n",
       "      <th>TotalCoinSupply</th>\n",
       "      <th>Algorithm_1GB AES Pattern Search</th>\n",
       "      <th>Algorithm_536</th>\n",
       "      <th>Algorithm_Argon2d</th>\n",
       "      <th>Algorithm_BLAKE256</th>\n",
       "      <th>Algorithm_Blake</th>\n",
       "      <th>Algorithm_Blake2S</th>\n",
       "      <th>Algorithm_Blake2b</th>\n",
       "      <th>Algorithm_C11</th>\n",
       "      <th>...</th>\n",
       "      <th>ProofType_PoW/PoS</th>\n",
       "      <th>ProofType_PoW/PoS</th>\n",
       "      <th>ProofType_PoW/PoW</th>\n",
       "      <th>ProofType_PoW/nPoS</th>\n",
       "      <th>ProofType_Pos</th>\n",
       "      <th>ProofType_Proof of Authority</th>\n",
       "      <th>ProofType_Proof of Trust</th>\n",
       "      <th>ProofType_TPoS</th>\n",
       "      <th>ProofType_Zero-Knowledge Proof</th>\n",
       "      <th>ProofType_dPoW/PoW</th>\n",
       "    </tr>\n",
       "  </thead>\n",
       "  <tbody>\n",
       "    <tr>\n",
       "      <th>42</th>\n",
       "      <td>4.199995e+01</td>\n",
       "      <td>4.200000e+01</td>\n",
       "      <td>0</td>\n",
       "      <td>0</td>\n",
       "      <td>0</td>\n",
       "      <td>0</td>\n",
       "      <td>0</td>\n",
       "      <td>0</td>\n",
       "      <td>0</td>\n",
       "      <td>0</td>\n",
       "      <td>...</td>\n",
       "      <td>1</td>\n",
       "      <td>0</td>\n",
       "      <td>0</td>\n",
       "      <td>0</td>\n",
       "      <td>0</td>\n",
       "      <td>0</td>\n",
       "      <td>0</td>\n",
       "      <td>0</td>\n",
       "      <td>0</td>\n",
       "      <td>0</td>\n",
       "    </tr>\n",
       "    <tr>\n",
       "      <th>404</th>\n",
       "      <td>1.055185e+09</td>\n",
       "      <td>5.320000e+08</td>\n",
       "      <td>0</td>\n",
       "      <td>0</td>\n",
       "      <td>0</td>\n",
       "      <td>0</td>\n",
       "      <td>0</td>\n",
       "      <td>0</td>\n",
       "      <td>0</td>\n",
       "      <td>0</td>\n",
       "      <td>...</td>\n",
       "      <td>1</td>\n",
       "      <td>0</td>\n",
       "      <td>0</td>\n",
       "      <td>0</td>\n",
       "      <td>0</td>\n",
       "      <td>0</td>\n",
       "      <td>0</td>\n",
       "      <td>0</td>\n",
       "      <td>0</td>\n",
       "      <td>0</td>\n",
       "    </tr>\n",
       "    <tr>\n",
       "      <th>1337</th>\n",
       "      <td>2.927942e+10</td>\n",
       "      <td>3.141590e+11</td>\n",
       "      <td>0</td>\n",
       "      <td>0</td>\n",
       "      <td>0</td>\n",
       "      <td>0</td>\n",
       "      <td>0</td>\n",
       "      <td>0</td>\n",
       "      <td>0</td>\n",
       "      <td>0</td>\n",
       "      <td>...</td>\n",
       "      <td>1</td>\n",
       "      <td>0</td>\n",
       "      <td>0</td>\n",
       "      <td>0</td>\n",
       "      <td>0</td>\n",
       "      <td>0</td>\n",
       "      <td>0</td>\n",
       "      <td>0</td>\n",
       "      <td>0</td>\n",
       "      <td>0</td>\n",
       "    </tr>\n",
       "    <tr>\n",
       "      <th>BTC</th>\n",
       "      <td>1.792718e+07</td>\n",
       "      <td>2.100000e+07</td>\n",
       "      <td>0</td>\n",
       "      <td>0</td>\n",
       "      <td>0</td>\n",
       "      <td>0</td>\n",
       "      <td>0</td>\n",
       "      <td>0</td>\n",
       "      <td>0</td>\n",
       "      <td>0</td>\n",
       "      <td>...</td>\n",
       "      <td>0</td>\n",
       "      <td>0</td>\n",
       "      <td>0</td>\n",
       "      <td>0</td>\n",
       "      <td>0</td>\n",
       "      <td>0</td>\n",
       "      <td>0</td>\n",
       "      <td>0</td>\n",
       "      <td>0</td>\n",
       "      <td>0</td>\n",
       "    </tr>\n",
       "    <tr>\n",
       "      <th>ETH</th>\n",
       "      <td>1.076842e+08</td>\n",
       "      <td>0.000000e+00</td>\n",
       "      <td>0</td>\n",
       "      <td>0</td>\n",
       "      <td>0</td>\n",
       "      <td>0</td>\n",
       "      <td>0</td>\n",
       "      <td>0</td>\n",
       "      <td>0</td>\n",
       "      <td>0</td>\n",
       "      <td>...</td>\n",
       "      <td>0</td>\n",
       "      <td>0</td>\n",
       "      <td>0</td>\n",
       "      <td>0</td>\n",
       "      <td>0</td>\n",
       "      <td>0</td>\n",
       "      <td>0</td>\n",
       "      <td>0</td>\n",
       "      <td>0</td>\n",
       "      <td>0</td>\n",
       "    </tr>\n",
       "    <tr>\n",
       "      <th>...</th>\n",
       "      <td>...</td>\n",
       "      <td>...</td>\n",
       "      <td>...</td>\n",
       "      <td>...</td>\n",
       "      <td>...</td>\n",
       "      <td>...</td>\n",
       "      <td>...</td>\n",
       "      <td>...</td>\n",
       "      <td>...</td>\n",
       "      <td>...</td>\n",
       "      <td>...</td>\n",
       "      <td>...</td>\n",
       "      <td>...</td>\n",
       "      <td>...</td>\n",
       "      <td>...</td>\n",
       "      <td>...</td>\n",
       "      <td>...</td>\n",
       "      <td>...</td>\n",
       "      <td>...</td>\n",
       "      <td>...</td>\n",
       "      <td>...</td>\n",
       "    </tr>\n",
       "    <tr>\n",
       "      <th>ZEPH</th>\n",
       "      <td>2.000000e+09</td>\n",
       "      <td>2.000000e+09</td>\n",
       "      <td>0</td>\n",
       "      <td>0</td>\n",
       "      <td>0</td>\n",
       "      <td>0</td>\n",
       "      <td>0</td>\n",
       "      <td>0</td>\n",
       "      <td>0</td>\n",
       "      <td>0</td>\n",
       "      <td>...</td>\n",
       "      <td>0</td>\n",
       "      <td>0</td>\n",
       "      <td>0</td>\n",
       "      <td>0</td>\n",
       "      <td>0</td>\n",
       "      <td>0</td>\n",
       "      <td>0</td>\n",
       "      <td>0</td>\n",
       "      <td>0</td>\n",
       "      <td>0</td>\n",
       "    </tr>\n",
       "    <tr>\n",
       "      <th>GAP</th>\n",
       "      <td>1.493105e+07</td>\n",
       "      <td>2.500000e+08</td>\n",
       "      <td>0</td>\n",
       "      <td>0</td>\n",
       "      <td>0</td>\n",
       "      <td>0</td>\n",
       "      <td>0</td>\n",
       "      <td>0</td>\n",
       "      <td>0</td>\n",
       "      <td>0</td>\n",
       "      <td>...</td>\n",
       "      <td>1</td>\n",
       "      <td>0</td>\n",
       "      <td>0</td>\n",
       "      <td>0</td>\n",
       "      <td>0</td>\n",
       "      <td>0</td>\n",
       "      <td>0</td>\n",
       "      <td>0</td>\n",
       "      <td>0</td>\n",
       "      <td>0</td>\n",
       "    </tr>\n",
       "    <tr>\n",
       "      <th>BDX</th>\n",
       "      <td>9.802226e+08</td>\n",
       "      <td>1.400223e+09</td>\n",
       "      <td>0</td>\n",
       "      <td>0</td>\n",
       "      <td>0</td>\n",
       "      <td>0</td>\n",
       "      <td>0</td>\n",
       "      <td>0</td>\n",
       "      <td>0</td>\n",
       "      <td>0</td>\n",
       "      <td>...</td>\n",
       "      <td>0</td>\n",
       "      <td>0</td>\n",
       "      <td>0</td>\n",
       "      <td>0</td>\n",
       "      <td>0</td>\n",
       "      <td>0</td>\n",
       "      <td>0</td>\n",
       "      <td>0</td>\n",
       "      <td>0</td>\n",
       "      <td>0</td>\n",
       "    </tr>\n",
       "    <tr>\n",
       "      <th>ZEN</th>\n",
       "      <td>7.296538e+06</td>\n",
       "      <td>2.100000e+07</td>\n",
       "      <td>0</td>\n",
       "      <td>0</td>\n",
       "      <td>0</td>\n",
       "      <td>0</td>\n",
       "      <td>0</td>\n",
       "      <td>0</td>\n",
       "      <td>0</td>\n",
       "      <td>0</td>\n",
       "      <td>...</td>\n",
       "      <td>0</td>\n",
       "      <td>0</td>\n",
       "      <td>0</td>\n",
       "      <td>0</td>\n",
       "      <td>0</td>\n",
       "      <td>0</td>\n",
       "      <td>0</td>\n",
       "      <td>0</td>\n",
       "      <td>0</td>\n",
       "      <td>0</td>\n",
       "    </tr>\n",
       "    <tr>\n",
       "      <th>XBC</th>\n",
       "      <td>1.283270e+05</td>\n",
       "      <td>1.000000e+06</td>\n",
       "      <td>0</td>\n",
       "      <td>0</td>\n",
       "      <td>0</td>\n",
       "      <td>0</td>\n",
       "      <td>0</td>\n",
       "      <td>0</td>\n",
       "      <td>0</td>\n",
       "      <td>0</td>\n",
       "      <td>...</td>\n",
       "      <td>0</td>\n",
       "      <td>0</td>\n",
       "      <td>0</td>\n",
       "      <td>0</td>\n",
       "      <td>0</td>\n",
       "      <td>0</td>\n",
       "      <td>0</td>\n",
       "      <td>0</td>\n",
       "      <td>0</td>\n",
       "      <td>0</td>\n",
       "    </tr>\n",
       "  </tbody>\n",
       "</table>\n",
       "<p>532 rows × 98 columns</p>\n",
       "</div>"
      ],
      "text/plain": [
       "      TotalCoinsMined  TotalCoinSupply  Algorithm_1GB AES Pattern Search  \\\n",
       "42       4.199995e+01     4.200000e+01                                 0   \n",
       "404      1.055185e+09     5.320000e+08                                 0   \n",
       "1337     2.927942e+10     3.141590e+11                                 0   \n",
       "BTC      1.792718e+07     2.100000e+07                                 0   \n",
       "ETH      1.076842e+08     0.000000e+00                                 0   \n",
       "...               ...              ...                               ...   \n",
       "ZEPH     2.000000e+09     2.000000e+09                                 0   \n",
       "GAP      1.493105e+07     2.500000e+08                                 0   \n",
       "BDX      9.802226e+08     1.400223e+09                                 0   \n",
       "ZEN      7.296538e+06     2.100000e+07                                 0   \n",
       "XBC      1.283270e+05     1.000000e+06                                 0   \n",
       "\n",
       "      Algorithm_536  Algorithm_Argon2d  Algorithm_BLAKE256  Algorithm_Blake  \\\n",
       "42                0                  0                   0                0   \n",
       "404               0                  0                   0                0   \n",
       "1337              0                  0                   0                0   \n",
       "BTC               0                  0                   0                0   \n",
       "ETH               0                  0                   0                0   \n",
       "...             ...                ...                 ...              ...   \n",
       "ZEPH              0                  0                   0                0   \n",
       "GAP               0                  0                   0                0   \n",
       "BDX               0                  0                   0                0   \n",
       "ZEN               0                  0                   0                0   \n",
       "XBC               0                  0                   0                0   \n",
       "\n",
       "      Algorithm_Blake2S  Algorithm_Blake2b  Algorithm_C11  ...  \\\n",
       "42                    0                  0              0  ...   \n",
       "404                   0                  0              0  ...   \n",
       "1337                  0                  0              0  ...   \n",
       "BTC                   0                  0              0  ...   \n",
       "ETH                   0                  0              0  ...   \n",
       "...                 ...                ...            ...  ...   \n",
       "ZEPH                  0                  0              0  ...   \n",
       "GAP                   0                  0              0  ...   \n",
       "BDX                   0                  0              0  ...   \n",
       "ZEN                   0                  0              0  ...   \n",
       "XBC                   0                  0              0  ...   \n",
       "\n",
       "      ProofType_PoW/PoS  ProofType_PoW/PoS   ProofType_PoW/PoW  \\\n",
       "42                    1                   0                  0   \n",
       "404                   1                   0                  0   \n",
       "1337                  1                   0                  0   \n",
       "BTC                   0                   0                  0   \n",
       "ETH                   0                   0                  0   \n",
       "...                 ...                 ...                ...   \n",
       "ZEPH                  0                   0                  0   \n",
       "GAP                   1                   0                  0   \n",
       "BDX                   0                   0                  0   \n",
       "ZEN                   0                   0                  0   \n",
       "XBC                   0                   0                  0   \n",
       "\n",
       "      ProofType_PoW/nPoS  ProofType_Pos  ProofType_Proof of Authority  \\\n",
       "42                     0              0                             0   \n",
       "404                    0              0                             0   \n",
       "1337                   0              0                             0   \n",
       "BTC                    0              0                             0   \n",
       "ETH                    0              0                             0   \n",
       "...                  ...            ...                           ...   \n",
       "ZEPH                   0              0                             0   \n",
       "GAP                    0              0                             0   \n",
       "BDX                    0              0                             0   \n",
       "ZEN                    0              0                             0   \n",
       "XBC                    0              0                             0   \n",
       "\n",
       "      ProofType_Proof of Trust  ProofType_TPoS  \\\n",
       "42                           0               0   \n",
       "404                          0               0   \n",
       "1337                         0               0   \n",
       "BTC                          0               0   \n",
       "ETH                          0               0   \n",
       "...                        ...             ...   \n",
       "ZEPH                         0               0   \n",
       "GAP                          0               0   \n",
       "BDX                          0               0   \n",
       "ZEN                          0               0   \n",
       "XBC                          0               0   \n",
       "\n",
       "      ProofType_Zero-Knowledge Proof  ProofType_dPoW/PoW  \n",
       "42                                 0                   0  \n",
       "404                                0                   0  \n",
       "1337                               0                   0  \n",
       "BTC                                0                   0  \n",
       "ETH                                0                   0  \n",
       "...                              ...                 ...  \n",
       "ZEPH                               0                   0  \n",
       "GAP                                0                   0  \n",
       "BDX                                0                   0  \n",
       "ZEN                                0                   0  \n",
       "XBC                                0                   0  \n",
       "\n",
       "[532 rows x 98 columns]"
      ]
     },
     "execution_count": 228,
     "metadata": {},
     "output_type": "execute_result"
    }
   ],
   "source": [
    "# Use get_dummies() to create variables for text features.\n",
    "X=pd.get_dummies(crypto_df_2, columns=[\"Algorithm\", \"ProofType\"])\n",
    "X"
   ]
  },
  {
   "cell_type": "code",
   "execution_count": 229,
   "metadata": {},
   "outputs": [
    {
     "data": {
      "text/plain": [
       "TotalCoinsMined                     float64\n",
       "TotalCoinSupply                     float64\n",
       "Algorithm_1GB AES Pattern Search      uint8\n",
       "Algorithm_536                         uint8\n",
       "Algorithm_Argon2d                     uint8\n",
       "                                     ...   \n",
       "ProofType_Proof of Authority          uint8\n",
       "ProofType_Proof of Trust              uint8\n",
       "ProofType_TPoS                        uint8\n",
       "ProofType_Zero-Knowledge Proof        uint8\n",
       "ProofType_dPoW/PoW                    uint8\n",
       "Length: 98, dtype: object"
      ]
     },
     "execution_count": 229,
     "metadata": {},
     "output_type": "execute_result"
    }
   ],
   "source": [
    "X.dtypes"
   ]
  },
  {
   "cell_type": "code",
   "execution_count": 230,
   "metadata": {},
   "outputs": [
    {
     "name": "stdout",
     "output_type": "stream",
     "text": [
      "[[-0.11710816 -0.15287029 -0.0433963  -0.0433963  -0.0433963  -0.06142951\n",
      "  -0.07530656 -0.0433963  -0.06142951 -0.06142951 -0.0433963  -0.0433963\n",
      "  -0.19245009 -0.06142951 -0.09740465 -0.0433963  -0.11547005 -0.07530656\n",
      "  -0.0433963  -0.0433963  -0.15191091 -0.0433963  -0.13118084 -0.0433963\n",
      "  -0.0433963  -0.08703883 -0.0433963  -0.0433963  -0.0433963  -0.0433963\n",
      "  -0.06142951 -0.0433963  -0.08703883 -0.08703883 -0.08703883 -0.0433963\n",
      "  -0.13118084 -0.13840913 -0.13840913 -0.0433963  -0.06142951 -0.0433963\n",
      "  -0.07530656 -0.18168574 -0.0433963  -0.0433963  -0.0433963  -0.07530656\n",
      "  -0.15826614 -0.31491833 -0.0433963  -0.08703883 -0.07530656 -0.06142951\n",
      "   1.38675049 -0.0433963  -0.0433963  -0.06142951 -0.0433963  -0.0433963\n",
      "  -0.0433963  -0.0433963  -0.0433963  -0.0433963  -0.0433963  -0.0433963\n",
      "  -0.39879994 -0.0433963  -0.18168574 -0.0433963  -0.08703883 -0.08703883\n",
      "  -0.10680283 -0.0433963  -0.13118084 -0.0433963  -0.0433963  -0.0433963\n",
      "  -0.0433963  -0.07530656 -0.43911856 -0.0433963  -0.06142951 -0.0433963\n",
      "  -0.0433963  -0.89632016 -0.0433963  -0.0433963   1.42222617 -0.0433963\n",
      "  -0.0433963  -0.0433963  -0.0433963  -0.0433963  -0.0433963  -0.0433963\n",
      "  -0.0433963  -0.0433963 ]\n",
      " [-0.09396955 -0.14500899 -0.0433963  -0.0433963  -0.0433963  -0.06142951\n",
      "  -0.07530656 -0.0433963  -0.06142951 -0.06142951 -0.0433963  -0.0433963\n",
      "  -0.19245009 -0.06142951 -0.09740465 -0.0433963  -0.11547005 -0.07530656\n",
      "  -0.0433963  -0.0433963  -0.15191091 -0.0433963  -0.13118084 -0.0433963\n",
      "  -0.0433963  -0.08703883 -0.0433963  -0.0433963  -0.0433963  -0.0433963\n",
      "  -0.06142951 -0.0433963  -0.08703883 -0.08703883 -0.08703883 -0.0433963\n",
      "  -0.13118084 -0.13840913 -0.13840913 -0.0433963  -0.06142951 -0.0433963\n",
      "  -0.07530656 -0.18168574 -0.0433963  -0.0433963  -0.0433963  -0.07530656\n",
      "  -0.15826614 -0.31491833 -0.0433963  -0.08703883 -0.07530656 -0.06142951\n",
      "   1.38675049 -0.0433963  -0.0433963  -0.06142951 -0.0433963  -0.0433963\n",
      "  -0.0433963  -0.0433963  -0.0433963  -0.0433963  -0.0433963  -0.0433963\n",
      "  -0.39879994 -0.0433963  -0.18168574 -0.0433963  -0.08703883 -0.08703883\n",
      "  -0.10680283 -0.0433963  -0.13118084 -0.0433963  -0.0433963  -0.0433963\n",
      "  -0.0433963  -0.07530656 -0.43911856 -0.0433963  -0.06142951 -0.0433963\n",
      "  -0.0433963  -0.89632016 -0.0433963  -0.0433963   1.42222617 -0.0433963\n",
      "  -0.0433963  -0.0433963  -0.0433963  -0.0433963  -0.0433963  -0.0433963\n",
      "  -0.0433963  -0.0433963 ]\n",
      " [ 0.52494542  4.48942055 -0.0433963  -0.0433963  -0.0433963  -0.06142951\n",
      "  -0.07530656 -0.0433963  -0.06142951 -0.06142951 -0.0433963  -0.0433963\n",
      "  -0.19245009 -0.06142951 -0.09740465 -0.0433963  -0.11547005 -0.07530656\n",
      "  -0.0433963  -0.0433963  -0.15191091 -0.0433963  -0.13118084 -0.0433963\n",
      "  -0.0433963  -0.08703883 -0.0433963  -0.0433963  -0.0433963  -0.0433963\n",
      "  -0.06142951 -0.0433963  -0.08703883 -0.08703883 -0.08703883 -0.0433963\n",
      "  -0.13118084 -0.13840913 -0.13840913 -0.0433963  -0.06142951 -0.0433963\n",
      "  -0.07530656 -0.18168574 -0.0433963  -0.0433963  -0.0433963  -0.07530656\n",
      "  -0.15826614 -0.31491833 -0.0433963  -0.08703883 -0.07530656 -0.06142951\n",
      "  -0.72111026 -0.0433963  -0.0433963  -0.06142951 -0.0433963  -0.0433963\n",
      "  -0.0433963  -0.0433963  -0.0433963  -0.0433963  -0.0433963  -0.0433963\n",
      "  -0.39879994 -0.0433963   5.50400923 -0.0433963  -0.08703883 -0.08703883\n",
      "  -0.10680283 -0.0433963  -0.13118084 -0.0433963  -0.0433963  -0.0433963\n",
      "  -0.0433963  -0.07530656 -0.43911856 -0.0433963  -0.06142951 -0.0433963\n",
      "  -0.0433963  -0.89632016 -0.0433963  -0.0433963   1.42222617 -0.0433963\n",
      "  -0.0433963  -0.0433963  -0.0433963  -0.0433963  -0.0433963  -0.0433963\n",
      "  -0.0433963  -0.0433963 ]\n",
      " [-0.11671505 -0.15255997 -0.0433963  -0.0433963  -0.0433963  -0.06142951\n",
      "  -0.07530656 -0.0433963  -0.06142951 -0.06142951 -0.0433963  -0.0433963\n",
      "  -0.19245009 -0.06142951 -0.09740465 -0.0433963  -0.11547005 -0.07530656\n",
      "  -0.0433963  -0.0433963  -0.15191091 -0.0433963  -0.13118084 -0.0433963\n",
      "  -0.0433963  -0.08703883 -0.0433963  -0.0433963  -0.0433963  -0.0433963\n",
      "  -0.06142951 -0.0433963  -0.08703883 -0.08703883 -0.08703883 -0.0433963\n",
      "  -0.13118084 -0.13840913 -0.13840913 -0.0433963  -0.06142951 -0.0433963\n",
      "  -0.07530656 -0.18168574 -0.0433963  -0.0433963  -0.0433963  -0.07530656\n",
      "  -0.15826614  3.17542648 -0.0433963  -0.08703883 -0.07530656 -0.06142951\n",
      "  -0.72111026 -0.0433963  -0.0433963  -0.06142951 -0.0433963  -0.0433963\n",
      "  -0.0433963  -0.0433963  -0.0433963  -0.0433963  -0.0433963  -0.0433963\n",
      "  -0.39879994 -0.0433963  -0.18168574 -0.0433963  -0.08703883 -0.08703883\n",
      "  -0.10680283 -0.0433963  -0.13118084 -0.0433963  -0.0433963  -0.0433963\n",
      "  -0.0433963  -0.07530656 -0.43911856 -0.0433963  -0.06142951 -0.0433963\n",
      "  -0.0433963   1.11567277 -0.0433963  -0.0433963  -0.70312305 -0.0433963\n",
      "  -0.0433963  -0.0433963  -0.0433963  -0.0433963  -0.0433963  -0.0433963\n",
      "  -0.0433963  -0.0433963 ]\n",
      " [-0.11474681 -0.15287029 -0.0433963  -0.0433963  -0.0433963  -0.06142951\n",
      "  -0.07530656 -0.0433963  -0.06142951 -0.06142951 -0.0433963  -0.0433963\n",
      "  -0.19245009 -0.06142951 -0.09740465 -0.0433963  -0.11547005 -0.07530656\n",
      "  -0.0433963  -0.0433963  -0.15191091 -0.0433963   7.62306442 -0.0433963\n",
      "  -0.0433963  -0.08703883 -0.0433963  -0.0433963  -0.0433963  -0.0433963\n",
      "  -0.06142951 -0.0433963  -0.08703883 -0.08703883 -0.08703883 -0.0433963\n",
      "  -0.13118084 -0.13840913 -0.13840913 -0.0433963  -0.06142951 -0.0433963\n",
      "  -0.07530656 -0.18168574 -0.0433963  -0.0433963  -0.0433963  -0.07530656\n",
      "  -0.15826614 -0.31491833 -0.0433963  -0.08703883 -0.07530656 -0.06142951\n",
      "  -0.72111026 -0.0433963  -0.0433963  -0.06142951 -0.0433963  -0.0433963\n",
      "  -0.0433963  -0.0433963  -0.0433963  -0.0433963  -0.0433963  -0.0433963\n",
      "  -0.39879994 -0.0433963  -0.18168574 -0.0433963  -0.08703883 -0.08703883\n",
      "  -0.10680283 -0.0433963  -0.13118084 -0.0433963  -0.0433963  -0.0433963\n",
      "  -0.0433963  -0.07530656 -0.43911856 -0.0433963  -0.06142951 -0.0433963\n",
      "  -0.0433963   1.11567277 -0.0433963  -0.0433963  -0.70312305 -0.0433963\n",
      "  -0.0433963  -0.0433963  -0.0433963  -0.0433963  -0.0433963  -0.0433963\n",
      "  -0.0433963  -0.0433963 ]]\n"
     ]
    }
   ],
   "source": [
    "# Standardize the data with StandardScaler().\n",
    "df_scaled = StandardScaler().fit_transform(X)\n",
    "print(df_scaled[0:5])"
   ]
  },
  {
   "cell_type": "markdown",
   "metadata": {},
   "source": [
    "### Deliverable 2: Reducing Data Dimensions Using PCA"
   ]
  },
  {
   "cell_type": "code",
   "execution_count": 231,
   "metadata": {},
   "outputs": [],
   "source": [
    "# Using PCA to reduce dimension to three principal components.\n",
    "pca = PCA(n_components=3)\n",
    "\n",
    "# Get three principal components for the data.\n",
    "df_pca = pca.fit_transform(df_scaled)"
   ]
  },
  {
   "cell_type": "code",
   "execution_count": 232,
   "metadata": {},
   "outputs": [
    {
     "data": {
      "text/html": [
       "<div>\n",
       "<style scoped>\n",
       "    .dataframe tbody tr th:only-of-type {\n",
       "        vertical-align: middle;\n",
       "    }\n",
       "\n",
       "    .dataframe tbody tr th {\n",
       "        vertical-align: top;\n",
       "    }\n",
       "\n",
       "    .dataframe thead th {\n",
       "        text-align: right;\n",
       "    }\n",
       "</style>\n",
       "<table border=\"1\" class=\"dataframe\">\n",
       "  <thead>\n",
       "    <tr style=\"text-align: right;\">\n",
       "      <th></th>\n",
       "      <th>PC1</th>\n",
       "      <th>PC2</th>\n",
       "      <th>PC3</th>\n",
       "    </tr>\n",
       "  </thead>\n",
       "  <tbody>\n",
       "    <tr>\n",
       "      <th>42</th>\n",
       "      <td>-0.331952</td>\n",
       "      <td>1.075505</td>\n",
       "      <td>-0.439047</td>\n",
       "    </tr>\n",
       "    <tr>\n",
       "      <th>404</th>\n",
       "      <td>-0.315303</td>\n",
       "      <td>1.075703</td>\n",
       "      <td>-0.439319</td>\n",
       "    </tr>\n",
       "    <tr>\n",
       "      <th>1337</th>\n",
       "      <td>2.308701</td>\n",
       "      <td>1.639662</td>\n",
       "      <td>-0.518416</td>\n",
       "    </tr>\n",
       "    <tr>\n",
       "      <th>BTC</th>\n",
       "      <td>-0.142642</td>\n",
       "      <td>-1.336169</td>\n",
       "      <td>0.121438</td>\n",
       "    </tr>\n",
       "    <tr>\n",
       "      <th>ETH</th>\n",
       "      <td>-0.154364</td>\n",
       "      <td>-2.016160</td>\n",
       "      <td>0.258006</td>\n",
       "    </tr>\n",
       "    <tr>\n",
       "      <th>LTC</th>\n",
       "      <td>-0.169217</td>\n",
       "      <td>-1.079709</td>\n",
       "      <td>-0.021672</td>\n",
       "    </tr>\n",
       "    <tr>\n",
       "      <th>DASH</th>\n",
       "      <td>-0.387694</td>\n",
       "      <td>1.168750</td>\n",
       "      <td>-0.380332</td>\n",
       "    </tr>\n",
       "    <tr>\n",
       "      <th>XMR</th>\n",
       "      <td>-0.154731</td>\n",
       "      <td>-2.286949</td>\n",
       "      <td>0.319336</td>\n",
       "    </tr>\n",
       "    <tr>\n",
       "      <th>ETC</th>\n",
       "      <td>-0.152808</td>\n",
       "      <td>-2.016256</td>\n",
       "      <td>0.257991</td>\n",
       "    </tr>\n",
       "    <tr>\n",
       "      <th>ZEC</th>\n",
       "      <td>-0.149832</td>\n",
       "      <td>-2.076770</td>\n",
       "      <td>0.355358</td>\n",
       "    </tr>\n",
       "  </tbody>\n",
       "</table>\n",
       "</div>"
      ],
      "text/plain": [
       "           PC1       PC2       PC3\n",
       "42   -0.331952  1.075505 -0.439047\n",
       "404  -0.315303  1.075703 -0.439319\n",
       "1337  2.308701  1.639662 -0.518416\n",
       "BTC  -0.142642 -1.336169  0.121438\n",
       "ETH  -0.154364 -2.016160  0.258006\n",
       "LTC  -0.169217 -1.079709 -0.021672\n",
       "DASH -0.387694  1.168750 -0.380332\n",
       "XMR  -0.154731 -2.286949  0.319336\n",
       "ETC  -0.152808 -2.016256  0.257991\n",
       "ZEC  -0.149832 -2.076770  0.355358"
      ]
     },
     "execution_count": 232,
     "metadata": {},
     "output_type": "execute_result"
    }
   ],
   "source": [
    "# Create a DataFrame with the three principal components.\n",
    "df_index=(X.index.tolist())\n",
    "pcs_df = pd.DataFrame(\n",
    "    data=df_pca, columns=[\"PC1\", \"PC2\",\"PC3\"], index = df_index\n",
    ")\n",
    "pcs_df.head(10)"
   ]
  },
  {
   "cell_type": "code",
   "execution_count": 233,
   "metadata": {},
   "outputs": [],
   "source": [
    "# Fetch the explained variance\n",
    "#pca.explained_variance_ratio_"
   ]
  },
  {
   "cell_type": "markdown",
   "metadata": {},
   "source": [
    "### Deliverable 3: Clustering Crytocurrencies Using K-Means\n",
    "\n",
    "#### Finding the Best Value for `k` Using the Elbow Curve"
   ]
  },
  {
   "cell_type": "code",
   "execution_count": 234,
   "metadata": {},
   "outputs": [
    {
     "name": "stderr",
     "output_type": "stream",
     "text": [
      "C:\\Users\\laura\\anaconda3\\envs\\mlenv\\lib\\site-packages\\sklearn\\cluster\\_kmeans.py:882: UserWarning:\n",
      "\n",
      "KMeans is known to have a memory leak on Windows with MKL, when there are less chunks than available threads. You can avoid it by setting the environment variable OMP_NUM_THREADS=3.\n",
      "\n"
     ]
    },
    {
     "data": {
      "image/png": "[encoded data removed]",
      "text/plain": [
       "<Figure size 432x288 with 1 Axes>"
      ]
     },
     "metadata": {
      "needs_background": "light"
     },
     "output_type": "display_data"
    }
   ],
   "source": [
    "# Create an elbow curve to find the best value for K.\n",
    "\n",
    "# Finding the best value for k\n",
    "inertia = []\n",
    "k = list(range(1, 11))\n",
    "\n",
    "# Calculate the inertia for the range of k values\n",
    "for i in k:\n",
    "    km = KMeans(n_clusters=i, random_state=0)\n",
    "    km.fit(pcs_df)\n",
    "    inertia.append(km.inertia_)\n",
    "\n",
    "# Creating the Elbow Curve\n",
    "elbow_data = {\"k\": k, \"inertia\": inertia}\n",
    "df_elbow = pd.DataFrame(elbow_data)\n",
    "\n",
    "plt.plot(df_elbow['k'], df_elbow['inertia'])\n",
    "plt.xticks(list(range(11)))\n",
    "plt.title('Elbow Curve')\n",
    "plt.xlabel('Number of clusters')\n",
    "plt.ylabel('Inertia')\n",
    "plt.show()\n"
   ]
  },
  {
   "cell_type": "markdown",
   "metadata": {},
   "source": [
    "Running K-Means with `k=4`"
   ]
  },
  {
   "cell_type": "code",
   "execution_count": 235,
   "metadata": {},
   "outputs": [
    {
     "data": {
      "text/html": [
       "<div>\n",
       "<style scoped>\n",
       "    .dataframe tbody tr th:only-of-type {\n",
       "        vertical-align: middle;\n",
       "    }\n",
       "\n",
       "    .dataframe tbody tr th {\n",
       "        vertical-align: top;\n",
       "    }\n",
       "\n",
       "    .dataframe thead th {\n",
       "        text-align: right;\n",
       "    }\n",
       "</style>\n",
       "<table border=\"1\" class=\"dataframe\">\n",
       "  <thead>\n",
       "    <tr style=\"text-align: right;\">\n",
       "      <th></th>\n",
       "      <th>PC1</th>\n",
       "      <th>PC2</th>\n",
       "      <th>PC3</th>\n",
       "      <th>class</th>\n",
       "    </tr>\n",
       "  </thead>\n",
       "  <tbody>\n",
       "    <tr>\n",
       "      <th>42</th>\n",
       "      <td>-0.331952</td>\n",
       "      <td>1.075505</td>\n",
       "      <td>-0.439047</td>\n",
       "      <td>0</td>\n",
       "    </tr>\n",
       "    <tr>\n",
       "      <th>404</th>\n",
       "      <td>-0.315303</td>\n",
       "      <td>1.075703</td>\n",
       "      <td>-0.439319</td>\n",
       "      <td>0</td>\n",
       "    </tr>\n",
       "    <tr>\n",
       "      <th>1337</th>\n",
       "      <td>2.308701</td>\n",
       "      <td>1.639662</td>\n",
       "      <td>-0.518416</td>\n",
       "      <td>0</td>\n",
       "    </tr>\n",
       "    <tr>\n",
       "      <th>BTC</th>\n",
       "      <td>-0.142642</td>\n",
       "      <td>-1.336169</td>\n",
       "      <td>0.121438</td>\n",
       "      <td>2</td>\n",
       "    </tr>\n",
       "    <tr>\n",
       "      <th>ETH</th>\n",
       "      <td>-0.154364</td>\n",
       "      <td>-2.016160</td>\n",
       "      <td>0.258006</td>\n",
       "      <td>2</td>\n",
       "    </tr>\n",
       "  </tbody>\n",
       "</table>\n",
       "</div>"
      ],
      "text/plain": [
       "           PC1       PC2       PC3  class\n",
       "42   -0.331952  1.075505 -0.439047      0\n",
       "404  -0.315303  1.075703 -0.439319      0\n",
       "1337  2.308701  1.639662 -0.518416      0\n",
       "BTC  -0.142642 -1.336169  0.121438      2\n",
       "ETH  -0.154364 -2.016160  0.258006      2"
      ]
     },
     "execution_count": 235,
     "metadata": {},
     "output_type": "execute_result"
    }
   ],
   "source": [
    "# Initialize the K-Means model.\n",
    "model = KMeans(n_clusters=4, random_state=0)\n",
    "\n",
    "# Fit the model\n",
    "model.fit(pcs_df)\n",
    "\n",
    "# Predict clusters\n",
    "predictions = model.predict(pcs_df)\n",
    "\n",
    "pcs_df[\"class\"] = model.labels_\n",
    "pcs_df.head()"
   ]
  },
  {
   "cell_type": "code",
   "execution_count": null,
   "metadata": {},
   "outputs": [],
   "source": []
  },
  {
   "cell_type": "code",
   "execution_count": 237,
   "metadata": {},
   "outputs": [],
   "source": [
    "# Create a new DataFrame including predicted clusters and cryptocurrencies features.\n",
    "# Concatentate the crypto_df and pcs_df DataFrames on the same columns.\n",
    "crypto_df_join=pd.concat([crypto_df_2, pcs_df],axis=1)\n",
    "#crypto_df_join"
   ]
  },
  {
   "cell_type": "code",
   "execution_count": 238,
   "metadata": {},
   "outputs": [
    {
     "name": "stdout",
     "output_type": "stream",
     "text": [
      "(532, 9)\n"
     ]
    },
    {
     "data": {
      "text/html": [
       "<div>\n",
       "<style scoped>\n",
       "    .dataframe tbody tr th:only-of-type {\n",
       "        vertical-align: middle;\n",
       "    }\n",
       "\n",
       "    .dataframe tbody tr th {\n",
       "        vertical-align: top;\n",
       "    }\n",
       "\n",
       "    .dataframe thead th {\n",
       "        text-align: right;\n",
       "    }\n",
       "</style>\n",
       "<table border=\"1\" class=\"dataframe\">\n",
       "  <thead>\n",
       "    <tr style=\"text-align: right;\">\n",
       "      <th></th>\n",
       "      <th>Algorithm</th>\n",
       "      <th>ProofType</th>\n",
       "      <th>TotalCoinsMined</th>\n",
       "      <th>TotalCoinSupply</th>\n",
       "      <th>PC1</th>\n",
       "      <th>PC2</th>\n",
       "      <th>PC3</th>\n",
       "      <th>class</th>\n",
       "      <th>CoinName</th>\n",
       "    </tr>\n",
       "  </thead>\n",
       "  <tbody>\n",
       "    <tr>\n",
       "      <th>42</th>\n",
       "      <td>Scrypt</td>\n",
       "      <td>PoW/PoS</td>\n",
       "      <td>4.199995e+01</td>\n",
       "      <td>4.200000e+01</td>\n",
       "      <td>-0.331952</td>\n",
       "      <td>1.075505</td>\n",
       "      <td>-0.439047</td>\n",
       "      <td>0</td>\n",
       "      <td>42 Coin</td>\n",
       "    </tr>\n",
       "    <tr>\n",
       "      <th>404</th>\n",
       "      <td>Scrypt</td>\n",
       "      <td>PoW/PoS</td>\n",
       "      <td>1.055185e+09</td>\n",
       "      <td>5.320000e+08</td>\n",
       "      <td>-0.315303</td>\n",
       "      <td>1.075703</td>\n",
       "      <td>-0.439319</td>\n",
       "      <td>0</td>\n",
       "      <td>404Coin</td>\n",
       "    </tr>\n",
       "    <tr>\n",
       "      <th>1337</th>\n",
       "      <td>X13</td>\n",
       "      <td>PoW/PoS</td>\n",
       "      <td>2.927942e+10</td>\n",
       "      <td>3.141590e+11</td>\n",
       "      <td>2.308701</td>\n",
       "      <td>1.639662</td>\n",
       "      <td>-0.518416</td>\n",
       "      <td>0</td>\n",
       "      <td>EliteCoin</td>\n",
       "    </tr>\n",
       "    <tr>\n",
       "      <th>BTC</th>\n",
       "      <td>SHA-256</td>\n",
       "      <td>PoW</td>\n",
       "      <td>1.792718e+07</td>\n",
       "      <td>2.100000e+07</td>\n",
       "      <td>-0.142642</td>\n",
       "      <td>-1.336169</td>\n",
       "      <td>0.121438</td>\n",
       "      <td>2</td>\n",
       "      <td>Bitcoin</td>\n",
       "    </tr>\n",
       "    <tr>\n",
       "      <th>ETH</th>\n",
       "      <td>Ethash</td>\n",
       "      <td>PoW</td>\n",
       "      <td>1.076842e+08</td>\n",
       "      <td>0.000000e+00</td>\n",
       "      <td>-0.154364</td>\n",
       "      <td>-2.016160</td>\n",
       "      <td>0.258006</td>\n",
       "      <td>2</td>\n",
       "      <td>Ethereum</td>\n",
       "    </tr>\n",
       "    <tr>\n",
       "      <th>LTC</th>\n",
       "      <td>Scrypt</td>\n",
       "      <td>PoW</td>\n",
       "      <td>6.303924e+07</td>\n",
       "      <td>8.400000e+07</td>\n",
       "      <td>-0.169217</td>\n",
       "      <td>-1.079709</td>\n",
       "      <td>-0.021672</td>\n",
       "      <td>2</td>\n",
       "      <td>Litecoin</td>\n",
       "    </tr>\n",
       "    <tr>\n",
       "      <th>DASH</th>\n",
       "      <td>X11</td>\n",
       "      <td>PoW/PoS</td>\n",
       "      <td>9.031294e+06</td>\n",
       "      <td>2.200000e+07</td>\n",
       "      <td>-0.387694</td>\n",
       "      <td>1.168750</td>\n",
       "      <td>-0.380332</td>\n",
       "      <td>0</td>\n",
       "      <td>Dash</td>\n",
       "    </tr>\n",
       "    <tr>\n",
       "      <th>XMR</th>\n",
       "      <td>CryptoNight-V7</td>\n",
       "      <td>PoW</td>\n",
       "      <td>1.720114e+07</td>\n",
       "      <td>0.000000e+00</td>\n",
       "      <td>-0.154731</td>\n",
       "      <td>-2.286949</td>\n",
       "      <td>0.319336</td>\n",
       "      <td>2</td>\n",
       "      <td>Monero</td>\n",
       "    </tr>\n",
       "    <tr>\n",
       "      <th>ETC</th>\n",
       "      <td>Ethash</td>\n",
       "      <td>PoW</td>\n",
       "      <td>1.133597e+08</td>\n",
       "      <td>2.100000e+08</td>\n",
       "      <td>-0.152808</td>\n",
       "      <td>-2.016256</td>\n",
       "      <td>0.257991</td>\n",
       "      <td>2</td>\n",
       "      <td>Ethereum Classic</td>\n",
       "    </tr>\n",
       "    <tr>\n",
       "      <th>ZEC</th>\n",
       "      <td>Equihash</td>\n",
       "      <td>PoW</td>\n",
       "      <td>7.383056e+06</td>\n",
       "      <td>2.100000e+07</td>\n",
       "      <td>-0.149832</td>\n",
       "      <td>-2.076770</td>\n",
       "      <td>0.355358</td>\n",
       "      <td>2</td>\n",
       "      <td>ZCash</td>\n",
       "    </tr>\n",
       "  </tbody>\n",
       "</table>\n",
       "</div>"
      ],
      "text/plain": [
       "           Algorithm ProofType  TotalCoinsMined  TotalCoinSupply       PC1  \\\n",
       "42            Scrypt   PoW/PoS     4.199995e+01     4.200000e+01 -0.331952   \n",
       "404           Scrypt   PoW/PoS     1.055185e+09     5.320000e+08 -0.315303   \n",
       "1337             X13   PoW/PoS     2.927942e+10     3.141590e+11  2.308701   \n",
       "BTC          SHA-256       PoW     1.792718e+07     2.100000e+07 -0.142642   \n",
       "ETH           Ethash       PoW     1.076842e+08     0.000000e+00 -0.154364   \n",
       "LTC           Scrypt       PoW     6.303924e+07     8.400000e+07 -0.169217   \n",
       "DASH             X11   PoW/PoS     9.031294e+06     2.200000e+07 -0.387694   \n",
       "XMR   CryptoNight-V7       PoW     1.720114e+07     0.000000e+00 -0.154731   \n",
       "ETC           Ethash       PoW     1.133597e+08     2.100000e+08 -0.152808   \n",
       "ZEC         Equihash       PoW     7.383056e+06     2.100000e+07 -0.149832   \n",
       "\n",
       "           PC2       PC3  class          CoinName  \n",
       "42    1.075505 -0.439047      0           42 Coin  \n",
       "404   1.075703 -0.439319      0           404Coin  \n",
       "1337  1.639662 -0.518416      0         EliteCoin  \n",
       "BTC  -1.336169  0.121438      2           Bitcoin  \n",
       "ETH  -2.016160  0.258006      2          Ethereum  \n",
       "LTC  -1.079709 -0.021672      2          Litecoin  \n",
       "DASH  1.168750 -0.380332      0              Dash  \n",
       "XMR  -2.286949  0.319336      2            Monero  \n",
       "ETC  -2.016256  0.257991      2  Ethereum Classic  \n",
       "ZEC  -2.076770  0.355358      2             ZCash  "
      ]
     },
     "execution_count": 238,
     "metadata": {},
     "output_type": "execute_result"
    }
   ],
   "source": [
    "# Add a new column, \"CoinName\" to the clustered_df DataFrame that holds the names of the cryptocurrencies. \n",
    "clustered_df=pd.concat([crypto_df_join,name_df],axis=1)\n",
    "\n",
    "#  Add a new column, \"Class\" to the clustered_df DataFrame that holds the predictions.\n",
    "#already done above\n",
    "\n",
    "# Print the shape of the clustered_df\n",
    "print(clustered_df.shape)\n",
    "clustered_df.head(10)"
   ]
  },
  {
   "cell_type": "markdown",
   "metadata": {},
   "source": [
    "### Deliverable 4: Visualizing Cryptocurrencies Results\n",
    "\n",
    "#### 3D-Scatter with Clusters"
   ]
  },
  {
   "cell_type": "code",
   "execution_count": 240,
   "metadata": {},
   "outputs": [
    {
     "data": {
      "application/vnd.plotly.v1+json": {
       "config": {
        "plotlyServerURL": "https://plot.ly"
       },
       "data": [
        {
         "customdata": [
          [
           "Scrypt"
          ],
          [
           "Scrypt"
          ],
          [
           "X13"
          ],
          [
           "X11"
          ],
          [
           "SHA-512"
          ],
          [
           "SHA-256"
          ],
          [
           "SHA-256"
          ],
          [
           "X15"
          ],
          [
           "Scrypt"
          ],
          [
           "Scrypt"
          ],
          [
           "Scrypt"
          ],
          [
           "Scrypt"
          ],
          [
           "Scrypt"
          ],
          [
           "Scrypt"
          ],
          [
           "Groestl"
          ],
          [
           "PoS"
          ],
          [
           "Scrypt"
          ],
          [
           "Scrypt"
          ],
          [
           "X11"
          ],
          [
           "X11"
          ],
          [
           "SHA3"
          ],
          [
           "Scrypt"
          ],
          [
           "SHA-256"
          ],
          [
           "Scrypt"
          ],
          [
           "X13"
          ],
          [
           "X13"
          ],
          [
           "NeoScrypt"
          ],
          [
           "Scrypt"
          ],
          [
           "Scrypt"
          ],
          [
           "Scrypt"
          ],
          [
           "X11"
          ],
          [
           "X11"
          ],
          [
           "Multiple"
          ],
          [
           "PHI1612"
          ],
          [
           "X11"
          ],
          [
           "Scrypt"
          ],
          [
           "Scrypt"
          ],
          [
           "Scrypt"
          ],
          [
           "X11"
          ],
          [
           "Multiple"
          ],
          [
           "X13"
          ],
          [
           "Scrypt"
          ],
          [
           "Shabal256"
          ],
          [
           "Counterparty"
          ],
          [
           "SHA-256"
          ],
          [
           "Groestl"
          ],
          [
           "Scrypt"
          ],
          [
           "X13"
          ],
          [
           "Scrypt"
          ],
          [
           "Scrypt"
          ],
          [
           "X13"
          ],
          [
           "X11"
          ],
          [
           "Scrypt"
          ],
          [
           "X11"
          ],
          [
           "SHA3"
          ],
          [
           "QUAIT"
          ],
          [
           "X11"
          ],
          [
           "Scrypt"
          ],
          [
           "X13"
          ],
          [
           "SHA-256"
          ],
          [
           "X15"
          ],
          [
           "BLAKE256"
          ],
          [
           "SHA-256"
          ],
          [
           "X11"
          ],
          [
           "SHA-256"
          ],
          [
           "NIST5"
          ],
          [
           "Scrypt"
          ],
          [
           "Scrypt"
          ],
          [
           "X11"
          ],
          [
           "Scrypt"
          ],
          [
           "SHA-256"
          ],
          [
           "Scrypt"
          ],
          [
           "PoS"
          ],
          [
           "X11"
          ],
          [
           "SHA-256"
          ],
          [
           "SHA-256"
          ],
          [
           "NIST5"
          ],
          [
           "X11"
          ],
          [
           "POS 3.0"
          ],
          [
           "Scrypt"
          ],
          [
           "Scrypt"
          ],
          [
           "Scrypt"
          ],
          [
           "X13"
          ],
          [
           "X11"
          ],
          [
           "X11"
          ],
          [
           "Scrypt"
          ],
          [
           "SHA-256"
          ],
          [
           "X11"
          ],
          [
           "Scrypt"
          ],
          [
           "Scrypt"
          ],
          [
           "Scrypt"
          ],
          [
           "Scrypt"
          ],
          [
           "SHA-256D"
          ],
          [
           "PoS"
          ],
          [
           "Scrypt"
          ],
          [
           "X11"
          ],
          [
           "PoS"
          ],
          [
           "X13"
          ],
          [
           "X14"
          ],
          [
           "PoS"
          ],
          [
           "SHA-256D"
          ],
          [
           "DPoS"
          ],
          [
           "X11"
          ],
          [
           "X13"
          ],
          [
           "X11"
          ],
          [
           "PoS"
          ],
          [
           "Scrypt"
          ],
          [
           "Scrypt"
          ],
          [
           "PoS"
          ],
          [
           "X11"
          ],
          [
           "SHA-256"
          ],
          [
           "Scrypt"
          ],
          [
           "X11"
          ],
          [
           "Scrypt"
          ],
          [
           "Scrypt"
          ],
          [
           "X11"
          ],
          [
           "Scrypt"
          ],
          [
           "Scrypt"
          ],
          [
           "Scrypt"
          ],
          [
           "Scrypt"
          ],
          [
           "Quark"
          ],
          [
           "QuBit"
          ],
          [
           "Scrypt"
          ],
          [
           "SHA-256"
          ],
          [
           "X11"
          ],
          [
           "Scrypt"
          ],
          [
           "Scrypt"
          ],
          [
           "Scrypt"
          ],
          [
           "Scrypt"
          ],
          [
           "X13"
          ],
          [
           "Scrypt"
          ],
          [
           "Scrypt"
          ],
          [
           "X11"
          ],
          [
           "Blake2S"
          ],
          [
           "X11"
          ],
          [
           "PoS"
          ],
          [
           "X11"
          ],
          [
           "PoS"
          ],
          [
           "X11"
          ],
          [
           "Scrypt"
          ],
          [
           "Scrypt"
          ],
          [
           "Scrypt"
          ],
          [
           "SHA-256"
          ],
          [
           "X11"
          ],
          [
           "Scrypt"
          ],
          [
           "PoS"
          ],
          [
           "Scrypt"
          ],
          [
           "X15"
          ],
          [
           "SHA-256"
          ],
          [
           "POS 3.0"
          ],
          [
           "536"
          ],
          [
           "NIST5"
          ],
          [
           "NIST5"
          ],
          [
           "Skein"
          ],
          [
           "X13"
          ],
          [
           "Scrypt"
          ],
          [
           "X13"
          ],
          [
           "SkunkHash v2 Raptor"
          ],
          [
           "Skein"
          ],
          [
           "X11"
          ],
          [
           "Scrypt"
          ],
          [
           "VeChainThor Authority"
          ],
          [
           "PoS"
          ],
          [
           "Scrypt"
          ],
          [
           "Scrypt"
          ],
          [
           "SHA-512"
          ],
          [
           "Ouroboros"
          ],
          [
           "X11"
          ],
          [
           "NeoScrypt"
          ],
          [
           "Scrypt"
          ],
          [
           "Lyra2REv2"
          ],
          [
           "Scrypt"
          ],
          [
           "SHA-256"
          ],
          [
           "NIST5"
          ],
          [
           "PHI1612"
          ],
          [
           "Scrypt"
          ],
          [
           "Quark"
          ],
          [
           "POS 2.0"
          ],
          [
           "Scrypt"
          ],
          [
           "SHA-256"
          ],
          [
           "X11"
          ],
          [
           "DPoS"
          ],
          [
           "NIST5"
          ],
          [
           "X13"
          ],
          [
           "Scrypt"
          ],
          [
           "NIST5"
          ],
          [
           "Quark"
          ],
          [
           "Scrypt"
          ],
          [
           "Scrypt"
          ],
          [
           "X11"
          ],
          [
           "Quark"
          ],
          [
           "Scrypt"
          ],
          [
           "Scrypt"
          ],
          [
           "X11"
          ],
          [
           "POS 3.0"
          ],
          [
           "Ethash"
          ],
          [
           "Scrypt"
          ],
          [
           "Scrypt"
          ],
          [
           "X13"
          ],
          [
           "Proof-of-BibleHash"
          ],
          [
           "C11"
          ],
          [
           "X11"
          ],
          [
           "XEVAN"
          ],
          [
           "Scrypt"
          ],
          [
           "VBFT"
          ],
          [
           "NIST5"
          ],
          [
           "Scrypt"
          ],
          [
           "Scrypt"
          ],
          [
           "Scrypt"
          ],
          [
           "Green Protocol"
          ],
          [
           "PoS"
          ],
          [
           "Scrypt"
          ],
          [
           "Semux BFT consensus"
          ],
          [
           "Quark"
          ],
          [
           "PoS"
          ],
          [
           "X16R"
          ],
          [
           "Scrypt"
          ],
          [
           "XEVAN"
          ],
          [
           "Scrypt"
          ],
          [
           "Scrypt"
          ],
          [
           "Scrypt"
          ],
          [
           "SHA-256D"
          ],
          [
           "Scrypt"
          ],
          [
           "X15"
          ],
          [
           "Scrypt"
          ],
          [
           "Quark"
          ],
          [
           "SHA-256"
          ],
          [
           "DPoS"
          ],
          [
           "X16R"
          ],
          [
           "Quark"
          ],
          [
           "Quark"
          ],
          [
           "Scrypt"
          ],
          [
           "Lyra2REv2"
          ],
          [
           "Quark"
          ],
          [
           "Scrypt"
          ],
          [
           "X11"
          ],
          [
           "X11"
          ],
          [
           "Scrypt"
          ],
          [
           "PoS"
          ],
          [
           "Keccak"
          ],
          [
           "X11"
          ],
          [
           "Scrypt"
          ],
          [
           "SHA-512"
          ],
          [
           "ECC 256K1"
          ],
          [
           "XEVAN"
          ],
          [
           "XEVAN"
          ],
          [
           "X11"
          ],
          [
           "Quark"
          ],
          [
           "Equihash"
          ],
          [
           "Scrypt"
          ],
          [
           "Quark"
          ],
          [
           "Quark"
          ],
          [
           "Scrypt"
          ],
          [
           "X11"
          ],
          [
           "Scrypt"
          ],
          [
           "XEVAN"
          ],
          [
           "SHA-256D"
          ],
          [
           "X11"
          ],
          [
           "X11"
          ],
          [
           "DPoS"
          ],
          [
           "Scrypt"
          ],
          [
           "X11"
          ],
          [
           "Scrypt"
          ],
          [
           "Scrypt"
          ],
          [
           "SHA-256"
          ],
          [
           "Scrypt"
          ],
          [
           "X11"
          ],
          [
           "Scrypt"
          ],
          [
           "SHA-256"
          ],
          [
           "X11"
          ],
          [
           "Scrypt"
          ],
          [
           "Scrypt"
          ],
          [
           "X11"
          ],
          [
           "Scrypt"
          ],
          [
           "PoS"
          ],
          [
           "X11"
          ],
          [
           "SHA-256"
          ],
          [
           "DPoS"
          ],
          [
           "Scrypt"
          ],
          [
           "Scrypt"
          ],
          [
           "NeoScrypt"
          ],
          [
           "X13"
          ],
          [
           "DPoS"
          ],
          [
           "DPoS"
          ],
          [
           "SHA-256"
          ],
          [
           "PoS"
          ],
          [
           "PoS"
          ],
          [
           "SHA-256"
          ],
          [
           "Scrypt"
          ],
          [
           "Scrypt"
          ]
         ],
         "hovertemplate": "<b>%{hovertext}</b><br><br>class=%{marker.color}<br>PC1=%{x}<br>PC2=%{y}<br>PC3=%{z}<br>Algorithm=%{customdata[0]}<extra></extra>",
         "hovertext": [
          "42 Coin",
          "404Coin",
          "EliteCoin",
          "Dash",
          "Bitshares",
          "BitcoinDark",
          "PayCoin",
          "KoboCoin",
          "Aurora Coin",
          "BlueCoin",
          "EnergyCoin",
          "BitBar",
          "CryptoBullion",
          "CasinoCoin",
          "Diamond",
          "Exclusive Coin",
          "FlutterCoin",
          "HoboNickels",
          "HyperStake",
          "IOCoin",
          "MaxCoin",
          "MintCoin",
          "MazaCoin",
          "Nautilus Coin",
          "NavCoin",
          "OpalCoin",
          "Orbitcoin",
          "PotCoin",
          "PhoenixCoin",
          "Reddcoin",
          "SuperCoin",
          "SyncCoin",
          "TeslaCoin",
          "TittieCoin",
          "TorCoin",
          "UnitaryStatus Dollar",
          "UltraCoin",
          "VeriCoin",
          "X11 Coin",
          "Crypti",
          "StealthCoin",
          "ZCC Coin",
          "BurstCoin",
          "StorjCoin",
          "Neutron",
          "FairCoin",
          "RubyCoin",
          "Kore",
          "Dnotes",
          "8BIT Coin",
          "Sativa Coin",
          "Ucoin",
          "Vtorrent",
          "IslaCoin",
          "Nexus",
          "Droidz",
          "Squall Coin",
          "Diggits",
          "Paycon",
          "Emercoin",
          "EverGreenCoin",
          "Decred",
          "EDRCoin",
          "Hitcoin",
          "DubaiCoin",
          "PWR Coin",
          "BillaryCoin",
          "GPU Coin",
          "EuropeCoin",
          "ZeitCoin",
          "SwingCoin",
          "SafeExchangeCoin",
          "Nebuchadnezzar",
          "Ratecoin",
          "Revenu",
          "Clockcoin",
          "VIP Tokens",
          "BitSend",
          "Let it Ride",
          "PutinCoin",
          "iBankCoin",
          "Frankywillcoin",
          "MudraCoin",
          "Lutetium Coin",
          "GoldBlocks",
          "CarterCoin",
          "BitTokens",
          "MustangCoin",
          "ZoneCoin",
          "RootCoin",
          "BitCurrency",
          "Swiscoin",
          "BuzzCoin",
          "Opair",
          "PesoBit",
          "Halloween Coin",
          "CoffeeCoin",
          "RoyalCoin",
          "GanjaCoin V2",
          "TeamUP",
          "LanaCoin",
          "ARK",
          "InsaneCoin",
          "EmberCoin",
          "XenixCoin",
          "FreeCoin",
          "PLNCoin",
          "AquariusCoin",
          "Creatio",
          "Eternity",
          "Eurocoin",
          "BitcoinFast",
          "Stakenet",
          "BitConnect Coin",
          "MoneyCoin",
          "Enigma",
          "Russiacoin",
          "PandaCoin",
          "GameUnits",
          "GAKHcoin",
          "Allsafe",
          "LiteCreed",
          "Klingon Empire Darsek",
          "Internet of People",
          "KushCoin",
          "Printerium",
          "Impeach",
          "Zilbercoin",
          "FirstCoin",
          "FindCoin",
          "OpenChat",
          "RenosCoin",
          "VirtacoinPlus",
          "TajCoin",
          "Impact",
          "Atmos",
          "HappyCoin",
          "MacronCoin",
          "Condensate",
          "Independent Money System",
          "ArgusCoin",
          "LomoCoin",
          "ProCurrency",
          "GoldReserve",
          "GrowthCoin",
          "Phreak",
          "Degas Coin",
          "HTML5 Coin",
          "Ultimate Secure Cash",
          "QTUM",
          "Espers",
          "Denarius",
          "Virta Unique Coin",
          "Bitcoin Planet",
          "BritCoin",
          "Linda",
          "DeepOnion",
          "Signatum",
          "Cream",
          "Monoeci",
          "Draftcoin",
          "Vechain",
          "Stakecoin",
          "CoinonatX",
          "Ethereum Dark",
          "Obsidian",
          "Cardano",
          "Regalcoin",
          "TrezarCoin",
          "TerraNovaCoin",
          "Rupee",
          "WomenCoin",
          "Theresa May Coin",
          "NamoCoin",
          "LUXCoin",
          "Xios",
          "Bitcloud 2.0",
          "KekCoin",
          "BlackholeCoin",
          "Infinity Economics",
          "Magnet",
          "Lamden Tau",
          "Electra",
          "Bitcoin Diamond",
          "Cash & Back Coin",
          "Bulwark",
          "Kalkulus",
          "GermanCoin",
          "LiteCoin Ultra",
          "PhantomX",
          "Digiwage",
          "Trollcoin",
          "Litecoin Plus",
          "Monkey Project",
          "TokenPay",
          "1717 Masonic Commemorative Token",
          "My Big Coin",
          "Unified Society USDEX",
          "Tokyo Coin",
          "BiblePay",
          "Stipend",
          "Pushi",
          "Ellerium",
          "Velox",
          "Ontology",
          "Bitspace",
          "Briacoin",
          "Ignition",
          "MedicCoin",
          "Bitcoin Green",
          "Deviant Coin",
          "Abjcoin",
          "Semux",
          "Carebit",
          "Zealium",
          "Proton",
          "iDealCash",
          "Bitcoin Incognito",
          "HollyWoodCoin",
          "Swisscoin",
          "Xt3ch",
          "TheVig",
          "EmaratCoin",
          "Dekado",
          "Lynx",
          "Poseidon Quark",
          "BitcoinWSpectrum",
          "Muse",
          "Trivechain",
          "Dystem",
          "Giant",
          "Peony Coin",
          "Absolute Coin",
          "Vitae",
          "TPCash",
          "ARENON",
          "EUNO",
          "MMOCoin",
          "Ketan",
          "XDNA",
          "PAXEX",
          "ThunderStake",
          "Kcash",
          "Acute Angle Cloud",
          "Bettex coin",
          "BitMoney",
          "Junson Ming Chan Coin",
          "HerbCoin",
          "PirateCash",
          "Oduwa",
          "Galilel",
          "Crypto Sports",
          "Credit",
          "Dash Platinum",
          "Nasdacoin",
          "Beetle Coin",
          "Titan Coin",
          "Award",
          "Insane Coin",
          "ALAX",
          "LiteDoge",
          "TruckCoin",
          "OrangeCoin",
          "BitstarCoin",
          "NeosCoin",
          "HyperCoin",
          "PinkCoin",
          "AudioCoin",
          "IncaKoin",
          "Piggy Coin",
          "Genstake",
          "XiaoMiCoin",
          "CapriCoin",
          " ClubCoin",
          "Radium",
          "Creditbit ",
          "OKCash",
          "Lisk",
          "HiCoin",
          "WhiteCoin",
          "FriendshipCoin",
          "Triangles Coin",
          "EOS",
          "Oxycoin",
          "TigerCash",
          "Particl",
          "Nxt",
          "ZEPHYR",
          "Gapcoin",
          "BitcoinPlus"
         ],
         "legendgroup": "0",
         "marker": {
          "color": [
           0,
           0,
           0,
           0,
           0,
           0,
           0,
           0,
           0,
           0,
           0,
           0,
           0,
           0,
           0,
           0,
           0,
           0,
           0,
           0,
           0,
           0,
           0,
           0,
           0,
           0,
           0,
           0,
           0,
           0,
           0,
           0,
           0,
           0,
           0,
           0,
           0,
           0,
           0,
           0,
           0,
           0,
           0,
           0,
           0,
           0,
           0,
           0,
           0,
           0,
           0,
           0,
           0,
           0,
           0,
           0,
           0,
           0,
           0,
           0,
           0,
           0,
           0,
           0,
           0,
           0,
           0,
           0,
           0,
           0,
           0,
           0,
           0,
           0,
           0,
           0,
           0,
           0,
           0,
           0,
           0,
           0,
           0,
           0,
           0,
           0,
           0,
           0,
           0,
           0,
           0,
           0,
           0,
           0,
           0,
           0,
           0,
           0,
           0,
           0,
           0,
           0,
           0,
           0,
           0,
           0,
           0,
           0,
           0,
           0,
           0,
           0,
           0,
           0,
           0,
           0,
           0,
           0,
           0,
           0,
           0,
           0,
           0,
           0,
           0,
           0,
           0,
           0,
           0,
           0,
           0,
           0,
           0,
           0,
           0,
           0,
           0,
           0,
           0,
           0,
           0,
           0,
           0,
           0,
           0,
           0,
           0,
           0,
           0,
           0,
           0,
           0,
           0,
           0,
           0,
           0,
           0,
           0,
           0,
           0,
           0,
           0,
           0,
           0,
           0,
           0,
           0,
           0,
           0,
           0,
           0,
           0,
           0,
           0,
           0,
           0,
           0,
           0,
           0,
           0,
           0,
           0,
           0,
           0,
           0,
           0,
           0,
           0,
           0,
           0,
           0,
           0,
           0,
           0,
           0,
           0,
           0,
           0,
           0,
           0,
           0,
           0,
           0,
           0,
           0,
           0,
           0,
           0,
           0,
           0,
           0,
           0,
           0,
           0,
           0,
           0,
           0,
           0,
           0,
           0,
           0,
           0,
           0,
           0,
           0,
           0,
           0,
           0,
           0,
           0,
           0,
           0,
           0,
           0,
           0,
           0,
           0,
           0,
           0,
           0,
           0,
           0,
           0,
           0,
           0,
           0,
           0,
           0,
           0,
           0,
           0,
           0,
           0,
           0,
           0,
           0,
           0,
           0,
           0,
           0,
           0,
           0,
           0,
           0,
           0,
           0,
           0,
           0,
           0,
           0,
           0,
           0,
           0,
           0,
           0,
           0,
           0,
           0,
           0,
           0,
           0,
           0,
           0,
           0,
           0,
           0,
           0,
           0,
           0,
           0
          ],
          "coloraxis": "coloraxis",
          "symbol": "circle"
         },
         "mode": "markers",
         "name": "0",
         "scene": "scene",
         "showlegend": true,
         "type": "scatter3d",
         "x": [
          -0.33195209957593774,
          -0.3153034369984173,
          2.30870057152386,
          -0.3876943000639746,
          -0.29639504958993934,
          -0.30420843104629125,
          -0.27068659206351514,
          -0.23921604356407122,
          -0.33161195768288027,
          -0.3241954767739895,
          -0.3304498719858414,
          -0.3319480392511083,
          -0.3319323331484014,
          0.6010509146126095,
          -0.3680411189713464,
          -0.35736943543106975,
          -0.27701127944906484,
          -0.3300124902641386,
          -0.3340122288202047,
          -0.3875890803124515,
          -0.3793051717928672,
          -0.03855858528776318,
          -0.2675453264221873,
          -0.2981815614111799,
          -0.2730114873335635,
          -0.27363319910342715,
          -0.33902794181986506,
          -0.32625912974363336,
          -0.330355171106192,
          0.02590321557788512,
          -0.35388294555719346,
          -0.3879603438319225,
          -0.2621264618387863,
          -0.30822320691435995,
          -0.3878720593270289,
          -0.30720480450012433,
          -0.330630605432786,
          -0.30222219128017436,
          -0.38783656140511075,
          -0.26259377460284056,
          -0.2734142376219779,
          -0.323062848508382,
          -0.15962352268572405,
          -0.3705864063376438,
          -0.3034207996556452,
          -0.3674631418144537,
          -0.2981618281642628,
          -0.2737085318887964,
          -0.2928203961348827,
          -0.33193418244162626,
          -0.273660754500765,
          -0.35432744507434716,
          -0.33166878678849854,
          -0.3879418874878917,
          -0.34307468385562206,
          -0.40002615924451196,
          -0.4222725645031745,
          -0.2965646953630758,
          -0.2731827950205393,
          -0.29677161905673916,
          -0.24165536906290572,
          -0.07743786269256535,
          -0.30417936824114317,
          -0.06568164966181497,
          -0.30424300572836305,
          -0.22664600813744623,
          -0.3315447778377732,
          -0.29643390888810306,
          -0.38511355378062945,
          0.8540051209990177,
          -0.304043243916033,
          -0.12911426987621313,
          -0.3570529728164828,
          -0.38578664719714334,
          -0.3027878886102759,
          -0.30045814579247065,
          -0.3479077112135736,
          -0.3866781641340125,
          -0.37952799012203164,
          -0.3078612088159324,
          -0.33158284631086243,
          -0.330023126336826,
          -0.23888220011487182,
          -0.34182857480480267,
          -0.38741624028024174,
          -0.33078773278285467,
          -0.30422397852145394,
          -0.38793108930893927,
          -0.33177184484578515,
          -0.3319284201486707,
          -0.29642337802191693,
          -0.2316122857765485,
          0.05515846063055104,
          -0.3560109141501713,
          -0.3315428854355573,
          -0.37410533250504413,
          -0.35534007186069166,
          -0.24031155522284914,
          -0.39932546524955054,
          -0.35508935189627877,
          -0.2591094272515489,
          3.7442942666734567,
          -0.38752397242380016,
          0.8576004877797982,
          -0.38788603560874096,
          -0.3564742806016993,
          -0.3314705189575304,
          -0.33162472354690625,
          -0.3570529728164828,
          -0.38746131103001724,
          -0.304086760707055,
          -0.33147125123486837,
          -0.35683023270098485,
          -0.33161852138244563,
          -0.327210417431827,
          -0.3879150069177159,
          -0.3308299179270092,
          0.3445581040601205,
          -0.3318176301171605,
          -0.3318881396767643,
          -0.363326101457593,
          -0.34663608225535614,
          -0.3281181878889122,
          -0.3042004110709623,
          -0.38782503275481595,
          -0.33166613779486825,
          -0.3317929904776059,
          -0.2980684426697318,
          -0.33073007908500174,
          -0.2400796013502639,
          -0.3126623598933322,
          -0.29780976917620633,
          -0.38709141411038334,
          -0.40354526528880214,
          -0.3858307986789705,
          -0.3553009767984593,
          -0.38698938095727875,
          -0.3497055203781299,
          -0.3829338272884467,
          -0.33173632196176994,
          -0.33173551659255046,
          -0.32486326278714467,
          0.2615108663650792,
          -0.38746744474855316,
          -0.2807254806945036,
          -0.3570872450421861,
          -0.33094768673726804,
          0.891764187461666,
          -0.26937815173740787,
          -0.3783073537062568,
          0.6020440188831228,
          -0.3494420894577302,
          -0.34794557448178887,
          -0.3967076597949672,
          -0.27334611118178986,
          0.13259613428361983,
          -0.27341682092241487,
          -0.37203863380102525,
          -0.39621294106977334,
          -0.3877395947416022,
          -0.298142565123143,
          4.454244381218207,
          -0.35695364342834707,
          -0.3313718244248035,
          -0.33187108347603345,
          -0.35441083681276153,
          0.6564122941317373,
          -0.387680479273521,
          -0.3340313960554822,
          -0.33182674041359506,
          -0.32369931707622934,
          0.43666134224965225,
          -0.30254804622905085,
          -0.3342217571580651,
          -0.3772493234516436,
          -0.3317771217149246,
          -0.39522772104896536,
          -0.37892927915065394,
          -0.331647621268167,
          -0.09731388905645791,
          -0.38647416108106697,
          3.7491461918282023,
          0.20958679424608506,
          -0.2700904377636258,
          -0.3291100295541715,
          -0.31574739159915716,
          -0.3632120991756336,
          0.08213931960450045,
          -0.3307869145737477,
          -0.3870547866568944,
          -0.3623775575282615,
          -0.3183630212343043,
          -0.3318931971703136,
          -0.354299397539185,
          -0.3798096766406508,
          -0.2835594578662133,
          -0.28563571300862006,
          -0.32744213620695223,
          -0.23188233423870105,
          -0.037285976992380364,
          -0.36856502844365596,
          -0.38775683425063157,
          -0.3521500067862044,
          -0.2973032770706293,
          -0.3415598564722078,
          -0.34904139175098875,
          -0.33192052947761697,
          -0.33190225616028757,
          -0.2916893979199728,
          -0.35559978147816035,
          -0.3565484393902886,
          -0.3316190070075696,
          3.9443189235705716,
          -0.39389681499435597,
          -0.3567369532011524,
          -0.32694935986950097,
          -0.2785341219044755,
          -0.3866144523265632,
          -0.297837024055055,
          -0.13519674735983916,
          -0.2980888896531473,
          -0.3243683834637105,
          -0.3310934874445362,
          -0.20754124197174492,
          2.242923811258798,
          -0.35892379836224797,
          -0.26950572357243247,
          1.0238402436777032,
          -0.3597448949593947,
          -0.3633255407646729,
          -0.39691042154910683,
          -0.17892439802325724,
          -0.3570861069292958,
          -0.36204613947179665,
          -0.32480340203870645,
          -0.35387716090218163,
          -0.387230605245834,
          -0.2953366843226334,
          -0.35583753711115834,
          -0.32856376222050676,
          -0.3537386727418878,
          -0.19152402042732558,
          -0.36115379042351503,
          -0.1358935214978377,
          -0.31868466735220624,
          0.41751427040060246,
          -0.14442028526878584,
          -0.39620564024350746,
          -0.2770745647551423,
          -0.3316229733301563,
          -0.39666137593356465,
          -0.363442419917566,
          0.5741260491391493,
          -0.3543536683874754,
          -0.33110633912076337,
          -0.34661028268001554,
          -0.27912683860397364,
          -0.3847973820604106,
          -0.38745764995970905,
          3.7613778418727,
          0.1029413455583525,
          -0.3849992616283775,
          -0.33049237555427396,
          -0.33131664086440593,
          -0.2707191996288095,
          -0.3318345322661776,
          -0.3790924267487928,
          -0.24561158412536369,
          -0.0840439264799492,
          -0.37484443221501806,
          -0.33111343899084605,
          -0.3241835129449538,
          -0.38402910095768344,
          -0.329553950025138,
          -0.3573283770482592,
          -0.3581407277064393,
          -0.3027247260604739,
          3.7446857498448476,
          -0.10553069724545999,
          -0.32675104662310345,
          -0.3386541262919328,
          -0.27381564453673096,
          3.7545458949006236,
          3.7557890290884024,
          -0.25163181287655567,
          -0.35726429498904194,
          -0.3246691619639391,
          2.486255959581421,
          -0.329999153486296,
          -0.29848502018979256
         ],
         "y": [
          1.0755049215144328,
          1.0757032503434536,
          1.6396623100542616,
          1.1687503734233273,
          1.6967733290577216,
          0.8190247925543753,
          0.6817621051028994,
          1.831528750976834,
          1.075504740899433,
          1.0757751501238713,
          1.0755572567989475,
          1.0755047042738806,
          1.0755048927238373,
          0.572029817829152,
          0.9762290986169012,
          1.636143678232697,
          0.403126545859994,
          1.0754864002427509,
          1.0321990050120835,
          1.1687540391145255,
          1.8490610417361821,
          0.9472889400966426,
          0.8185822015179973,
          0.9382324742132905,
          1.7751135373547868,
          1.775091877891307,
          0.48620816654040877,
          1.0754019258152214,
          1.0754902457251807,
          1.0879720397581374,
          1.03150674038988,
          1.1687568881038275,
          0.21309784869068873,
          1.6639432546938346,
          1.1687527899942247,
          1.0752191551816723,
          1.0754792151208448,
          0.39652165354686164,
          1.168757255220544,
          0.21315331345466393,
          1.7750995061660813,
          1.075097157035909,
          0.9631398900194784,
          1.7575540861772454,
          0.8190192296016138,
          0.9762523768751387,
          0.9382447700633546,
          1.7750806439901803,
          0.9380721311415163,
          1.0755055457494418,
          1.7750837433836468,
          1.0314769056818653,
          1.0755004426763428,
          1.1687575318113737,
          1.840872187468626,
          1.8194714783124686,
          0.9510140884382658,
          0.9382286664583906,
          1.7750716966594489,
          0.8185822112908383,
          1.8316760093738953,
          0.8219251695207853,
          0.8190258050569486,
          1.1609362205716833,
          0.8190318387255847,
          1.5202499478793028,
          1.0754889790080047,
          0.9381463733913915,
          1.1685805649248981,
          0.9073567044157941,
          0.8190176332775873,
          0.5737493740310889,
          1.636140354252484,
          1.168778808098501,
          0.8189302714570247,
          0.8187945682168812,
          1.5159608095440875,
          1.168701832112743,
          1.7744922827406808,
          1.074909306251774,
          1.0754859787074609,
          1.0755003787402766,
          1.637721706236605,
          1.0314553297533346,
          1.1687399719320326,
          1.0754809155710905,
          0.8190249683567941,
          1.1687557556467576,
          1.0754961348430978,
          1.0755057464986952,
          0.9383053349411559,
          0.5083098706886434,
          1.857720211712439,
          1.6361379155305216,
          1.075519177923744,
          1.168163397575208,
          1.636185680068232,
          1.6378136064423523,
          1.762715061230524,
          1.636007159692381,
          1.8557354574414582,
          1.8714030404382247,
          1.1687505677546544,
          1.8138924519753563,
          1.1687567130259757,
          1.6361389914196642,
          1.0754940484551867,
          1.0754861938248201,
          1.636140354252484,
          1.1687312272169497,
          0.8190304662624291,
          1.0754979976283225,
          0.4049441590829079,
          1.0754964542276448,
          1.0752032970661363,
          1.1687548810278952,
          1.0754407034944091,
          0.9373082301877242,
          1.075500279372665,
          1.0755047708874748,
          1.602637147328496,
          0.5306452064750484,
          1.07527976297716,
          0.8190257894098251,
          1.168754891800327,
          1.0755005349631284,
          1.0754947285407286,
          0.9382085636031261,
          0.5930958343352203,
          1.6378130601859102,
          1.0754594937556725,
          0.9382323359377865,
          1.168715415762537,
          2.002633522015214,
          1.168752159107241,
          1.6361366122774197,
          1.1687189704376462,
          1.6361236961868504,
          1.1685732787375673,
          1.0754972202180386,
          1.0754919478266751,
          1.075034433424728,
          0.6465030923502164,
          1.1687453625694357,
          0.9374173209138484,
          1.6361319857410521,
          1.07546458124484,
          1.8066107502409199,
          0.6816731064380772,
          1.7744870972365592,
          1.8651449423620887,
          1.5159647503778197,
          1.5159379668847386,
          1.8966896894071994,
          1.7750803560220265,
          1.0558164497336793,
          1.775085857623904,
          1.851851057647709,
          1.8967069246320751,
          1.1687577583621789,
          0.9382329532646428,
          1.2481544070989004,
          1.6361139687511905,
          1.0754905189233823,
          1.0755047307197492,
          1.6972698195860367,
          1.6963135150175273,
          1.1687472676575907,
          0.4860979623242063,
          1.0754980009487687,
          0.8033266041930011,
          1.084345906964361,
          0.8190266764962864,
          1.5156412349193802,
          1.8015829372278407,
          1.0754959510052489,
          1.739830367843487,
          1.7266710096648925,
          1.0755049192121309,
          0.681354037720044,
          1.1687053519989106,
          1.8713030293743755,
          1.5139240524475022,
          1.7750646372057652,
          1.0754532698718957,
          1.3786885587959508,
          1.6026375317288855,
          1.0540586134052894,
          1.0754378969513383,
          1.1687525644096628,
          1.602594860643545,
          1.0753326368589136,
          1.0755041038037219,
          1.0314771653619426,
          1.7744885675666284,
          0.0017236102784801606,
          0.47690712601610064,
          1.075495592715771,
          1.637535099342138,
          0.9106354256906743,
          0.9714323838554928,
          1.1687460424740432,
          1.6635279159612748,
          0.9381857165795348,
          1.580650211392698,
          1.5159500119745475,
          1.075503869041062,
          1.0755030707506303,
          0.9381115333463954,
          1.5956646656624018,
          1.6361091446646316,
          1.0754950024050645,
          1.9317360075154424,
          1.7398767345241295,
          1.636108316755621,
          0.8103850590563034,
          1.073691165586894,
          1.4458077929336148,
          0.9382374319752508,
          1.0750415583574937,
          0.9382157432351697,
          1.858775387819334,
          1.0754745682704596,
          1.6943814373844044,
          0.5023897501417809,
          1.6023349345957854,
          0.6817402795333916,
          1.7425042213321602,
          0.9476529277311554,
          1.6026328621496704,
          1.7399115400164082,
          0.9302882240838659,
          0.9405803649549134,
          1.602620755770733,
          1.0750365188793671,
          1.031467482053724,
          1.1687464391656335,
          0.9381566561050357,
          1.6360463822317273,
          0.9053318158839274,
          1.0314400214204813,
          1.067483078227492,
          1.8583039136600341,
          1.1312086904277996,
          1.5262636188801264,
          1.7174450385332798,
          1.038804091125111,
          1.7399010466755775,
          -0.058877458120607476,
          1.0755013212933342,
          1.7399102545538248,
          1.6026342644225813,
          1.0534058482192736,
          1.0314762073383674,
          1.075474120538206,
          1.6634052323494295,
          1.8568360171244265,
          1.168565751577081,
          1.1687528783253376,
          1.8713704348472233,
          1.0655451045994917,
          1.1688600482835214,
          1.0754122856250004,
          1.0754881337644495,
          0.6817548707637483,
          1.0755090174053448,
          1.1687071071106712,
          1.0709796429041598,
          0.8265744468186159,
          1.1684963745405357,
          1.075523377383468,
          1.0754885860924197,
          1.168744617127585,
          1.0754736769826296,
          1.6361386515736598,
          0.49578548917585286,
          0.8190169339875131,
          1.8713916268194815,
          0.937774876742854,
          1.0754708824520096,
          0.48618072672090773,
          1.7750854356841583,
          1.8718498726055839,
          1.8718931814519744,
          0.681717459809669,
          1.6361411465791682,
          1.4865868164179132,
          0.8105829000177824,
          1.0753935961046217,
          0.9382327931077327
         ],
         "z": [
          -0.43904675885838146,
          -0.4393188384691452,
          -0.5184160228626936,
          -0.3803316363490097,
          -0.01055270127548545,
          -0.29595263966414126,
          -0.03351463758616229,
          -0.5039517606949769,
          -0.4390519393859171,
          -0.43918941128536293,
          -0.4390743864011868,
          -0.4390468014794947,
          -0.439047058275973,
          -0.20514607058556616,
          -0.3266980678563565,
          -0.046427699700920075,
          -0.26709725577010307,
          -0.4390747370579162,
          -0.11826520345584457,
          -0.38033357145053676,
          -0.5086731647350358,
          -0.18138746025587396,
          -0.2964732270673903,
          -0.17661168426591253,
          -0.49107650043248124,
          -0.4910650665013183,
          -0.27082659126643205,
          -0.43912453216332914,
          -0.4390698452274769,
          -0.4456280932320482,
          -0.11789976014538067,
          -0.380328153890587,
          0.1000834088403689,
          -0.18183730991153543,
          -0.3803291364949857,
          -0.4393993108708181,
          -0.4390646514806233,
          -0.26610852071776697,
          -0.3803300778359168,
          0.10008559216894604,
          -0.49106909343249044,
          -0.4391461310762702,
          -0.041221752635085644,
          0.05889647910183305,
          -0.2959641759512689,
          -0.326708978265826,
          -0.17661308448776947,
          -0.4910629117272646,
          -0.1766792638069045,
          -0.43904708837596235,
          -0.491063918624374,
          -0.11789030312470597,
          -0.4390506870716233,
          -0.38032849338621094,
          -0.406350308108919,
          -0.5274549348201706,
          -0.0004980130348200941,
          -0.17663604639117458,
          -0.49107014438303354,
          -0.29602671043161743,
          -0.5039276516164791,
          -0.41043445970067266,
          -0.29595317415959355,
          -0.3845530650508028,
          -0.2959527410694421,
          -0.4295793971940145,
          -0.43905155729675654,
          -0.17663069095523487,
          -0.38035589100272443,
          -0.1914557098646078,
          -0.2959545236408826,
          -0.19414430854712222,
          -0.046432237571533475,
          -0.38036332223214553,
          -0.29596589636253806,
          -0.29598936379484836,
          -0.427343497421977,
          -0.38034282323360336,
          0.04195105950734551,
          -0.43936159473529396,
          -0.43905070758664794,
          -0.4390758236579937,
          -0.22863623882919987,
          -0.1180793321069956,
          -0.38033495506786535,
          -0.4390624028482471,
          -0.2959524178402055,
          -0.38032849964475063,
          -0.4390487276154873,
          -0.43904719435057027,
          -0.1766450564082344,
          -0.2859238526573402,
          -0.6168292068026918,
          -0.04644794015952493,
          -0.43905428473808467,
          -0.38048679649136924,
          -0.04646245741361067,
          -0.22862261329244127,
          -0.6148951846570607,
          -0.04645033558775841,
          -0.6118504866249351,
          -0.056465672313718615,
          -0.3803342559694177,
          -0.5118151459640766,
          -0.3803292735223788,
          -0.04644095701507671,
          -0.43905314481749547,
          -0.4390500870113614,
          -0.046432237571533475,
          -0.380333485065229,
          -0.2959550055300824,
          -0.4390534865219302,
          -0.15226478710607003,
          -0.4390510986216903,
          -0.43909224928442636,
          -0.3803286671959232,
          -0.43905816505599515,
          -0.18634883246896075,
          -0.4390483984597939,
          -0.4390477225740135,
          -0.1195829863588369,
          -0.3203311892783136,
          -0.43908521330084666,
          -0.29595285127032506,
          -0.3803300427782824,
          -0.4390507357893924,
          -0.43904827888877235,
          -0.17661127587124573,
          -0.22121763240153883,
          -0.22862610825685434,
          -0.43933740696431345,
          -0.17661735212882052,
          -0.380337723440122,
          -0.5568026162176927,
          -0.3803602663750559,
          -0.046458670082186536,
          -0.3803395999367648,
          -0.04654300296044167,
          -0.3803885416479334,
          -0.43904936731939337,
          -0.43904890849087685,
          -0.43911301957038223,
          -0.03849482584422408,
          -0.3803346544683193,
          -0.1768055363351861,
          -0.046430966165074104,
          -0.4390584994708996,
          -0.5190041726383219,
          -0.033526675071586826,
          0.04193287406772232,
          -0.5748732443899567,
          -0.42732040743205507,
          -0.42734087776387886,
          -0.5477268117748211,
          -0.4910684230362339,
          -0.4443847663396345,
          -0.4910678343519492,
          0.013177038832242957,
          -0.5477359101707712,
          -0.38033160424663714,
          -0.17661232285611583,
          4.0751650091655485,
          -0.04643139735145228,
          -0.4390543372729113,
          -0.43904797956827646,
          -0.009710705272003359,
          -0.010043952973774382,
          -0.3803315699756823,
          -0.2708930805049642,
          -0.4390480556767378,
          0.01852461093577286,
          -0.45157960500806693,
          -0.2959781752678902,
          -0.42752403388598503,
          -0.44376656752028887,
          -0.4390486305683329,
          -0.38203953458933704,
          -0.022209094519880228,
          -0.43905141045359714,
          -0.03612695084277609,
          -0.38034625451144427,
          -0.05653086289207043,
          -0.43567886280951756,
          -0.4911167584057518,
          -0.43908556431766893,
          -0.16488383957277752,
          -0.11958476242815545,
          -0.44345681262584247,
          -0.4390585712701591,
          -0.38034160257889593,
          -0.11959369948084844,
          -0.4392389768694984,
          -0.4390475856963441,
          -0.11789075483784829,
          0.041955695079046895,
          0.1030750154287089,
          -0.22529969226906413,
          -0.4391148281952456,
          -0.22872650744222842,
          5.341665492837813,
          -0.30100455288239675,
          -0.3803302939484738,
          -0.28600304134646015,
          -0.17662092444902303,
          -0.05558375560513852,
          -0.4273252122657097,
          -0.43904714713699156,
          -0.43904735498159186,
          -0.17670006404965632,
          -0.07081965138184224,
          -0.046437156960869946,
          -0.43905096146967454,
          -0.03249287836236564,
          -0.38206401134681617,
          -0.04643420287771884,
          0.028690310422332974,
          -0.43970080097026415,
          0.09382739884155329,
          -0.1766173911046319,
          -0.4420113696511362,
          -0.176611605044519,
          -0.6111251078578197,
          -0.4390571643620894,
          -0.24149584932597437,
          -0.2957309857631634,
          -0.11962323920434924,
          -0.0335307285228537,
          -0.045479548242880787,
          -0.2337592510683075,
          -0.11958261200798678,
          -0.38202107981644373,
          -0.17772380175831215,
          -0.2439146567390939,
          -0.11960107681492288,
          -0.43911412047229587,
          -0.11789634045759007,
          -0.38033836909074153,
          -0.17664837313265308,
          -0.04644240972651094,
          -0.40174123896800945,
          -0.11789600243067075,
          -0.44047539069836716,
          0.05763522051781212,
          4.420542083800006,
          -0.02356403223776876,
          0.04935291188732647,
          -0.12175199803934045,
          -0.3820309097530432,
          0.20039679488674028,
          -0.43905146551871604,
          -0.3820247698531185,
          -0.11958095164042733,
          -0.45091502564321395,
          -0.1178898400836174,
          -0.4390569280062917,
          -0.28607671409056074,
          -0.6116430061847651,
          -0.38035939775660255,
          -0.3803354757090554,
          -0.05672376054324206,
          -0.44480104014184646,
          -0.3803826113604035,
          -0.43906078262997167,
          -0.43905496722978177,
          -0.03351349296019915,
          -0.43904892104714766,
          -0.3804591890306429,
          -0.43996149193054357,
          -0.2999909251404126,
          -0.3805052588880275,
          -0.43906122105192164,
          -0.43916398714064564,
          -0.3803871186626391,
          -0.4390806056763733,
          -0.046427877813747874,
          -0.18441398177666776,
          -0.295974605388433,
          -0.05647063346597032,
          -0.1795141021545893,
          -0.439123178547881,
          -0.2708298504165089,
          -0.4910617034452979,
          -0.05666222430695667,
          -0.05668508684779742,
          -0.03380176589995835,
          -0.04642907980543273,
          -0.09880522718403105,
          -0.04505125903972695,
          -0.4390666479793168,
          -0.1766070765372005
         ]
        },
        {
         "customdata": [
          [
           "SHA-256"
          ],
          [
           "Ethash"
          ],
          [
           "Scrypt"
          ],
          [
           "CryptoNight-V7"
          ],
          [
           "Ethash"
          ],
          [
           "Equihash"
          ],
          [
           "Multiple"
          ],
          [
           "Scrypt"
          ],
          [
           "X11"
          ],
          [
           "Scrypt"
          ],
          [
           "Multiple"
          ],
          [
           "Scrypt"
          ],
          [
           "SHA-256"
          ],
          [
           "Scrypt"
          ],
          [
           "Scrypt"
          ],
          [
           "Quark"
          ],
          [
           "Groestl"
          ],
          [
           "Scrypt"
          ],
          [
           "Scrypt"
          ],
          [
           "Scrypt"
          ],
          [
           "X11"
          ],
          [
           "Multiple"
          ],
          [
           "SHA-256"
          ],
          [
           "Scrypt"
          ],
          [
           "Scrypt"
          ],
          [
           "Scrypt"
          ],
          [
           "Scrypt"
          ],
          [
           "Scrypt"
          ],
          [
           "NeoScrypt"
          ],
          [
           "Scrypt"
          ],
          [
           "Scrypt"
          ],
          [
           "Scrypt"
          ],
          [
           "Scrypt"
          ],
          [
           "SHA-256"
          ],
          [
           "Scrypt"
          ],
          [
           "Scrypt"
          ],
          [
           "Scrypt"
          ],
          [
           "Scrypt"
          ],
          [
           "HybridScryptHash256"
          ],
          [
           "Scrypt"
          ],
          [
           "Scrypt"
          ],
          [
           "SHA-256"
          ],
          [
           "Scrypt"
          ],
          [
           "Scrypt"
          ],
          [
           "Scrypt"
          ],
          [
           "Scrypt"
          ],
          [
           "SHA-256"
          ],
          [
           "SHA-256"
          ],
          [
           "SHA-256"
          ],
          [
           "SHA-256"
          ],
          [
           "SHA-256"
          ],
          [
           "X11"
          ],
          [
           "Scrypt"
          ],
          [
           "Lyra2REv2"
          ],
          [
           "Scrypt"
          ],
          [
           "SHA-256"
          ],
          [
           "CryptoNight"
          ],
          [
           "CryptoNight"
          ],
          [
           "Scrypt"
          ],
          [
           "Scrypt"
          ],
          [
           "Scrypt"
          ],
          [
           "Scrypt"
          ],
          [
           "Scrypt"
          ],
          [
           "Scrypt"
          ],
          [
           "Stanford Folding"
          ],
          [
           "Multiple"
          ],
          [
           "QuBit"
          ],
          [
           "Scrypt"
          ],
          [
           "Scrypt"
          ],
          [
           "M7 POW"
          ],
          [
           "Scrypt"
          ],
          [
           "SHA-256"
          ],
          [
           "Scrypt"
          ],
          [
           "X11"
          ],
          [
           "Lyra2RE"
          ],
          [
           "SHA-256"
          ],
          [
           "X11"
          ],
          [
           "Scrypt"
          ],
          [
           "Scrypt"
          ],
          [
           "Ethash"
          ],
          [
           "Blake2b"
          ],
          [
           "X11"
          ],
          [
           "SHA-256"
          ],
          [
           "Scrypt"
          ],
          [
           "1GB AES Pattern Search"
          ],
          [
           "Scrypt"
          ],
          [
           "SHA-256"
          ],
          [
           "X11"
          ],
          [
           "Dagger"
          ],
          [
           "Scrypt"
          ],
          [
           "X11GOST"
          ],
          [
           "Scrypt"
          ],
          [
           "X11"
          ],
          [
           "Scrypt"
          ],
          [
           "X11"
          ],
          [
           "Equihash"
          ],
          [
           "CryptoNight"
          ],
          [
           "SHA-256"
          ],
          [
           "Multiple"
          ],
          [
           "Scrypt"
          ],
          [
           "SHA-256"
          ],
          [
           "Scrypt"
          ],
          [
           "Lyra2Z"
          ],
          [
           "Ethash"
          ],
          [
           "Equihash"
          ],
          [
           "Scrypt"
          ],
          [
           "X11"
          ],
          [
           "X11"
          ],
          [
           "CryptoNight"
          ],
          [
           "Scrypt"
          ],
          [
           "CryptoNight"
          ],
          [
           "Lyra2RE"
          ],
          [
           "X11"
          ],
          [
           "CryptoNight-V7"
          ],
          [
           "Scrypt"
          ],
          [
           "X11"
          ],
          [
           "Equihash"
          ],
          [
           "Scrypt"
          ],
          [
           "Lyra2RE"
          ],
          [
           "Dagger-Hashimoto"
          ],
          [
           "Scrypt"
          ],
          [
           "NIST5"
          ],
          [
           "Scrypt"
          ],
          [
           "SHA-256"
          ],
          [
           "Scrypt"
          ],
          [
           "CryptoNight-V7"
          ],
          [
           "Argon2d"
          ],
          [
           "Blake2b"
          ],
          [
           "Cloverhash"
          ],
          [
           "CryptoNight"
          ],
          [
           "X11"
          ],
          [
           "Scrypt"
          ],
          [
           "Scrypt"
          ],
          [
           "X11"
          ],
          [
           "X11"
          ],
          [
           "CryptoNight"
          ],
          [
           "Time Travel"
          ],
          [
           "Scrypt"
          ],
          [
           "Keccak"
          ],
          [
           "X11"
          ],
          [
           "SHA-256"
          ],
          [
           "Scrypt"
          ],
          [
           "Scrypt"
          ],
          [
           "Scrypt"
          ],
          [
           "Scrypt"
          ],
          [
           "Scrypt"
          ],
          [
           "Scrypt"
          ],
          [
           "CryptoNight"
          ],
          [
           "Equihash"
          ],
          [
           "X11"
          ],
          [
           "NeoScrypt"
          ],
          [
           "Equihash"
          ],
          [
           "Dagger"
          ],
          [
           "Scrypt"
          ],
          [
           "X11"
          ],
          [
           "NeoScrypt"
          ],
          [
           "Ethash"
          ],
          [
           "NeoScrypt"
          ],
          [
           "Multiple"
          ],
          [
           "CryptoNight"
          ],
          [
           "CryptoNight"
          ],
          [
           "Ethash"
          ],
          [
           "X11"
          ],
          [
           "CryptoNight-V7"
          ],
          [
           "Scrypt"
          ],
          [
           "BLAKE256"
          ],
          [
           "X11"
          ],
          [
           "NeoScrypt"
          ],
          [
           "NeoScrypt"
          ],
          [
           "Scrypt"
          ],
          [
           "X11"
          ],
          [
           "SHA-256"
          ],
          [
           "C11"
          ],
          [
           "CryptoNight"
          ],
          [
           "SkunkHash"
          ],
          [
           "CryptoNight"
          ],
          [
           "Scrypt"
          ],
          [
           "Dagger"
          ],
          [
           "Lyra2REv2"
          ],
          [
           "Scrypt"
          ],
          [
           "Scrypt"
          ],
          [
           "X11"
          ],
          [
           "Proof-of-Authority"
          ],
          [
           "Ethash"
          ],
          [
           "CryptoNight"
          ],
          [
           "Scrypt"
          ],
          [
           "IMesh"
          ],
          [
           "Equihash"
          ],
          [
           "Lyra2Z"
          ],
          [
           "X11"
          ],
          [
           "CryptoNight"
          ],
          [
           "NIST5"
          ],
          [
           "Lyra2RE"
          ],
          [
           "Tribus"
          ],
          [
           "Lyra2Z"
          ],
          [
           "CryptoNight"
          ],
          [
           "CryptoNight Heavy"
          ],
          [
           "CryptoNight"
          ],
          [
           "Jump Consistent Hash"
          ],
          [
           "CryptoNight"
          ],
          [
           "X16R"
          ],
          [
           "HMQ1725"
          ],
          [
           "X11"
          ],
          [
           "Scrypt"
          ],
          [
           "CryptoNight-V7"
          ],
          [
           "Cryptonight-GPU"
          ],
          [
           "XEVAN"
          ],
          [
           "CryptoNight Heavy"
          ],
          [
           "SHA-256"
          ],
          [
           "X11"
          ],
          [
           "X16R"
          ],
          [
           "Equihash"
          ],
          [
           "Lyra2Z"
          ],
          [
           "SHA-256"
          ],
          [
           "CryptoNight"
          ],
          [
           "Blake"
          ],
          [
           "Blake"
          ],
          [
           "Exosis"
          ],
          [
           "Scrypt"
          ],
          [
           "Equihash"
          ],
          [
           "Equihash"
          ],
          [
           "QuBit"
          ],
          [
           "SHA-256"
          ],
          [
           "X13"
          ],
          [
           "SHA-256"
          ],
          [
           "Scrypt"
          ],
          [
           "NeoScrypt"
          ],
          [
           "Blake"
          ],
          [
           "Scrypt"
          ],
          [
           "SHA-256"
          ],
          [
           "Scrypt"
          ],
          [
           "Groestl"
          ],
          [
           "Scrypt"
          ],
          [
           "Scrypt"
          ],
          [
           "Multiple"
          ],
          [
           "Equihash+Scrypt"
          ],
          [
           "Ethash"
          ],
          [
           "CryptoNight"
          ],
          [
           "Equihash"
          ]
         ],
         "hovertemplate": "<b>%{hovertext}</b><br><br>class=%{marker.color}<br>PC1=%{x}<br>PC2=%{y}<br>PC3=%{z}<br>Algorithm=%{customdata[0]}<extra></extra>",
         "hovertext": [
          "Bitcoin",
          "Ethereum",
          "Litecoin",
          "Monero",
          "Ethereum Classic",
          "ZCash",
          "DigiByte",
          "ProsperCoin",
          "Spreadcoin",
          "Argentum",
          "MyriadCoin",
          "MoonCoin",
          "ZetaCoin",
          "SexCoin",
          "Quatloo",
          "QuarkCoin",
          "Riecoin",
          "Digitalcoin ",
          "Catcoin",
          "CannaCoin",
          "CryptCoin",
          "Verge",
          "DevCoin",
          "EarthCoin",
          "E-Gulden",
          "Einsteinium",
          "Emerald",
          "Franko",
          "FeatherCoin",
          "GrandCoin",
          "GlobalCoin",
          "GoldCoin",
          "Infinite Coin",
          "IXcoin",
          "KrugerCoin",
          "LuckyCoin",
          "Litebar ",
          "MegaCoin",
          "MediterraneanCoin",
          "MinCoin",
          "NobleCoin",
          "Namecoin",
          "NyanCoin",
          "RonPaulCoin",
          "StableCoin",
          "SmartCoin",
          "SysCoin",
          "TigerCoin",
          "TerraCoin",
          "UnbreakableCoin",
          "Unobtanium",
          "UroCoin",
          "ViaCoin",
          "Vertcoin",
          "WorldCoin",
          "JouleCoin",
          "ByteCoin",
          "DigitalNote ",
          "MonaCoin",
          "Gulden",
          "PesetaCoin",
          "Wild Beast Coin",
          "Flo",
          "ArtByte",
          "Folding Coin",
          "Unitus",
          "CypherPunkCoin",
          "OmniCron",
          "GreenCoin",
          "Cryptonite",
          "MasterCoin",
          "SoonCoin",
          "1Credit",
          "MarsCoin ",
          "Crypto",
          "Anarchists Prime",
          "BowsCoin",
          "Song Coin",
          "BitZeny",
          "Expanse",
          "Siacoin",
          "MindCoin",
          "I0coin",
          "Revolution VR",
          "HOdlcoin",
          "Gamecredits",
          "CarpeDiemCoin",
          "Adzcoin",
          "SoilCoin",
          "YoCoin",
          "SibCoin",
          "Francs",
          "BolivarCoin",
          "Omni",
          "PizzaCoin",
          "Komodo",
          "Karbo",
          "ZayedCoin",
          "Circuits of Value",
          "DopeCoin",
          "DollarCoin",
          "Shilling",
          "ZCoin",
          "Elementrem",
          "ZClassic",
          "KiloCoin",
          "ArtexCoin",
          "Kurrent",
          "Cannabis Industry Coin",
          "OsmiumCoin",
          "Bikercoins",
          "HexxCoin",
          "PacCoin",
          "Citadel",
          "BeaverCoin",
          "VaultCoin",
          "Zero",
          "Canada eCoin",
          "Zoin",
          "DubaiCoin",
          "EB3coin",
          "Coinonat",
          "BenjiRolls",
          "ILCoin",
          "EquiTrader",
          "Quantum Resistant Ledger",
          "Dynamic",
          "Nano",
          "ChanCoin",
          "Dinastycoin",
          "DigitalPrice",
          "Unify",
          "SocialCoin",
          "ArcticCoin",
          "DAS",
          "LeviarCoin",
          "Bitcore",
          "gCn Coin",
          "SmartCash",
          "Onix",
          "Bitcoin Cash",
          "Sojourn Coin",
          "NewYorkCoin",
          "FrazCoin",
          "Kronecoin",
          "AdCoin",
          "Linx",
          "Sumokoin",
          "BitcoinZ",
          "Elements",
          "VIVO Coin",
          "Bitcoin Gold",
          "Pirl",
          "eBoost",
          "Pura",
          "Innova",
          "Ellaism",
          "GoByte",
          "SHIELD",
          "UltraNote",
          "BitCoal",
          "DaxxCoin",
          "AC3",
          "Lethean",
          "PopularCoin",
          "Photon",
          "Sucre",
          "SparksPay",
          "GunCoin",
          "IrishCoin",
          "Pioneer Coin",
          "UnitedBitcoin",
          "Interzone",
          "TurtleCoin",
          "MUNcoin",
          "Niobio Cash",
          "ShareChain",
          "Travelflex",
          "KREDS",
          "BitFlip",
          "LottoCoin",
          "Crypto Improvement Fund",
          "Poa Network",
          "Callisto Network",
          "BitTube",
          "Poseidon",
          "Aidos Kuneen",
          "Bitrolium",
          "Alpenschillling",
          "FuturoCoin",
          "Monero Classic",
          "Jumpcoin",
          "Infinex",
          "KEYCO",
          "GINcoin",
          "PlatinCoin",
          "Loki",
          "Newton Coin",
          "MassGrid",
          "PluraCoin",
          "Motion",
          "PlusOneCoin",
          "Axe",
          "HexCoin",
          "Webchain",
          "Ryo",
          "Urals Coin",
          "Qwertycoin",
          "Project Pai",
          "Azart",
          "Xchange",
          "CrypticCoin",
          "Actinium",
          "Bitcoin SV",
          "FREDEnergy",
          "Universal Molecule",
          "Lithium",
          "Exosis",
          "Block-Logic",
          "Beam",
          "Bithereum",
          "SLICE",
          "BLAST",
          "Bitcoin Rhodium",
          "GlobalToken",
          "SolarCoin",
          "UFO Coin",
          "BlakeCoin",
          "Crypto Escudo",
          "Crown Coin",
          "SmileyCoin",
          "Groestlcoin",
          "Bata",
          "Pakcoin",
          "JoinCoin",
          "Vollar",
          "Reality Clash",
          "Beldex",
          "Horizen"
         ],
         "legendgroup": "2",
         "marker": {
          "color": [
           2,
           2,
           2,
           2,
           2,
           2,
           2,
           2,
           2,
           2,
           2,
           2,
           2,
           2,
           2,
           2,
           2,
           2,
           2,
           2,
           2,
           2,
           2,
           2,
           2,
           2,
           2,
           2,
           2,
           2,
           2,
           2,
           2,
           2,
           2,
           2,
           2,
           2,
           2,
           2,
           2,
           2,
           2,
           2,
           2,
           2,
           2,
           2,
           2,
           2,
           2,
           2,
           2,
           2,
           2,
           2,
           2,
           2,
           2,
           2,
           2,
           2,
           2,
           2,
           2,
           2,
           2,
           2,
           2,
           2,
           2,
           2,
           2,
           2,
           2,
           2,
           2,
           2,
           2,
           2,
           2,
           2,
           2,
           2,
           2,
           2,
           2,
           2,
           2,
           2,
           2,
           2,
           2,
           2,
           2,
           2,
           2,
           2,
           2,
           2,
           2,
           2,
           2,
           2,
           2,
           2,
           2,
           2,
           2,
           2,
           2,
           2,
           2,
           2,
           2,
           2,
           2,
           2,
           2,
           2,
           2,
           2,
           2,
           2,
           2,
           2,
           2,
           2,
           2,
           2,
           2,
           2,
           2,
           2,
           2,
           2,
           2,
           2,
           2,
           2,
           2,
           2,
           2,
           2,
           2,
           2,
           2,
           2,
           2,
           2,
           2,
           2,
           2,
           2,
           2,
           2,
           2,
           2,
           2,
           2,
           2,
           2,
           2,
           2,
           2,
           2,
           2,
           2,
           2,
           2,
           2,
           2,
           2,
           2,
           2,
           2,
           2,
           2,
           2,
           2,
           2,
           2,
           2,
           2,
           2,
           2,
           2,
           2,
           2,
           2,
           2,
           2,
           2,
           2,
           2,
           2,
           2,
           2,
           2,
           2,
           2,
           2,
           2,
           2,
           2,
           2,
           2,
           2,
           2,
           2,
           2,
           2,
           2,
           2,
           2,
           2,
           2,
           2,
           2,
           2,
           2,
           2,
           2,
           2,
           2,
           2,
           2,
           2,
           2,
           2,
           2,
           2,
           2,
           2,
           2,
           2,
           2,
           2,
           2
          ],
          "coloraxis": "coloraxis",
          "symbol": "diamond"
         },
         "mode": "markers",
         "name": "2",
         "scene": "scene",
         "showlegend": true,
         "type": "scatter3d",
         "x": [
          -0.1426420501587788,
          -0.15436423865290572,
          -0.16921727064745398,
          -0.15473148740104867,
          -0.1528075838684674,
          -0.14983196139132804,
          0.15207065944294504,
          -0.17036258954464123,
          -0.22631224609774417,
          -0.16997944955257688,
          -0.10112854796685992,
          2.5491881530883282,
          -0.13972932163917096,
          -0.16723707421764716,
          -0.16978365070004012,
          -0.23073095303954116,
          -0.20554233006156084,
          -0.16983235501466418,
          -0.17034486928474726,
          -0.17043125334433687,
          -0.2264015181976162,
          0.1758039991452615,
          0.2349003898953362,
          0.07809900813496444,
          -0.17017774899311286,
          -0.1657866198530925,
          -0.17011709587145046,
          -0.1704882111432406,
          -0.1727965745732605,
          -0.14972741128710354,
          -0.16928428205213256,
          -0.1695615162924332,
          1.5770169049630929,
          -0.1426034494805334,
          -0.16685311337791736,
          -0.17020416957443438,
          -0.17055869832962503,
          -0.16981854421776357,
          -0.15086370883518155,
          -0.17044006145056725,
          -0.035458142788228314,
          -0.14268099996961617,
          -0.16410906173504794,
          -0.17041952488499756,
          -0.16851546235549933,
          -0.16990668185902785,
          -0.12984350407434198,
          -0.14214519744992826,
          -0.14243217735698416,
          -0.14241519659541194,
          -0.14300540149964808,
          -0.22657526801302916,
          -0.170136234784704,
          -0.19503071455535154,
          -0.16724179311392443,
          -0.14221243903928382,
          3.857693446066539,
          0.45939178923974744,
          -0.16900475091719575,
          -0.15361644407093858,
          -0.16772459407550233,
          -0.17056090664314813,
          -0.16758973432188912,
          -0.15382449938134285,
          -0.12479672164786285,
          -0.13510770809386646,
          -0.18611538064886493,
          -0.1704340828868589,
          -0.043475942103035584,
          -0.11594924895272479,
          -0.17056979118786114,
          -0.1427087560166216,
          0.4810308728688519,
          -0.22596294645881282,
          -0.15536632370088416,
          -0.14244883776497017,
          -0.22624761827206788,
          -0.16869514191600896,
          -0.16788803054857548,
          -0.1554308812081085,
          0.37412917487520586,
          -0.22628298485401946,
          -0.14260457096421197,
          -0.1665308952542402,
          -0.17507177096157428,
          -0.16913430137423602,
          0.27554354241389845,
          -0.22544439397623936,
          -0.1707616809430024,
          -0.16938158396260772,
          -0.14123868463257527,
          -0.17035987618470447,
          -0.22624626182910568,
          -0.17056984963577493,
          -0.22639611705989487,
          -0.2472667235030063,
          0.30442200497262056,
          -0.14286444862071787,
          -0.1151962592759879,
          -0.16773886349291403,
          -0.14282311076267695,
          -0.17023352658931973,
          -0.15073447244147584,
          -0.15517324260147805,
          -0.14985356176544104,
          -0.09735818921240516,
          -0.2129900653349053,
          -0.22422606161524672,
          0.3044163667836441,
          -0.1705516028106233,
          0.3045469795308283,
          -0.1559063186277433,
          0.48823834753447387,
          -0.15349725351633486,
          -0.17051991479682616,
          -0.2191363550770057,
          -0.14986592466914891,
          -0.16865467822408456,
          -0.15562492249681095,
          -0.12685722401715102,
          -0.14146838345789525,
          -0.1877281472043187,
          -0.1700826487375167,
          -0.10921703731315092,
          -0.1699048725430676,
          -0.15335505168627234,
          -0.15463861282649022,
          -0.025865250259863897,
          -0.19836494599051185,
          0.3405093343266628,
          -0.22545279055173706,
          -0.17022385628174178,
          -0.16998745263805684,
          -0.22584714229971903,
          -0.2264241243933319,
          0.304811030006346,
          -0.1608036539471904,
          3.2363785064589012,
          -0.10707303718115484,
          -0.21730393724715963,
          -0.14264121502070964,
          -0.09620710974184056,
          1.5751056230596279,
          -0.17032162877303614,
          -0.16977373306310073,
          -0.16947494849325517,
          -0.16946188949957916,
          0.3049944773535354,
          0.06228405614751727,
          -0.18084730783987407,
          -0.17748151036912205,
          -0.14971209707433197,
          -0.16952180959492089,
          -0.1686528887603206,
          -0.22197218760873552,
          -0.1773270523203521,
          -0.15353985804787704,
          -0.17742717223096793,
          -0.12534745397658734,
          1.141661404619474,
          0.3043991548503443,
          -0.07849287040005105,
          -0.22171408144862173,
          -0.14247605563214338,
          -0.08677704028042321,
          1.0884081148069005,
          -0.22639814359434082,
          -0.17747906729293816,
          -0.1705225956045834,
          -0.16957323390134452,
          -0.22632361049580696,
          -0.1426206278079189,
          -0.207160629554672,
          8.03566809329876,
          -0.12956233952096696,
          0.30827040229273817,
          0.022315664169987374,
          -0.16902537428408843,
          -0.1806005138780389,
          -0.17014650177157392,
          0.13668190869133798,
          -0.22046932698119953,
          -0.2004780253563767,
          -0.10661836222807107,
          0.312315582908278,
          -0.1703833182359711,
          -0.13544345925359516,
          -0.14870399567130807,
          -0.14851986310149135,
          -0.22549353160416583,
          0.3045815294140308,
          -0.18778754619660004,
          -0.15575168631031305,
          -0.16151340587499985,
          -0.15081877727487367,
          0.3085063623223122,
          0.5963187951086221,
          2.111561232774215,
          -0.16242501799330158,
          0.3181753960449436,
          -0.19915436266458028,
          -0.17340654138588016,
          -0.22638031828025265,
          -0.17040788184266728,
          -0.14235648960517128,
          -0.11315867423861536,
          -0.18954234875548243,
          3.1168199922005986,
          -0.10250116967987713,
          -0.2263517084055215,
          -0.19858257392160136,
          -0.044544011473053445,
          -0.15021703864354197,
          -0.14264125255725438,
          0.38427533141738246,
          -0.15836450461649595,
          -0.15875617781501655,
          -0.1480883025298068,
          -0.16930109189802003,
          -0.14777384351691286,
          -0.149545050673028,
          -0.18532702310765925,
          -0.14191797853430071,
          -0.112418693801743,
          -0.14078685273363753,
          0.5249127572792756,
          -0.10270470739146932,
          -0.10926405256754736,
          -0.15397496965604587,
          -0.1424315482922249,
          0.5446869109452428,
          -0.2051036808975422,
          -0.17048465050480663,
          -0.16844204455896555,
          -0.13584202992616443,
          -0.16221917073791106,
          -0.15520637456207906,
          0.32613867705452154,
          -0.14983301752626266
         ],
         "y": [
          -1.3361688138158285,
          -2.016159961642762,
          -1.0797089613544353,
          -2.2869494908817076,
          -2.0162563951673134,
          -2.076769951003486,
          -1.8098526130847326,
          -1.079703662988312,
          -0.9864489371557921,
          -1.079721165431084,
          -1.8050420870173975,
          -1.2604453109321163,
          -1.33617409262443,
          -1.0797590714604177,
          -1.0797401723809168,
          -0.4152955861329034,
          -1.1789898651062218,
          -1.079704680751711,
          -1.079703045642235,
          -1.0797004159540988,
          -0.986450612351648,
          -1.8058367062322165,
          -1.3380672542444456,
          -1.080718187011476,
          -1.0796972234332487,
          -1.0797442636066807,
          -1.0797030023464622,
          -1.0797010341116005,
          -1.6690619955748154,
          -1.0799889185555913,
          -1.0797012515975861,
          -1.0797125211860705,
          -1.0838137926223892,
          -1.3361674690287098,
          -1.0797567585517045,
          -1.0796974264328045,
          -1.0796963971775684,
          -1.0796997757956637,
          -2.2412441152253644,
          -1.0796984700151775,
          -1.0857505182617408,
          -1.336170170766183,
          -1.0797125147399989,
          -1.0797056465263195,
          -1.0798036084991665,
          -1.07970944693207,
          -1.336344963487423,
          -1.3361701665868884,
          -1.3361765686701144,
          -1.3362032402660873,
          -1.3361665852762783,
          -0.9864437513853879,
          -1.0796972120474673,
          -1.2146195222143097,
          -1.0797702995444214,
          -1.3361710656878267,
          -2.351744284210823,
          -2.3449640745693383,
          -1.0797167100881258,
          -1.0803105065337075,
          -1.0797160668497174,
          -1.0796973910155094,
          -1.0797067868983143,
          -1.0798298874393275,
          -2.278163280452649,
          -1.8047909635287092,
          -1.624528986695889,
          -1.0796935059833244,
          -1.0824425854150754,
          -2.128916649787986,
          -1.0796962595208306,
          -1.3361711377433505,
          -1.1230006608498824,
          -0.9864460949809827,
          -2.315120079639414,
          -1.3361855863290872,
          -0.9864474030757358,
          -1.0797813423586422,
          -1.079781749758562,
          -2.0162092513270524,
          -2.2650780597987743,
          -0.9864450479316049,
          -1.336167508099443,
          -1.0797057712090734,
          -2.2803196562356067,
          -1.0797060708350124,
          -1.3371006364114881,
          -0.9864646194815054,
          -2.1617595276462938,
          -1.0797752037884978,
          -2.283390980814924,
          -1.079702851007024,
          -0.9864502256277148,
          -1.079696259383185,
          -0.9864554463490453,
          -1.5095439237869444,
          -2.343195632634153,
          -1.3361684804493736,
          -1.8049582223621607,
          -1.0797406804081107,
          -1.3361676876587778,
          -1.0797056237059963,
          -2.3625423463770217,
          -2.0162069472906476,
          -2.076770703526659,
          -1.0843197584397,
          -0.9863291902605834,
          -0.9865254877915809,
          -2.3432037210327126,
          -1.079697128790639,
          -2.3432020404976717,
          -2.3150988662095573,
          -1.033285973671579,
          -2.287039220742957,
          -1.0796964880987652,
          -0.9869020434010308,
          -2.0767682644225194,
          -1.079700840749608,
          -2.315096954783077,
          -2.3272119139351015,
          -1.0815517759734965,
          -0.6392518766148052,
          -1.079704327980622,
          -1.336782902474053,
          -1.0797243069016285,
          -2.2869768704876097,
          -2.0501801828857498,
          -2.2792573748401326,
          -2.0462023302723944,
          -2.3433661362908818,
          -0.9864763912383336,
          -1.0796975934254813,
          -1.0797293362189309,
          -0.986461431751806,
          -0.986452045622943,
          -2.343213647503382,
          -2.1339615254825746,
          -1.1044934932952712,
          -1.2510995106687615,
          -0.9869099500444238,
          -1.3361687847209287,
          -1.0846383826759798,
          -1.018879220126366,
          -1.0797015185271575,
          -1.0797283476326929,
          -1.0797294176799477,
          -1.0797289627250788,
          -2.3432322875906815,
          -2.0844315886735862,
          -0.9861420746813883,
          -1.6690035187008303,
          -2.076765775118578,
          -2.1618069515003753,
          -1.079700778407496,
          -0.9865344955082317,
          -1.6690110517619987,
          -2.016332128097515,
          -1.669005069415267,
          -1.804924449948856,
          -2.3750037767747845,
          -2.343198222326798,
          -2.0206912429197,
          -0.9866689939104658,
          -2.2872396109440625,
          -1.0803638673907154,
          -1.362837248261902,
          -0.9864517861995062,
          -1.6689991288753985,
          -1.6691004358535129,
          -1.0797070135145705,
          -0.9864514854298496,
          -1.3361674691396719,
          -1.1837702086141542,
          -2.7912960449854594,
          -2.4042564251806233,
          -2.3432954498826746,
          -1.0801505089860481,
          -2.161749259089783,
          -1.2148457279577407,
          -1.0797097664185769,
          -1.082197773488274,
          -0.9865897560120086,
          -0.49589997856583656,
          -2.019160008681682,
          -2.34363091031312,
          -1.0797043851434238,
          -2.38347028814951,
          -2.076765809597956,
          -2.3626650750090277,
          -0.9864778105927356,
          -2.3431961016501646,
          -0.6392343939784655,
          -2.315105159182616,
          -2.2109998161413946,
          -2.362537463197577,
          -2.343476637126221,
          -2.265615681338737,
          -2.412241743200216,
          -2.1832197249256162,
          -2.3434267636091577,
          -1.2075320081791492,
          -2.2098836209411385,
          -0.9864520261360032,
          -1.0797060338742157,
          -2.2877739064994773,
          -2.344927299743643,
          -0.4917377492098146,
          -2.3100461383326065,
          -1.3362619513408605,
          -0.9864538992211411,
          -1.207567994906883,
          -2.078539453199298,
          -2.362569232294906,
          -1.3361687860286435,
          -2.3462035062129023,
          -2.2032497017472368,
          -2.203206028918776,
          -2.246449258376857,
          -1.0797377098303291,
          -2.076871729316249,
          -2.0767670482150895,
          -1.624573266763091,
          -1.336174438734967,
          -0.3801162113741677,
          -1.3362096471016505,
          -1.1258483424809722,
          -1.6692488492224322,
          -2.2064858649716568,
          -1.0798351295878241,
          -1.3361765467544842,
          -1.0906499968565588,
          -1.1789896497506709,
          -1.0796964361675239,
          -1.079752263996698,
          -1.8048185550160663,
          -2.1212797178703036,
          -2.0162068692641113,
          -2.3434364759263624,
          -2.076769987797571
         ],
         "z": [
          0.12143804370939129,
          0.25800588589090184,
          -0.021672115085296713,
          0.31933567670182256,
          0.25799072056797684,
          0.35535829445790984,
          0.2511128072912049,
          -0.021655090427282243,
          0.03706237287939985,
          -0.02165938002486854,
          0.25455130796045344,
          -0.04705342050727837,
          0.12139401492777738,
          -0.021697890641984966,
          -0.021660672995527982,
          0.0353003331938675,
          0.09068063613912347,
          -0.02166310037216552,
          -0.02165541632143707,
          -0.021654331536009656,
          0.037063886466036575,
          0.2503913554332005,
          0.11583961518915856,
          -0.02536041517240312,
          -0.021658489838785676,
          -0.021721373802299326,
          -0.021658900098541246,
          -0.021653406100628984,
          0.14649966163649178,
          -0.02194486341201741,
          -0.02167178022133675,
          -0.02166653762025099,
          -0.04798417238289655,
          0.12143733380245597,
          -0.021703963450196092,
          -0.021658068047029935,
          -0.021652743551106697,
          -0.021663749672110544,
          0.2919688675186464,
          -0.021654370852453673,
          -0.023175814484267053,
          0.1214387600372432,
          -0.02174984046308289,
          -0.02165404332669008,
          -0.02167437974404703,
          -0.02166153891253871,
          0.12125824877367121,
          0.12143057370570462,
          0.1214355302476,
          0.12143765414994163,
          0.12144339583001108,
          0.037065927919533545,
          -0.021659125107735808,
          0.17346911678957452,
          -0.021696815222413825,
          0.12143168136088547,
          0.22535526032958592,
          0.2766684356779112,
          -0.021674669533621335,
          -0.02185671039317402,
          -0.021694285170261052,
          -0.02165262100477637,
          -0.0216971747917051,
          -0.02189647913044626,
          0.25458347020106176,
          0.2550479994737999,
          0.09707373518518554,
          -0.02165490577094379,
          -0.02334891090106158,
          0.35078606222752984,
          -0.021652586375895167,
          0.12143927050004333,
          -0.02773808577248503,
          0.0370567823284757,
          0.27138122990452,
          0.12143659058862631,
          0.03706124841636908,
          -0.021673624279282506,
          -0.02168591887268785,
          0.25802658644199516,
          0.2830504311096222,
          0.0370615782927336,
          0.12143735442771628,
          -0.021713442430588155,
          0.2415747110818791,
          -0.021673640977199447,
          0.11513229608998223,
          0.03705051523668304,
          0.2784137289988643,
          -0.021663685393052943,
          0.21410351921468176,
          -0.02165520443924608,
          0.037061479911681905,
          -0.02165258549523138,
          0.037064235906463294,
          0.667254761203744,
          0.2788780292615981,
          0.12144141171035323,
          0.2547587395738936,
          -0.02169186773271644,
          0.12144070931052414,
          -0.021656887036450367,
          0.22903619865782765,
          0.25802244436994126,
          0.3553586917114327,
          -0.022357959894134194,
          0.036848137016555885,
          0.037037340729382404,
          0.2788788381685362,
          -0.02165278658017675,
          0.2788766925049199,
          0.27138758431401505,
          0.030330799237929484,
          0.3193248382764663,
          -0.021653327958965504,
          0.0369932289429137,
          0.3553586626364709,
          -0.021681435982817344,
          0.27138311435898665,
          0.1676045914641152,
          -0.021931389764138356,
          -0.009929921404116934,
          -0.02165930792308553,
          0.12098225244149977,
          -0.02166023869080821,
          0.3193170942013323,
          0.33890001861029984,
          0.29042856353480717,
          0.2871120723330639,
          0.2783419252019555,
          0.037051695425391155,
          -0.021657752352508754,
          -0.02165852762500516,
          0.03705638355021206,
          0.03706435991706004,
          0.2788736955423567,
          0.31034101278636445,
          -0.0714878906138899,
          0.014844524744211192,
          0.03696593990119158,
          0.12143802835032773,
          -0.022347074237135545,
          -0.053757426880013774,
          -0.021655907849239847,
          -0.02166188115815069,
          -0.02166635035271085,
          -0.021666590521293827,
          0.2788725584949598,
          0.3528022312575771,
          0.03634034157150818,
          0.1465660123938791,
          0.3553560900274714,
          0.2783990240440346,
          -0.02168146889293172,
          0.037003711096240226,
          0.1465643257361939,
          0.2580086755878629,
          0.1465653207886227,
          0.25491081105322533,
          0.2689290645193087,
          0.27887860977537504,
          0.25725163619769664,
          0.0370117863394306,
          0.3191743636546682,
          -0.02287311046577882,
          -0.005744874346491178,
          0.03706393980231905,
          0.1465655828005661,
          0.14646835489008775,
          -0.021666850756514252,
          0.037062774213883654,
          0.121437596261805,
          0.1163894082264126,
          0.2008020984255095,
          0.20121757754112554,
          0.2788281532010021,
          -0.02455888750710888,
          0.27838628422941913,
          0.1732688664695902,
          -0.021657846409771565,
          -0.026123227535269994,
          0.03698568847843953,
          0.22729883025197745,
          0.25754450696958164,
          0.2787963274147261,
          -0.021654709204919645,
          0.2089862235960825,
          0.3553406913969974,
          0.22901333083642977,
          0.03705244469605246,
          0.27887563396751125,
          -0.009930576131826773,
          0.2713857841814704,
          0.26079992960550835,
          0.22903705030839822,
          0.2788407388354894,
          0.28656943148587066,
          0.25743852256108496,
          0.27222224125931227,
          0.2786885593085372,
          0.18364556648111421,
          0.347242632990499,
          0.037063688908623715,
          -0.021654186595557297,
          0.3192202807729679,
          0.17175880870724755,
          0.13137817252383896,
          0.25203160682349535,
          0.12083309642367626,
          0.03706341918475763,
          0.18364004644714296,
          0.3539078316401821,
          0.22903069582080854,
          0.121438029040664,
          0.2779268140528587,
          0.2858267549032571,
          0.2858288363246636,
          0.28685708842044155,
          -0.021668265549140486,
          0.35533594541477664,
          0.3553536516647568,
          0.09706564750661832,
          0.12142748402170121,
          -0.07366771302457015,
          0.12141334891725292,
          -0.028154046002267563,
          0.14544549934074325,
          0.2853657798428445,
          -0.021893711824362446,
          0.12143551867843985,
          -0.03160142510857317,
          0.09067391524021294,
          -0.021653871365156212,
          -0.02168008948353869,
          0.25506168393126016,
          0.3723879446073535,
          0.2580229435856733,
          0.2785677646668818,
          0.35535831388133876
         ]
        },
        {
         "customdata": [
          [
           "SHA-256 + Hive"
          ],
          [
           "Leased POS"
          ]
         ],
         "hovertemplate": "<b>%{hovertext}</b><br><br>class=%{marker.color}<br>PC1=%{x}<br>PC2=%{y}<br>PC3=%{z}<br>Algorithm=%{customdata[0]}<extra></extra>",
         "hovertext": [
          "LitecoinCash",
          "Waves"
         ],
         "legendgroup": "3",
         "marker": {
          "color": [
           3,
           3
          ],
          "coloraxis": "coloraxis",
          "symbol": "square"
         },
         "mode": "markers",
         "name": "3",
         "scene": "scene",
         "showlegend": true,
         "type": "scatter3d",
         "x": [
          -0.303650819764251,
          -0.4981353282464438
         ],
         "y": [
          1.9906566367448273,
          4.381265701076205
         ],
         "z": [
          14.85915675453485,
          27.20914018716291
         ]
        },
        {
         "customdata": [
          [
           "TRC10"
          ]
         ],
         "hovertemplate": "<b>%{hovertext}</b><br><br>class=%{marker.color}<br>PC1=%{x}<br>PC2=%{y}<br>PC3=%{z}<br>Algorithm=%{customdata[0]}<extra></extra>",
         "hovertext": [
          "BitTorrent"
         ],
         "legendgroup": "1",
         "marker": {
          "color": [
           1
          ],
          "coloraxis": "coloraxis",
          "symbol": "x"
         },
         "mode": "markers",
         "name": "1",
         "scene": "scene",
         "showlegend": true,
         "type": "scatter3d",
         "x": [
          34.0419912795808
         ],
         "y": [
          1.8030021754756624
         ],
         "z": [
          -0.6043620957743244
         ]
        }
       ],
       "layout": {
        "coloraxis": {
         "colorbar": {
          "title": {
           "text": "class"
          }
         },
         "colorscale": [
          [
           0,
           "#0d0887"
          ],
          [
           0.1111111111111111,
           "#46039f"
          ],
          [
           0.2222222222222222,
           "#7201a8"
          ],
          [
           0.3333333333333333,
           "#9c179e"
          ],
          [
           0.4444444444444444,
           "#bd3786"
          ],
          [
           0.5555555555555556,
           "#d8576b"
          ],
          [
           0.6666666666666666,
           "#ed7953"
          ],
          [
           0.7777777777777778,
           "#fb9f3a"
          ],
          [
           0.8888888888888888,
           "#fdca26"
          ],
          [
           1,
           "#f0f921"
          ]
         ]
        },
        "legend": {
         "title": {
          "text": "class"
         },
         "tracegroupgap": 0,
         "x": 0,
         "y": 1
        },
        "margin": {
         "t": 60
        },
        "scene": {
         "domain": {
          "x": [
           0,
           1
          ],
          "y": [
           0,
           1
          ]
         },
         "xaxis": {
          "title": {
           "text": "PC1"
          }
         },
         "yaxis": {
          "title": {
           "text": "PC2"
          }
         },
         "zaxis": {
          "title": {
           "text": "PC3"
          }
         }
        },
        "template": {
         "data": {
          "bar": [
           {
            "error_x": {
             "color": "#2a3f5f"
            },
            "error_y": {
             "color": "#2a3f5f"
            },
            "marker": {
             "line": {
              "color": "#E5ECF6",
              "width": 0.5
             },
             "pattern": {
              "fillmode": "overlay",
              "size": 10,
              "solidity": 0.2
             }
            },
            "type": "bar"
           }
          ],
          "barpolar": [
           {
            "marker": {
             "line": {
              "color": "#E5ECF6",
              "width": 0.5
             },
             "pattern": {
              "fillmode": "overlay",
              "size": 10,
              "solidity": 0.2
             }
            },
            "type": "barpolar"
           }
          ],
          "carpet": [
           {
            "aaxis": {
             "endlinecolor": "#2a3f5f",
             "gridcolor": "white",
             "linecolor": "white",
             "minorgridcolor": "white",
             "startlinecolor": "#2a3f5f"
            },
            "baxis": {
             "endlinecolor": "#2a3f5f",
             "gridcolor": "white",
             "linecolor": "white",
             "minorgridcolor": "white",
             "startlinecolor": "#2a3f5f"
            },
            "type": "carpet"
           }
          ],
          "choropleth": [
           {
            "colorbar": {
             "outlinewidth": 0,
             "ticks": ""
            },
            "type": "choropleth"
           }
          ],
          "contour": [
           {
            "colorbar": {
             "outlinewidth": 0,
             "ticks": ""
            },
            "colorscale": [
             [
              0,
              "#0d0887"
             ],
             [
              0.1111111111111111,
              "#46039f"
             ],
             [
              0.2222222222222222,
              "#7201a8"
             ],
             [
              0.3333333333333333,
              "#9c179e"
             ],
             [
              0.4444444444444444,
              "#bd3786"
             ],
             [
              0.5555555555555556,
              "#d8576b"
             ],
             [
              0.6666666666666666,
              "#ed7953"
             ],
             [
              0.7777777777777778,
              "#fb9f3a"
             ],
             [
              0.8888888888888888,
              "#fdca26"
             ],
             [
              1,
              "#f0f921"
             ]
            ],
            "type": "contour"
           }
          ],
          "contourcarpet": [
           {
            "colorbar": {
             "outlinewidth": 0,
             "ticks": ""
            },
            "type": "contourcarpet"
           }
          ],
          "heatmap": [
           {
            "colorbar": {
             "outlinewidth": 0,
             "ticks": ""
            },
            "colorscale": [
             [
              0,
              "#0d0887"
             ],
             [
              0.1111111111111111,
              "#46039f"
             ],
             [
              0.2222222222222222,
              "#7201a8"
             ],
             [
              0.3333333333333333,
              "#9c179e"
             ],
             [
              0.4444444444444444,
              "#bd3786"
             ],
             [
              0.5555555555555556,
              "#d8576b"
             ],
             [
              0.6666666666666666,
              "#ed7953"
             ],
             [
              0.7777777777777778,
              "#fb9f3a"
             ],
             [
              0.8888888888888888,
              "#fdca26"
             ],
             [
              1,
              "#f0f921"
             ]
            ],
            "type": "heatmap"
           }
          ],
          "heatmapgl": [
           {
            "colorbar": {
             "outlinewidth": 0,
             "ticks": ""
            },
            "colorscale": [
             [
              0,
              "#0d0887"
             ],
             [
              0.1111111111111111,
              "#46039f"
             ],
             [
              0.2222222222222222,
              "#7201a8"
             ],
             [
              0.3333333333333333,
              "#9c179e"
             ],
             [
              0.4444444444444444,
              "#bd3786"
             ],
             [
              0.5555555555555556,
              "#d8576b"
             ],
             [
              0.6666666666666666,
              "#ed7953"
             ],
             [
              0.7777777777777778,
              "#fb9f3a"
             ],
             [
              0.8888888888888888,
              "#fdca26"
             ],
             [
              1,
              "#f0f921"
             ]
            ],
            "type": "heatmapgl"
           }
          ],
          "histogram": [
           {
            "marker": {
             "pattern": {
              "fillmode": "overlay",
              "size": 10,
              "solidity": 0.2
             }
            },
            "type": "histogram"
           }
          ],
          "histogram2d": [
           {
            "colorbar": {
             "outlinewidth": 0,
             "ticks": ""
            },
            "colorscale": [
             [
              0,
              "#0d0887"
             ],
             [
              0.1111111111111111,
              "#46039f"
             ],
             [
              0.2222222222222222,
              "#7201a8"
             ],
             [
              0.3333333333333333,
              "#9c179e"
             ],
             [
              0.4444444444444444,
              "#bd3786"
             ],
             [
              0.5555555555555556,
              "#d8576b"
             ],
             [
              0.6666666666666666,
              "#ed7953"
             ],
             [
              0.7777777777777778,
              "#fb9f3a"
             ],
             [
              0.8888888888888888,
              "#fdca26"
             ],
             [
              1,
              "#f0f921"
             ]
            ],
            "type": "histogram2d"
           }
          ],
          "histogram2dcontour": [
           {
            "colorbar": {
             "outlinewidth": 0,
             "ticks": ""
            },
            "colorscale": [
             [
              0,
              "#0d0887"
             ],
             [
              0.1111111111111111,
              "#46039f"
             ],
             [
              0.2222222222222222,
              "#7201a8"
             ],
             [
              0.3333333333333333,
              "#9c179e"
             ],
             [
              0.4444444444444444,
              "#bd3786"
             ],
             [
              0.5555555555555556,
              "#d8576b"
             ],
             [
              0.6666666666666666,
              "#ed7953"
             ],
             [
              0.7777777777777778,
              "#fb9f3a"
             ],
             [
              0.8888888888888888,
              "#fdca26"
             ],
             [
              1,
              "#f0f921"
             ]
            ],
            "type": "histogram2dcontour"
           }
          ],
          "mesh3d": [
           {
            "colorbar": {
             "outlinewidth": 0,
             "ticks": ""
            },
            "type": "mesh3d"
           }
          ],
          "parcoords": [
           {
            "line": {
             "colorbar": {
              "outlinewidth": 0,
              "ticks": ""
             }
            },
            "type": "parcoords"
           }
          ],
          "pie": [
           {
            "automargin": true,
            "type": "pie"
           }
          ],
          "scatter": [
           {
            "marker": {
             "colorbar": {
              "outlinewidth": 0,
              "ticks": ""
             }
            },
            "type": "scatter"
           }
          ],
          "scatter3d": [
           {
            "line": {
             "colorbar": {
              "outlinewidth": 0,
              "ticks": ""
             }
            },
            "marker": {
             "colorbar": {
              "outlinewidth": 0,
              "ticks": ""
             }
            },
            "type": "scatter3d"
           }
          ],
          "scattercarpet": [
           {
            "marker": {
             "colorbar": {
              "outlinewidth": 0,
              "ticks": ""
             }
            },
            "type": "scattercarpet"
           }
          ],
          "scattergeo": [
           {
            "marker": {
             "colorbar": {
              "outlinewidth": 0,
              "ticks": ""
             }
            },
            "type": "scattergeo"
           }
          ],
          "scattergl": [
           {
            "marker": {
             "colorbar": {
              "outlinewidth": 0,
              "ticks": ""
             }
            },
            "type": "scattergl"
           }
          ],
          "scattermapbox": [
           {
            "marker": {
             "colorbar": {
              "outlinewidth": 0,
              "ticks": ""
             }
            },
            "type": "scattermapbox"
           }
          ],
          "scatterpolar": [
           {
            "marker": {
             "colorbar": {
              "outlinewidth": 0,
              "ticks": ""
             }
            },
            "type": "scatterpolar"
           }
          ],
          "scatterpolargl": [
           {
            "marker": {
             "colorbar": {
              "outlinewidth": 0,
              "ticks": ""
             }
            },
            "type": "scatterpolargl"
           }
          ],
          "scatterternary": [
           {
            "marker": {
             "colorbar": {
              "outlinewidth": 0,
              "ticks": ""
             }
            },
            "type": "scatterternary"
           }
          ],
          "surface": [
           {
            "colorbar": {
             "outlinewidth": 0,
             "ticks": ""
            },
            "colorscale": [
             [
              0,
              "#0d0887"
             ],
             [
              0.1111111111111111,
              "#46039f"
             ],
             [
              0.2222222222222222,
              "#7201a8"
             ],
             [
              0.3333333333333333,
              "#9c179e"
             ],
             [
              0.4444444444444444,
              "#bd3786"
             ],
             [
              0.5555555555555556,
              "#d8576b"
             ],
             [
              0.6666666666666666,
              "#ed7953"
             ],
             [
              0.7777777777777778,
              "#fb9f3a"
             ],
             [
              0.8888888888888888,
              "#fdca26"
             ],
             [
              1,
              "#f0f921"
             ]
            ],
            "type": "surface"
           }
          ],
          "table": [
           {
            "cells": {
             "fill": {
              "color": "#EBF0F8"
             },
             "line": {
              "color": "white"
             }
            },
            "header": {
             "fill": {
              "color": "#C8D4E3"
             },
             "line": {
              "color": "white"
             }
            },
            "type": "table"
           }
          ]
         },
         "layout": {
          "annotationdefaults": {
           "arrowcolor": "#2a3f5f",
           "arrowhead": 0,
           "arrowwidth": 1
          },
          "autotypenumbers": "strict",
          "coloraxis": {
           "colorbar": {
            "outlinewidth": 0,
            "ticks": ""
           }
          },
          "colorscale": {
           "diverging": [
            [
             0,
             "#8e0152"
            ],
            [
             0.1,
             "#c51b7d"
            ],
            [
             0.2,
             "#de77ae"
            ],
            [
             0.3,
             "#f1b6da"
            ],
            [
             0.4,
             "#fde0ef"
            ],
            [
             0.5,
             "#f7f7f7"
            ],
            [
             0.6,
             "#e6f5d0"
            ],
            [
             0.7,
             "#b8e186"
            ],
            [
             0.8,
             "#7fbc41"
            ],
            [
             0.9,
             "#4d9221"
            ],
            [
             1,
             "#276419"
            ]
           ],
           "sequential": [
            [
             0,
             "#0d0887"
            ],
            [
             0.1111111111111111,
             "#46039f"
            ],
            [
             0.2222222222222222,
             "#7201a8"
            ],
            [
             0.3333333333333333,
             "#9c179e"
            ],
            [
             0.4444444444444444,
             "#bd3786"
            ],
            [
             0.5555555555555556,
             "#d8576b"
            ],
            [
             0.6666666666666666,
             "#ed7953"
            ],
            [
             0.7777777777777778,
             "#fb9f3a"
            ],
            [
             0.8888888888888888,
             "#fdca26"
            ],
            [
             1,
             "#f0f921"
            ]
           ],
           "sequentialminus": [
            [
             0,
             "#0d0887"
            ],
            [
             0.1111111111111111,
             "#46039f"
            ],
            [
             0.2222222222222222,
             "#7201a8"
            ],
            [
             0.3333333333333333,
             "#9c179e"
            ],
            [
             0.4444444444444444,
             "#bd3786"
            ],
            [
             0.5555555555555556,
             "#d8576b"
            ],
            [
             0.6666666666666666,
             "#ed7953"
            ],
            [
             0.7777777777777778,
             "#fb9f3a"
            ],
            [
             0.8888888888888888,
             "#fdca26"
            ],
            [
             1,
             "#f0f921"
            ]
           ]
          },
          "colorway": [
           "#636efa",
           "#EF553B",
           "#00cc96",
           "#ab63fa",
           "#FFA15A",
           "#19d3f3",
           "#FF6692",
           "#B6E880",
           "#FF97FF",
           "#FECB52"
          ],
          "font": {
           "color": "#2a3f5f"
          },
          "geo": {
           "bgcolor": "white",
           "lakecolor": "white",
           "landcolor": "#E5ECF6",
           "showlakes": true,
           "showland": true,
           "subunitcolor": "white"
          },
          "hoverlabel": {
           "align": "left"
          },
          "hovermode": "closest",
          "mapbox": {
           "style": "light"
          },
          "paper_bgcolor": "white",
          "plot_bgcolor": "#E5ECF6",
          "polar": {
           "angularaxis": {
            "gridcolor": "white",
            "linecolor": "white",
            "ticks": ""
           },
           "bgcolor": "#E5ECF6",
           "radialaxis": {
            "gridcolor": "white",
            "linecolor": "white",
            "ticks": ""
           }
          },
          "scene": {
           "xaxis": {
            "backgroundcolor": "#E5ECF6",
            "gridcolor": "white",
            "gridwidth": 2,
            "linecolor": "white",
            "showbackground": true,
            "ticks": "",
            "zerolinecolor": "white"
           },
           "yaxis": {
            "backgroundcolor": "#E5ECF6",
            "gridcolor": "white",
            "gridwidth": 2,
            "linecolor": "white",
            "showbackground": true,
            "ticks": "",
            "zerolinecolor": "white"
           },
           "zaxis": {
            "backgroundcolor": "#E5ECF6",
            "gridcolor": "white",
            "gridwidth": 2,
            "linecolor": "white",
            "showbackground": true,
            "ticks": "",
            "zerolinecolor": "white"
           }
          },
          "shapedefaults": {
           "line": {
            "color": "#2a3f5f"
           }
          },
          "ternary": {
           "aaxis": {
            "gridcolor": "white",
            "linecolor": "white",
            "ticks": ""
           },
           "baxis": {
            "gridcolor": "white",
            "linecolor": "white",
            "ticks": ""
           },
           "bgcolor": "#E5ECF6",
           "caxis": {
            "gridcolor": "white",
            "linecolor": "white",
            "ticks": ""
           }
          },
          "title": {
           "x": 0.05
          },
          "xaxis": {
           "automargin": true,
           "gridcolor": "white",
           "linecolor": "white",
           "ticks": "",
           "title": {
            "standoff": 15
           },
           "zerolinecolor": "white",
           "zerolinewidth": 2
          },
          "yaxis": {
           "automargin": true,
           "gridcolor": "white",
           "linecolor": "white",
           "ticks": "",
           "title": {
            "standoff": 15
           },
           "zerolinecolor": "white",
           "zerolinewidth": 2
          }
         }
        },
        "width": 800
       }
      },
      "text/html": [
       "<div>                            <div id=\"f3b95ba8-c3cc-4c6a-b1de-d88379645587\" class=\"plotly-graph-div\" style=\"height:525px; width:800px;\"></div>            <script type=\"text/javascript\">                require([\"plotly\"], function(Plotly) {                    window.PLOTLYENV=window.PLOTLYENV || {};                                    if (document.getElementById(\"f3b95ba8-c3cc-4c6a-b1de-d88379645587\")) {                    Plotly.newPlot(                        \"f3b95ba8-c3cc-4c6a-b1de-d88379645587\",                        [{\"customdata\":[[\"Scrypt\"],[\"Scrypt\"],[\"X13\"],[\"X11\"],[\"SHA-512\"],[\"SHA-256\"],[\"SHA-256\"],[\"X15\"],[\"Scrypt\"],[\"Scrypt\"],[\"Scrypt\"],[\"Scrypt\"],[\"Scrypt\"],[\"Scrypt\"],[\"Groestl\"],[\"PoS\"],[\"Scrypt\"],[\"Scrypt\"],[\"X11\"],[\"X11\"],[\"SHA3\"],[\"Scrypt\"],[\"SHA-256\"],[\"Scrypt\"],[\"X13\"],[\"X13\"],[\"NeoScrypt\"],[\"Scrypt\"],[\"Scrypt\"],[\"Scrypt\"],[\"X11\"],[\"X11\"],[\"Multiple\"],[\"PHI1612\"],[\"X11\"],[\"Scrypt\"],[\"Scrypt\"],[\"Scrypt\"],[\"X11\"],[\"Multiple\"],[\"X13\"],[\"Scrypt\"],[\"Shabal256\"],[\"Counterparty\"],[\"SHA-256\"],[\"Groestl\"],[\"Scrypt\"],[\"X13\"],[\"Scrypt\"],[\"Scrypt\"],[\"X13\"],[\"X11\"],[\"Scrypt\"],[\"X11\"],[\"SHA3\"],[\"QUAIT\"],[\"X11\"],[\"Scrypt\"],[\"X13\"],[\"SHA-256\"],[\"X15\"],[\"BLAKE256\"],[\"SHA-256\"],[\"X11\"],[\"SHA-256\"],[\"NIST5\"],[\"Scrypt\"],[\"Scrypt\"],[\"X11\"],[\"Scrypt\"],[\"SHA-256\"],[\"Scrypt\"],[\"PoS\"],[\"X11\"],[\"SHA-256\"],[\"SHA-256\"],[\"NIST5\"],[\"X11\"],[\"POS 3.0\"],[\"Scrypt\"],[\"Scrypt\"],[\"Scrypt\"],[\"X13\"],[\"X11\"],[\"X11\"],[\"Scrypt\"],[\"SHA-256\"],[\"X11\"],[\"Scrypt\"],[\"Scrypt\"],[\"Scrypt\"],[\"Scrypt\"],[\"SHA-256D\"],[\"PoS\"],[\"Scrypt\"],[\"X11\"],[\"PoS\"],[\"X13\"],[\"X14\"],[\"PoS\"],[\"SHA-256D\"],[\"DPoS\"],[\"X11\"],[\"X13\"],[\"X11\"],[\"PoS\"],[\"Scrypt\"],[\"Scrypt\"],[\"PoS\"],[\"X11\"],[\"SHA-256\"],[\"Scrypt\"],[\"X11\"],[\"Scrypt\"],[\"Scrypt\"],[\"X11\"],[\"Scrypt\"],[\"Scrypt\"],[\"Scrypt\"],[\"Scrypt\"],[\"Quark\"],[\"QuBit\"],[\"Scrypt\"],[\"SHA-256\"],[\"X11\"],[\"Scrypt\"],[\"Scrypt\"],[\"Scrypt\"],[\"Scrypt\"],[\"X13\"],[\"Scrypt\"],[\"Scrypt\"],[\"X11\"],[\"Blake2S\"],[\"X11\"],[\"PoS\"],[\"X11\"],[\"PoS\"],[\"X11\"],[\"Scrypt\"],[\"Scrypt\"],[\"Scrypt\"],[\"SHA-256\"],[\"X11\"],[\"Scrypt\"],[\"PoS\"],[\"Scrypt\"],[\"X15\"],[\"SHA-256\"],[\"POS 3.0\"],[\"536\"],[\"NIST5\"],[\"NIST5\"],[\"Skein\"],[\"X13\"],[\"Scrypt\"],[\"X13\"],[\"SkunkHash v2 Raptor\"],[\"Skein\"],[\"X11\"],[\"Scrypt\"],[\"VeChainThor Authority\"],[\"PoS\"],[\"Scrypt\"],[\"Scrypt\"],[\"SHA-512\"],[\"Ouroboros\"],[\"X11\"],[\"NeoScrypt\"],[\"Scrypt\"],[\"Lyra2REv2\"],[\"Scrypt\"],[\"SHA-256\"],[\"NIST5\"],[\"PHI1612\"],[\"Scrypt\"],[\"Quark\"],[\"POS 2.0\"],[\"Scrypt\"],[\"SHA-256\"],[\"X11\"],[\"DPoS\"],[\"NIST5\"],[\"X13\"],[\"Scrypt\"],[\"NIST5\"],[\"Quark\"],[\"Scrypt\"],[\"Scrypt\"],[\"X11\"],[\"Quark\"],[\"Scrypt\"],[\"Scrypt\"],[\"X11\"],[\"POS 3.0\"],[\"Ethash\"],[\"Scrypt\"],[\"Scrypt\"],[\"X13\"],[\"Proof-of-BibleHash\"],[\"C11\"],[\"X11\"],[\"XEVAN\"],[\"Scrypt\"],[\"VBFT\"],[\"NIST5\"],[\"Scrypt\"],[\"Scrypt\"],[\"Scrypt\"],[\"Green Protocol\"],[\"PoS\"],[\"Scrypt\"],[\"Semux BFT consensus\"],[\"Quark\"],[\"PoS\"],[\"X16R\"],[\"Scrypt\"],[\"XEVAN\"],[\"Scrypt\"],[\"Scrypt\"],[\"Scrypt\"],[\"SHA-256D\"],[\"Scrypt\"],[\"X15\"],[\"Scrypt\"],[\"Quark\"],[\"SHA-256\"],[\"DPoS\"],[\"X16R\"],[\"Quark\"],[\"Quark\"],[\"Scrypt\"],[\"Lyra2REv2\"],[\"Quark\"],[\"Scrypt\"],[\"X11\"],[\"X11\"],[\"Scrypt\"],[\"PoS\"],[\"Keccak\"],[\"X11\"],[\"Scrypt\"],[\"SHA-512\"],[\"ECC 256K1\"],[\"XEVAN\"],[\"XEVAN\"],[\"X11\"],[\"Quark\"],[\"Equihash\"],[\"Scrypt\"],[\"Quark\"],[\"Quark\"],[\"Scrypt\"],[\"X11\"],[\"Scrypt\"],[\"XEVAN\"],[\"SHA-256D\"],[\"X11\"],[\"X11\"],[\"DPoS\"],[\"Scrypt\"],[\"X11\"],[\"Scrypt\"],[\"Scrypt\"],[\"SHA-256\"],[\"Scrypt\"],[\"X11\"],[\"Scrypt\"],[\"SHA-256\"],[\"X11\"],[\"Scrypt\"],[\"Scrypt\"],[\"X11\"],[\"Scrypt\"],[\"PoS\"],[\"X11\"],[\"SHA-256\"],[\"DPoS\"],[\"Scrypt\"],[\"Scrypt\"],[\"NeoScrypt\"],[\"X13\"],[\"DPoS\"],[\"DPoS\"],[\"SHA-256\"],[\"PoS\"],[\"PoS\"],[\"SHA-256\"],[\"Scrypt\"],[\"Scrypt\"]],\"hovertemplate\":\"<b>%{hovertext}</b><br><br>class=%{marker.color}<br>PC1=%{x}<br>PC2=%{y}<br>PC3=%{z}<br>Algorithm=%{customdata[0]}<extra></extra>\",\"hovertext\":[\"42 Coin\",\"404Coin\",\"EliteCoin\",\"Dash\",\"Bitshares\",\"BitcoinDark\",\"PayCoin\",\"KoboCoin\",\"Aurora Coin\",\"BlueCoin\",\"EnergyCoin\",\"BitBar\",\"CryptoBullion\",\"CasinoCoin\",\"Diamond\",\"Exclusive Coin\",\"FlutterCoin\",\"HoboNickels\",\"HyperStake\",\"IOCoin\",\"MaxCoin\",\"MintCoin\",\"MazaCoin\",\"Nautilus Coin\",\"NavCoin\",\"OpalCoin\",\"Orbitcoin\",\"PotCoin\",\"PhoenixCoin\",\"Reddcoin\",\"SuperCoin\",\"SyncCoin\",\"TeslaCoin\",\"TittieCoin\",\"TorCoin\",\"UnitaryStatus Dollar\",\"UltraCoin\",\"VeriCoin\",\"X11 Coin\",\"Crypti\",\"StealthCoin\",\"ZCC Coin\",\"BurstCoin\",\"StorjCoin\",\"Neutron\",\"FairCoin\",\"RubyCoin\",\"Kore\",\"Dnotes\",\"8BIT Coin\",\"Sativa Coin\",\"Ucoin\",\"Vtorrent\",\"IslaCoin\",\"Nexus\",\"Droidz\",\"Squall Coin\",\"Diggits\",\"Paycon\",\"Emercoin\",\"EverGreenCoin\",\"Decred\",\"EDRCoin\",\"Hitcoin\",\"DubaiCoin\",\"PWR Coin\",\"BillaryCoin\",\"GPU Coin\",\"EuropeCoin\",\"ZeitCoin\",\"SwingCoin\",\"SafeExchangeCoin\",\"Nebuchadnezzar\",\"Ratecoin\",\"Revenu\",\"Clockcoin\",\"VIP Tokens\",\"BitSend\",\"Let it Ride\",\"PutinCoin\",\"iBankCoin\",\"Frankywillcoin\",\"MudraCoin\",\"Lutetium Coin\",\"GoldBlocks\",\"CarterCoin\",\"BitTokens\",\"MustangCoin\",\"ZoneCoin\",\"RootCoin\",\"BitCurrency\",\"Swiscoin\",\"BuzzCoin\",\"Opair\",\"PesoBit\",\"Halloween Coin\",\"CoffeeCoin\",\"RoyalCoin\",\"GanjaCoin V2\",\"TeamUP\",\"LanaCoin\",\"ARK\",\"InsaneCoin\",\"EmberCoin\",\"XenixCoin\",\"FreeCoin\",\"PLNCoin\",\"AquariusCoin\",\"Creatio\",\"Eternity\",\"Eurocoin\",\"BitcoinFast\",\"Stakenet\",\"BitConnect Coin\",\"MoneyCoin\",\"Enigma\",\"Russiacoin\",\"PandaCoin\",\"GameUnits\",\"GAKHcoin\",\"Allsafe\",\"LiteCreed\",\"Klingon Empire Darsek\",\"Internet of People\",\"KushCoin\",\"Printerium\",\"Impeach\",\"Zilbercoin\",\"FirstCoin\",\"FindCoin\",\"OpenChat\",\"RenosCoin\",\"VirtacoinPlus\",\"TajCoin\",\"Impact\",\"Atmos\",\"HappyCoin\",\"MacronCoin\",\"Condensate\",\"Independent Money System\",\"ArgusCoin\",\"LomoCoin\",\"ProCurrency\",\"GoldReserve\",\"GrowthCoin\",\"Phreak\",\"Degas Coin\",\"HTML5 Coin\",\"Ultimate Secure Cash\",\"QTUM\",\"Espers\",\"Denarius\",\"Virta Unique Coin\",\"Bitcoin Planet\",\"BritCoin\",\"Linda\",\"DeepOnion\",\"Signatum\",\"Cream\",\"Monoeci\",\"Draftcoin\",\"Vechain\",\"Stakecoin\",\"CoinonatX\",\"Ethereum Dark\",\"Obsidian\",\"Cardano\",\"Regalcoin\",\"TrezarCoin\",\"TerraNovaCoin\",\"Rupee\",\"WomenCoin\",\"Theresa May Coin\",\"NamoCoin\",\"LUXCoin\",\"Xios\",\"Bitcloud 2.0\",\"KekCoin\",\"BlackholeCoin\",\"Infinity Economics\",\"Magnet\",\"Lamden Tau\",\"Electra\",\"Bitcoin Diamond\",\"Cash & Back Coin\",\"Bulwark\",\"Kalkulus\",\"GermanCoin\",\"LiteCoin Ultra\",\"PhantomX\",\"Digiwage\",\"Trollcoin\",\"Litecoin Plus\",\"Monkey Project\",\"TokenPay\",\"1717 Masonic Commemorative Token\",\"My Big Coin\",\"Unified Society USDEX\",\"Tokyo Coin\",\"BiblePay\",\"Stipend\",\"Pushi\",\"Ellerium\",\"Velox\",\"Ontology\",\"Bitspace\",\"Briacoin\",\"Ignition\",\"MedicCoin\",\"Bitcoin Green\",\"Deviant Coin\",\"Abjcoin\",\"Semux\",\"Carebit\",\"Zealium\",\"Proton\",\"iDealCash\",\"Bitcoin Incognito\",\"HollyWoodCoin\",\"Swisscoin\",\"Xt3ch\",\"TheVig\",\"EmaratCoin\",\"Dekado\",\"Lynx\",\"Poseidon Quark\",\"BitcoinWSpectrum\",\"Muse\",\"Trivechain\",\"Dystem\",\"Giant\",\"Peony Coin\",\"Absolute Coin\",\"Vitae\",\"TPCash\",\"ARENON\",\"EUNO\",\"MMOCoin\",\"Ketan\",\"XDNA\",\"PAXEX\",\"ThunderStake\",\"Kcash\",\"Acute Angle Cloud\",\"Bettex coin\",\"BitMoney\",\"Junson Ming Chan Coin\",\"HerbCoin\",\"PirateCash\",\"Oduwa\",\"Galilel\",\"Crypto Sports\",\"Credit\",\"Dash Platinum\",\"Nasdacoin\",\"Beetle Coin\",\"Titan Coin\",\"Award\",\"Insane Coin\",\"ALAX\",\"LiteDoge\",\"TruckCoin\",\"OrangeCoin\",\"BitstarCoin\",\"NeosCoin\",\"HyperCoin\",\"PinkCoin\",\"AudioCoin\",\"IncaKoin\",\"Piggy Coin\",\"Genstake\",\"XiaoMiCoin\",\"CapriCoin\",\" ClubCoin\",\"Radium\",\"Creditbit \",\"OKCash\",\"Lisk\",\"HiCoin\",\"WhiteCoin\",\"FriendshipCoin\",\"Triangles Coin\",\"EOS\",\"Oxycoin\",\"TigerCash\",\"Particl\",\"Nxt\",\"ZEPHYR\",\"Gapcoin\",\"BitcoinPlus\"],\"legendgroup\":\"0\",\"marker\":{\"color\":[0,0,0,0,0,0,0,0,0,0,0,0,0,0,0,0,0,0,0,0,0,0,0,0,0,0,0,0,0,0,0,0,0,0,0,0,0,0,0,0,0,0,0,0,0,0,0,0,0,0,0,0,0,0,0,0,0,0,0,0,0,0,0,0,0,0,0,0,0,0,0,0,0,0,0,0,0,0,0,0,0,0,0,0,0,0,0,0,0,0,0,0,0,0,0,0,0,0,0,0,0,0,0,0,0,0,0,0,0,0,0,0,0,0,0,0,0,0,0,0,0,0,0,0,0,0,0,0,0,0,0,0,0,0,0,0,0,0,0,0,0,0,0,0,0,0,0,0,0,0,0,0,0,0,0,0,0,0,0,0,0,0,0,0,0,0,0,0,0,0,0,0,0,0,0,0,0,0,0,0,0,0,0,0,0,0,0,0,0,0,0,0,0,0,0,0,0,0,0,0,0,0,0,0,0,0,0,0,0,0,0,0,0,0,0,0,0,0,0,0,0,0,0,0,0,0,0,0,0,0,0,0,0,0,0,0,0,0,0,0,0,0,0,0,0,0,0,0,0,0,0,0,0,0,0,0,0,0,0,0,0,0,0,0,0,0,0,0,0,0,0,0,0,0,0,0,0,0,0,0,0,0,0,0,0,0,0,0,0,0],\"coloraxis\":\"coloraxis\",\"symbol\":\"circle\"},\"mode\":\"markers\",\"name\":\"0\",\"scene\":\"scene\",\"showlegend\":true,\"x\":[-0.33195209957593774,-0.3153034369984173,2.30870057152386,-0.3876943000639746,-0.29639504958993934,-0.30420843104629125,-0.27068659206351514,-0.23921604356407122,-0.33161195768288027,-0.3241954767739895,-0.3304498719858414,-0.3319480392511083,-0.3319323331484014,0.6010509146126095,-0.3680411189713464,-0.35736943543106975,-0.27701127944906484,-0.3300124902641386,-0.3340122288202047,-0.3875890803124515,-0.3793051717928672,-0.03855858528776318,-0.2675453264221873,-0.2981815614111799,-0.2730114873335635,-0.27363319910342715,-0.33902794181986506,-0.32625912974363336,-0.330355171106192,0.02590321557788512,-0.35388294555719346,-0.3879603438319225,-0.2621264618387863,-0.30822320691435995,-0.3878720593270289,-0.30720480450012433,-0.330630605432786,-0.30222219128017436,-0.38783656140511075,-0.26259377460284056,-0.2734142376219779,-0.323062848508382,-0.15962352268572405,-0.3705864063376438,-0.3034207996556452,-0.3674631418144537,-0.2981618281642628,-0.2737085318887964,-0.2928203961348827,-0.33193418244162626,-0.273660754500765,-0.35432744507434716,-0.33166878678849854,-0.3879418874878917,-0.34307468385562206,-0.40002615924451196,-0.4222725645031745,-0.2965646953630758,-0.2731827950205393,-0.29677161905673916,-0.24165536906290572,-0.07743786269256535,-0.30417936824114317,-0.06568164966181497,-0.30424300572836305,-0.22664600813744623,-0.3315447778377732,-0.29643390888810306,-0.38511355378062945,0.8540051209990177,-0.304043243916033,-0.12911426987621313,-0.3570529728164828,-0.38578664719714334,-0.3027878886102759,-0.30045814579247065,-0.3479077112135736,-0.3866781641340125,-0.37952799012203164,-0.3078612088159324,-0.33158284631086243,-0.330023126336826,-0.23888220011487182,-0.34182857480480267,-0.38741624028024174,-0.33078773278285467,-0.30422397852145394,-0.38793108930893927,-0.33177184484578515,-0.3319284201486707,-0.29642337802191693,-0.2316122857765485,0.05515846063055104,-0.3560109141501713,-0.3315428854355573,-0.37410533250504413,-0.35534007186069166,-0.24031155522284914,-0.39932546524955054,-0.35508935189627877,-0.2591094272515489,3.7442942666734567,-0.38752397242380016,0.8576004877797982,-0.38788603560874096,-0.3564742806016993,-0.3314705189575304,-0.33162472354690625,-0.3570529728164828,-0.38746131103001724,-0.304086760707055,-0.33147125123486837,-0.35683023270098485,-0.33161852138244563,-0.327210417431827,-0.3879150069177159,-0.3308299179270092,0.3445581040601205,-0.3318176301171605,-0.3318881396767643,-0.363326101457593,-0.34663608225535614,-0.3281181878889122,-0.3042004110709623,-0.38782503275481595,-0.33166613779486825,-0.3317929904776059,-0.2980684426697318,-0.33073007908500174,-0.2400796013502639,-0.3126623598933322,-0.29780976917620633,-0.38709141411038334,-0.40354526528880214,-0.3858307986789705,-0.3553009767984593,-0.38698938095727875,-0.3497055203781299,-0.3829338272884467,-0.33173632196176994,-0.33173551659255046,-0.32486326278714467,0.2615108663650792,-0.38746744474855316,-0.2807254806945036,-0.3570872450421861,-0.33094768673726804,0.891764187461666,-0.26937815173740787,-0.3783073537062568,0.6020440188831228,-0.3494420894577302,-0.34794557448178887,-0.3967076597949672,-0.27334611118178986,0.13259613428361983,-0.27341682092241487,-0.37203863380102525,-0.39621294106977334,-0.3877395947416022,-0.298142565123143,4.454244381218207,-0.35695364342834707,-0.3313718244248035,-0.33187108347603345,-0.35441083681276153,0.6564122941317373,-0.387680479273521,-0.3340313960554822,-0.33182674041359506,-0.32369931707622934,0.43666134224965225,-0.30254804622905085,-0.3342217571580651,-0.3772493234516436,-0.3317771217149246,-0.39522772104896536,-0.37892927915065394,-0.331647621268167,-0.09731388905645791,-0.38647416108106697,3.7491461918282023,0.20958679424608506,-0.2700904377636258,-0.3291100295541715,-0.31574739159915716,-0.3632120991756336,0.08213931960450045,-0.3307869145737477,-0.3870547866568944,-0.3623775575282615,-0.3183630212343043,-0.3318931971703136,-0.354299397539185,-0.3798096766406508,-0.2835594578662133,-0.28563571300862006,-0.32744213620695223,-0.23188233423870105,-0.037285976992380364,-0.36856502844365596,-0.38775683425063157,-0.3521500067862044,-0.2973032770706293,-0.3415598564722078,-0.34904139175098875,-0.33192052947761697,-0.33190225616028757,-0.2916893979199728,-0.35559978147816035,-0.3565484393902886,-0.3316190070075696,3.9443189235705716,-0.39389681499435597,-0.3567369532011524,-0.32694935986950097,-0.2785341219044755,-0.3866144523265632,-0.297837024055055,-0.13519674735983916,-0.2980888896531473,-0.3243683834637105,-0.3310934874445362,-0.20754124197174492,2.242923811258798,-0.35892379836224797,-0.26950572357243247,1.0238402436777032,-0.3597448949593947,-0.3633255407646729,-0.39691042154910683,-0.17892439802325724,-0.3570861069292958,-0.36204613947179665,-0.32480340203870645,-0.35387716090218163,-0.387230605245834,-0.2953366843226334,-0.35583753711115834,-0.32856376222050676,-0.3537386727418878,-0.19152402042732558,-0.36115379042351503,-0.1358935214978377,-0.31868466735220624,0.41751427040060246,-0.14442028526878584,-0.39620564024350746,-0.2770745647551423,-0.3316229733301563,-0.39666137593356465,-0.363442419917566,0.5741260491391493,-0.3543536683874754,-0.33110633912076337,-0.34661028268001554,-0.27912683860397364,-0.3847973820604106,-0.38745764995970905,3.7613778418727,0.1029413455583525,-0.3849992616283775,-0.33049237555427396,-0.33131664086440593,-0.2707191996288095,-0.3318345322661776,-0.3790924267487928,-0.24561158412536369,-0.0840439264799492,-0.37484443221501806,-0.33111343899084605,-0.3241835129449538,-0.38402910095768344,-0.329553950025138,-0.3573283770482592,-0.3581407277064393,-0.3027247260604739,3.7446857498448476,-0.10553069724545999,-0.32675104662310345,-0.3386541262919328,-0.27381564453673096,3.7545458949006236,3.7557890290884024,-0.25163181287655567,-0.35726429498904194,-0.3246691619639391,2.486255959581421,-0.329999153486296,-0.29848502018979256],\"y\":[1.0755049215144328,1.0757032503434536,1.6396623100542616,1.1687503734233273,1.6967733290577216,0.8190247925543753,0.6817621051028994,1.831528750976834,1.075504740899433,1.0757751501238713,1.0755572567989475,1.0755047042738806,1.0755048927238373,0.572029817829152,0.9762290986169012,1.636143678232697,0.403126545859994,1.0754864002427509,1.0321990050120835,1.1687540391145255,1.8490610417361821,0.9472889400966426,0.8185822015179973,0.9382324742132905,1.7751135373547868,1.775091877891307,0.48620816654040877,1.0754019258152214,1.0754902457251807,1.0879720397581374,1.03150674038988,1.1687568881038275,0.21309784869068873,1.6639432546938346,1.1687527899942247,1.0752191551816723,1.0754792151208448,0.39652165354686164,1.168757255220544,0.21315331345466393,1.7750995061660813,1.075097157035909,0.9631398900194784,1.7575540861772454,0.8190192296016138,0.9762523768751387,0.9382447700633546,1.7750806439901803,0.9380721311415163,1.0755055457494418,1.7750837433836468,1.0314769056818653,1.0755004426763428,1.1687575318113737,1.840872187468626,1.8194714783124686,0.9510140884382658,0.9382286664583906,1.7750716966594489,0.8185822112908383,1.8316760093738953,0.8219251695207853,0.8190258050569486,1.1609362205716833,0.8190318387255847,1.5202499478793028,1.0754889790080047,0.9381463733913915,1.1685805649248981,0.9073567044157941,0.8190176332775873,0.5737493740310889,1.636140354252484,1.168778808098501,0.8189302714570247,0.8187945682168812,1.5159608095440875,1.168701832112743,1.7744922827406808,1.074909306251774,1.0754859787074609,1.0755003787402766,1.637721706236605,1.0314553297533346,1.1687399719320326,1.0754809155710905,0.8190249683567941,1.1687557556467576,1.0754961348430978,1.0755057464986952,0.9383053349411559,0.5083098706886434,1.857720211712439,1.6361379155305216,1.075519177923744,1.168163397575208,1.636185680068232,1.6378136064423523,1.762715061230524,1.636007159692381,1.8557354574414582,1.8714030404382247,1.1687505677546544,1.8138924519753563,1.1687567130259757,1.6361389914196642,1.0754940484551867,1.0754861938248201,1.636140354252484,1.1687312272169497,0.8190304662624291,1.0754979976283225,0.4049441590829079,1.0754964542276448,1.0752032970661363,1.1687548810278952,1.0754407034944091,0.9373082301877242,1.075500279372665,1.0755047708874748,1.602637147328496,0.5306452064750484,1.07527976297716,0.8190257894098251,1.168754891800327,1.0755005349631284,1.0754947285407286,0.9382085636031261,0.5930958343352203,1.6378130601859102,1.0754594937556725,0.9382323359377865,1.168715415762537,2.002633522015214,1.168752159107241,1.6361366122774197,1.1687189704376462,1.6361236961868504,1.1685732787375673,1.0754972202180386,1.0754919478266751,1.075034433424728,0.6465030923502164,1.1687453625694357,0.9374173209138484,1.6361319857410521,1.07546458124484,1.8066107502409199,0.6816731064380772,1.7744870972365592,1.8651449423620887,1.5159647503778197,1.5159379668847386,1.8966896894071994,1.7750803560220265,1.0558164497336793,1.775085857623904,1.851851057647709,1.8967069246320751,1.1687577583621789,0.9382329532646428,1.2481544070989004,1.6361139687511905,1.0754905189233823,1.0755047307197492,1.6972698195860367,1.6963135150175273,1.1687472676575907,0.4860979623242063,1.0754980009487687,0.8033266041930011,1.084345906964361,0.8190266764962864,1.5156412349193802,1.8015829372278407,1.0754959510052489,1.739830367843487,1.7266710096648925,1.0755049192121309,0.681354037720044,1.1687053519989106,1.8713030293743755,1.5139240524475022,1.7750646372057652,1.0754532698718957,1.3786885587959508,1.6026375317288855,1.0540586134052894,1.0754378969513383,1.1687525644096628,1.602594860643545,1.0753326368589136,1.0755041038037219,1.0314771653619426,1.7744885675666284,0.0017236102784801606,0.47690712601610064,1.075495592715771,1.637535099342138,0.9106354256906743,0.9714323838554928,1.1687460424740432,1.6635279159612748,0.9381857165795348,1.580650211392698,1.5159500119745475,1.075503869041062,1.0755030707506303,0.9381115333463954,1.5956646656624018,1.6361091446646316,1.0754950024050645,1.9317360075154424,1.7398767345241295,1.636108316755621,0.8103850590563034,1.073691165586894,1.4458077929336148,0.9382374319752508,1.0750415583574937,0.9382157432351697,1.858775387819334,1.0754745682704596,1.6943814373844044,0.5023897501417809,1.6023349345957854,0.6817402795333916,1.7425042213321602,0.9476529277311554,1.6026328621496704,1.7399115400164082,0.9302882240838659,0.9405803649549134,1.602620755770733,1.0750365188793671,1.031467482053724,1.1687464391656335,0.9381566561050357,1.6360463822317273,0.9053318158839274,1.0314400214204813,1.067483078227492,1.8583039136600341,1.1312086904277996,1.5262636188801264,1.7174450385332798,1.038804091125111,1.7399010466755775,-0.058877458120607476,1.0755013212933342,1.7399102545538248,1.6026342644225813,1.0534058482192736,1.0314762073383674,1.075474120538206,1.6634052323494295,1.8568360171244265,1.168565751577081,1.1687528783253376,1.8713704348472233,1.0655451045994917,1.1688600482835214,1.0754122856250004,1.0754881337644495,0.6817548707637483,1.0755090174053448,1.1687071071106712,1.0709796429041598,0.8265744468186159,1.1684963745405357,1.075523377383468,1.0754885860924197,1.168744617127585,1.0754736769826296,1.6361386515736598,0.49578548917585286,0.8190169339875131,1.8713916268194815,0.937774876742854,1.0754708824520096,0.48618072672090773,1.7750854356841583,1.8718498726055839,1.8718931814519744,0.681717459809669,1.6361411465791682,1.4865868164179132,0.8105829000177824,1.0753935961046217,0.9382327931077327],\"z\":[-0.43904675885838146,-0.4393188384691452,-0.5184160228626936,-0.3803316363490097,-0.01055270127548545,-0.29595263966414126,-0.03351463758616229,-0.5039517606949769,-0.4390519393859171,-0.43918941128536293,-0.4390743864011868,-0.4390468014794947,-0.439047058275973,-0.20514607058556616,-0.3266980678563565,-0.046427699700920075,-0.26709725577010307,-0.4390747370579162,-0.11826520345584457,-0.38033357145053676,-0.5086731647350358,-0.18138746025587396,-0.2964732270673903,-0.17661168426591253,-0.49107650043248124,-0.4910650665013183,-0.27082659126643205,-0.43912453216332914,-0.4390698452274769,-0.4456280932320482,-0.11789976014538067,-0.380328153890587,0.1000834088403689,-0.18183730991153543,-0.3803291364949857,-0.4393993108708181,-0.4390646514806233,-0.26610852071776697,-0.3803300778359168,0.10008559216894604,-0.49106909343249044,-0.4391461310762702,-0.041221752635085644,0.05889647910183305,-0.2959641759512689,-0.326708978265826,-0.17661308448776947,-0.4910629117272646,-0.1766792638069045,-0.43904708837596235,-0.491063918624374,-0.11789030312470597,-0.4390506870716233,-0.38032849338621094,-0.406350308108919,-0.5274549348201706,-0.0004980130348200941,-0.17663604639117458,-0.49107014438303354,-0.29602671043161743,-0.5039276516164791,-0.41043445970067266,-0.29595317415959355,-0.3845530650508028,-0.2959527410694421,-0.4295793971940145,-0.43905155729675654,-0.17663069095523487,-0.38035589100272443,-0.1914557098646078,-0.2959545236408826,-0.19414430854712222,-0.046432237571533475,-0.38036332223214553,-0.29596589636253806,-0.29598936379484836,-0.427343497421977,-0.38034282323360336,0.04195105950734551,-0.43936159473529396,-0.43905070758664794,-0.4390758236579937,-0.22863623882919987,-0.1180793321069956,-0.38033495506786535,-0.4390624028482471,-0.2959524178402055,-0.38032849964475063,-0.4390487276154873,-0.43904719435057027,-0.1766450564082344,-0.2859238526573402,-0.6168292068026918,-0.04644794015952493,-0.43905428473808467,-0.38048679649136924,-0.04646245741361067,-0.22862261329244127,-0.6148951846570607,-0.04645033558775841,-0.6118504866249351,-0.056465672313718615,-0.3803342559694177,-0.5118151459640766,-0.3803292735223788,-0.04644095701507671,-0.43905314481749547,-0.4390500870113614,-0.046432237571533475,-0.380333485065229,-0.2959550055300824,-0.4390534865219302,-0.15226478710607003,-0.4390510986216903,-0.43909224928442636,-0.3803286671959232,-0.43905816505599515,-0.18634883246896075,-0.4390483984597939,-0.4390477225740135,-0.1195829863588369,-0.3203311892783136,-0.43908521330084666,-0.29595285127032506,-0.3803300427782824,-0.4390507357893924,-0.43904827888877235,-0.17661127587124573,-0.22121763240153883,-0.22862610825685434,-0.43933740696431345,-0.17661735212882052,-0.380337723440122,-0.5568026162176927,-0.3803602663750559,-0.046458670082186536,-0.3803395999367648,-0.04654300296044167,-0.3803885416479334,-0.43904936731939337,-0.43904890849087685,-0.43911301957038223,-0.03849482584422408,-0.3803346544683193,-0.1768055363351861,-0.046430966165074104,-0.4390584994708996,-0.5190041726383219,-0.033526675071586826,0.04193287406772232,-0.5748732443899567,-0.42732040743205507,-0.42734087776387886,-0.5477268117748211,-0.4910684230362339,-0.4443847663396345,-0.4910678343519492,0.013177038832242957,-0.5477359101707712,-0.38033160424663714,-0.17661232285611583,4.0751650091655485,-0.04643139735145228,-0.4390543372729113,-0.43904797956827646,-0.009710705272003359,-0.010043952973774382,-0.3803315699756823,-0.2708930805049642,-0.4390480556767378,0.01852461093577286,-0.45157960500806693,-0.2959781752678902,-0.42752403388598503,-0.44376656752028887,-0.4390486305683329,-0.38203953458933704,-0.022209094519880228,-0.43905141045359714,-0.03612695084277609,-0.38034625451144427,-0.05653086289207043,-0.43567886280951756,-0.4911167584057518,-0.43908556431766893,-0.16488383957277752,-0.11958476242815545,-0.44345681262584247,-0.4390585712701591,-0.38034160257889593,-0.11959369948084844,-0.4392389768694984,-0.4390475856963441,-0.11789075483784829,0.041955695079046895,0.1030750154287089,-0.22529969226906413,-0.4391148281952456,-0.22872650744222842,5.341665492837813,-0.30100455288239675,-0.3803302939484738,-0.28600304134646015,-0.17662092444902303,-0.05558375560513852,-0.4273252122657097,-0.43904714713699156,-0.43904735498159186,-0.17670006404965632,-0.07081965138184224,-0.046437156960869946,-0.43905096146967454,-0.03249287836236564,-0.38206401134681617,-0.04643420287771884,0.028690310422332974,-0.43970080097026415,0.09382739884155329,-0.1766173911046319,-0.4420113696511362,-0.176611605044519,-0.6111251078578197,-0.4390571643620894,-0.24149584932597437,-0.2957309857631634,-0.11962323920434924,-0.0335307285228537,-0.045479548242880787,-0.2337592510683075,-0.11958261200798678,-0.38202107981644373,-0.17772380175831215,-0.2439146567390939,-0.11960107681492288,-0.43911412047229587,-0.11789634045759007,-0.38033836909074153,-0.17664837313265308,-0.04644240972651094,-0.40174123896800945,-0.11789600243067075,-0.44047539069836716,0.05763522051781212,4.420542083800006,-0.02356403223776876,0.04935291188732647,-0.12175199803934045,-0.3820309097530432,0.20039679488674028,-0.43905146551871604,-0.3820247698531185,-0.11958095164042733,-0.45091502564321395,-0.1178898400836174,-0.4390569280062917,-0.28607671409056074,-0.6116430061847651,-0.38035939775660255,-0.3803354757090554,-0.05672376054324206,-0.44480104014184646,-0.3803826113604035,-0.43906078262997167,-0.43905496722978177,-0.03351349296019915,-0.43904892104714766,-0.3804591890306429,-0.43996149193054357,-0.2999909251404126,-0.3805052588880275,-0.43906122105192164,-0.43916398714064564,-0.3803871186626391,-0.4390806056763733,-0.046427877813747874,-0.18441398177666776,-0.295974605388433,-0.05647063346597032,-0.1795141021545893,-0.439123178547881,-0.2708298504165089,-0.4910617034452979,-0.05666222430695667,-0.05668508684779742,-0.03380176589995835,-0.04642907980543273,-0.09880522718403105,-0.04505125903972695,-0.4390666479793168,-0.1766070765372005],\"type\":\"scatter3d\"},{\"customdata\":[[\"SHA-256\"],[\"Ethash\"],[\"Scrypt\"],[\"CryptoNight-V7\"],[\"Ethash\"],[\"Equihash\"],[\"Multiple\"],[\"Scrypt\"],[\"X11\"],[\"Scrypt\"],[\"Multiple\"],[\"Scrypt\"],[\"SHA-256\"],[\"Scrypt\"],[\"Scrypt\"],[\"Quark\"],[\"Groestl\"],[\"Scrypt\"],[\"Scrypt\"],[\"Scrypt\"],[\"X11\"],[\"Multiple\"],[\"SHA-256\"],[\"Scrypt\"],[\"Scrypt\"],[\"Scrypt\"],[\"Scrypt\"],[\"Scrypt\"],[\"NeoScrypt\"],[\"Scrypt\"],[\"Scrypt\"],[\"Scrypt\"],[\"Scrypt\"],[\"SHA-256\"],[\"Scrypt\"],[\"Scrypt\"],[\"Scrypt\"],[\"Scrypt\"],[\"HybridScryptHash256\"],[\"Scrypt\"],[\"Scrypt\"],[\"SHA-256\"],[\"Scrypt\"],[\"Scrypt\"],[\"Scrypt\"],[\"Scrypt\"],[\"SHA-256\"],[\"SHA-256\"],[\"SHA-256\"],[\"SHA-256\"],[\"SHA-256\"],[\"X11\"],[\"Scrypt\"],[\"Lyra2REv2\"],[\"Scrypt\"],[\"SHA-256\"],[\"CryptoNight\"],[\"CryptoNight\"],[\"Scrypt\"],[\"Scrypt\"],[\"Scrypt\"],[\"Scrypt\"],[\"Scrypt\"],[\"Scrypt\"],[\"Stanford Folding\"],[\"Multiple\"],[\"QuBit\"],[\"Scrypt\"],[\"Scrypt\"],[\"M7 POW\"],[\"Scrypt\"],[\"SHA-256\"],[\"Scrypt\"],[\"X11\"],[\"Lyra2RE\"],[\"SHA-256\"],[\"X11\"],[\"Scrypt\"],[\"Scrypt\"],[\"Ethash\"],[\"Blake2b\"],[\"X11\"],[\"SHA-256\"],[\"Scrypt\"],[\"1GB AES Pattern Search\"],[\"Scrypt\"],[\"SHA-256\"],[\"X11\"],[\"Dagger\"],[\"Scrypt\"],[\"X11GOST\"],[\"Scrypt\"],[\"X11\"],[\"Scrypt\"],[\"X11\"],[\"Equihash\"],[\"CryptoNight\"],[\"SHA-256\"],[\"Multiple\"],[\"Scrypt\"],[\"SHA-256\"],[\"Scrypt\"],[\"Lyra2Z\"],[\"Ethash\"],[\"Equihash\"],[\"Scrypt\"],[\"X11\"],[\"X11\"],[\"CryptoNight\"],[\"Scrypt\"],[\"CryptoNight\"],[\"Lyra2RE\"],[\"X11\"],[\"CryptoNight-V7\"],[\"Scrypt\"],[\"X11\"],[\"Equihash\"],[\"Scrypt\"],[\"Lyra2RE\"],[\"Dagger-Hashimoto\"],[\"Scrypt\"],[\"NIST5\"],[\"Scrypt\"],[\"SHA-256\"],[\"Scrypt\"],[\"CryptoNight-V7\"],[\"Argon2d\"],[\"Blake2b\"],[\"Cloverhash\"],[\"CryptoNight\"],[\"X11\"],[\"Scrypt\"],[\"Scrypt\"],[\"X11\"],[\"X11\"],[\"CryptoNight\"],[\"Time Travel\"],[\"Scrypt\"],[\"Keccak\"],[\"X11\"],[\"SHA-256\"],[\"Scrypt\"],[\"Scrypt\"],[\"Scrypt\"],[\"Scrypt\"],[\"Scrypt\"],[\"Scrypt\"],[\"CryptoNight\"],[\"Equihash\"],[\"X11\"],[\"NeoScrypt\"],[\"Equihash\"],[\"Dagger\"],[\"Scrypt\"],[\"X11\"],[\"NeoScrypt\"],[\"Ethash\"],[\"NeoScrypt\"],[\"Multiple\"],[\"CryptoNight\"],[\"CryptoNight\"],[\"Ethash\"],[\"X11\"],[\"CryptoNight-V7\"],[\"Scrypt\"],[\"BLAKE256\"],[\"X11\"],[\"NeoScrypt\"],[\"NeoScrypt\"],[\"Scrypt\"],[\"X11\"],[\"SHA-256\"],[\"C11\"],[\"CryptoNight\"],[\"SkunkHash\"],[\"CryptoNight\"],[\"Scrypt\"],[\"Dagger\"],[\"Lyra2REv2\"],[\"Scrypt\"],[\"Scrypt\"],[\"X11\"],[\"Proof-of-Authority\"],[\"Ethash\"],[\"CryptoNight\"],[\"Scrypt\"],[\"IMesh\"],[\"Equihash\"],[\"Lyra2Z\"],[\"X11\"],[\"CryptoNight\"],[\"NIST5\"],[\"Lyra2RE\"],[\"Tribus\"],[\"Lyra2Z\"],[\"CryptoNight\"],[\"CryptoNight Heavy\"],[\"CryptoNight\"],[\"Jump Consistent Hash\"],[\"CryptoNight\"],[\"X16R\"],[\"HMQ1725\"],[\"X11\"],[\"Scrypt\"],[\"CryptoNight-V7\"],[\"Cryptonight-GPU\"],[\"XEVAN\"],[\"CryptoNight Heavy\"],[\"SHA-256\"],[\"X11\"],[\"X16R\"],[\"Equihash\"],[\"Lyra2Z\"],[\"SHA-256\"],[\"CryptoNight\"],[\"Blake\"],[\"Blake\"],[\"Exosis\"],[\"Scrypt\"],[\"Equihash\"],[\"Equihash\"],[\"QuBit\"],[\"SHA-256\"],[\"X13\"],[\"SHA-256\"],[\"Scrypt\"],[\"NeoScrypt\"],[\"Blake\"],[\"Scrypt\"],[\"SHA-256\"],[\"Scrypt\"],[\"Groestl\"],[\"Scrypt\"],[\"Scrypt\"],[\"Multiple\"],[\"Equihash+Scrypt\"],[\"Ethash\"],[\"CryptoNight\"],[\"Equihash\"]],\"hovertemplate\":\"<b>%{hovertext}</b><br><br>class=%{marker.color}<br>PC1=%{x}<br>PC2=%{y}<br>PC3=%{z}<br>Algorithm=%{customdata[0]}<extra></extra>\",\"hovertext\":[\"Bitcoin\",\"Ethereum\",\"Litecoin\",\"Monero\",\"Ethereum Classic\",\"ZCash\",\"DigiByte\",\"ProsperCoin\",\"Spreadcoin\",\"Argentum\",\"MyriadCoin\",\"MoonCoin\",\"ZetaCoin\",\"SexCoin\",\"Quatloo\",\"QuarkCoin\",\"Riecoin\",\"Digitalcoin \",\"Catcoin\",\"CannaCoin\",\"CryptCoin\",\"Verge\",\"DevCoin\",\"EarthCoin\",\"E-Gulden\",\"Einsteinium\",\"Emerald\",\"Franko\",\"FeatherCoin\",\"GrandCoin\",\"GlobalCoin\",\"GoldCoin\",\"Infinite Coin\",\"IXcoin\",\"KrugerCoin\",\"LuckyCoin\",\"Litebar \",\"MegaCoin\",\"MediterraneanCoin\",\"MinCoin\",\"NobleCoin\",\"Namecoin\",\"NyanCoin\",\"RonPaulCoin\",\"StableCoin\",\"SmartCoin\",\"SysCoin\",\"TigerCoin\",\"TerraCoin\",\"UnbreakableCoin\",\"Unobtanium\",\"UroCoin\",\"ViaCoin\",\"Vertcoin\",\"WorldCoin\",\"JouleCoin\",\"ByteCoin\",\"DigitalNote \",\"MonaCoin\",\"Gulden\",\"PesetaCoin\",\"Wild Beast Coin\",\"Flo\",\"ArtByte\",\"Folding Coin\",\"Unitus\",\"CypherPunkCoin\",\"OmniCron\",\"GreenCoin\",\"Cryptonite\",\"MasterCoin\",\"SoonCoin\",\"1Credit\",\"MarsCoin \",\"Crypto\",\"Anarchists Prime\",\"BowsCoin\",\"Song Coin\",\"BitZeny\",\"Expanse\",\"Siacoin\",\"MindCoin\",\"I0coin\",\"Revolution VR\",\"HOdlcoin\",\"Gamecredits\",\"CarpeDiemCoin\",\"Adzcoin\",\"SoilCoin\",\"YoCoin\",\"SibCoin\",\"Francs\",\"BolivarCoin\",\"Omni\",\"PizzaCoin\",\"Komodo\",\"Karbo\",\"ZayedCoin\",\"Circuits of Value\",\"DopeCoin\",\"DollarCoin\",\"Shilling\",\"ZCoin\",\"Elementrem\",\"ZClassic\",\"KiloCoin\",\"ArtexCoin\",\"Kurrent\",\"Cannabis Industry Coin\",\"OsmiumCoin\",\"Bikercoins\",\"HexxCoin\",\"PacCoin\",\"Citadel\",\"BeaverCoin\",\"VaultCoin\",\"Zero\",\"Canada eCoin\",\"Zoin\",\"DubaiCoin\",\"EB3coin\",\"Coinonat\",\"BenjiRolls\",\"ILCoin\",\"EquiTrader\",\"Quantum Resistant Ledger\",\"Dynamic\",\"Nano\",\"ChanCoin\",\"Dinastycoin\",\"DigitalPrice\",\"Unify\",\"SocialCoin\",\"ArcticCoin\",\"DAS\",\"LeviarCoin\",\"Bitcore\",\"gCn Coin\",\"SmartCash\",\"Onix\",\"Bitcoin Cash\",\"Sojourn Coin\",\"NewYorkCoin\",\"FrazCoin\",\"Kronecoin\",\"AdCoin\",\"Linx\",\"Sumokoin\",\"BitcoinZ\",\"Elements\",\"VIVO Coin\",\"Bitcoin Gold\",\"Pirl\",\"eBoost\",\"Pura\",\"Innova\",\"Ellaism\",\"GoByte\",\"SHIELD\",\"UltraNote\",\"BitCoal\",\"DaxxCoin\",\"AC3\",\"Lethean\",\"PopularCoin\",\"Photon\",\"Sucre\",\"SparksPay\",\"GunCoin\",\"IrishCoin\",\"Pioneer Coin\",\"UnitedBitcoin\",\"Interzone\",\"TurtleCoin\",\"MUNcoin\",\"Niobio Cash\",\"ShareChain\",\"Travelflex\",\"KREDS\",\"BitFlip\",\"LottoCoin\",\"Crypto Improvement Fund\",\"Poa Network\",\"Callisto Network\",\"BitTube\",\"Poseidon\",\"Aidos Kuneen\",\"Bitrolium\",\"Alpenschillling\",\"FuturoCoin\",\"Monero Classic\",\"Jumpcoin\",\"Infinex\",\"KEYCO\",\"GINcoin\",\"PlatinCoin\",\"Loki\",\"Newton Coin\",\"MassGrid\",\"PluraCoin\",\"Motion\",\"PlusOneCoin\",\"Axe\",\"HexCoin\",\"Webchain\",\"Ryo\",\"Urals Coin\",\"Qwertycoin\",\"Project Pai\",\"Azart\",\"Xchange\",\"CrypticCoin\",\"Actinium\",\"Bitcoin SV\",\"FREDEnergy\",\"Universal Molecule\",\"Lithium\",\"Exosis\",\"Block-Logic\",\"Beam\",\"Bithereum\",\"SLICE\",\"BLAST\",\"Bitcoin Rhodium\",\"GlobalToken\",\"SolarCoin\",\"UFO Coin\",\"BlakeCoin\",\"Crypto Escudo\",\"Crown Coin\",\"SmileyCoin\",\"Groestlcoin\",\"Bata\",\"Pakcoin\",\"JoinCoin\",\"Vollar\",\"Reality Clash\",\"Beldex\",\"Horizen\"],\"legendgroup\":\"2\",\"marker\":{\"color\":[2,2,2,2,2,2,2,2,2,2,2,2,2,2,2,2,2,2,2,2,2,2,2,2,2,2,2,2,2,2,2,2,2,2,2,2,2,2,2,2,2,2,2,2,2,2,2,2,2,2,2,2,2,2,2,2,2,2,2,2,2,2,2,2,2,2,2,2,2,2,2,2,2,2,2,2,2,2,2,2,2,2,2,2,2,2,2,2,2,2,2,2,2,2,2,2,2,2,2,2,2,2,2,2,2,2,2,2,2,2,2,2,2,2,2,2,2,2,2,2,2,2,2,2,2,2,2,2,2,2,2,2,2,2,2,2,2,2,2,2,2,2,2,2,2,2,2,2,2,2,2,2,2,2,2,2,2,2,2,2,2,2,2,2,2,2,2,2,2,2,2,2,2,2,2,2,2,2,2,2,2,2,2,2,2,2,2,2,2,2,2,2,2,2,2,2,2,2,2,2,2,2,2,2,2,2,2,2,2,2,2,2,2,2,2,2,2,2,2,2,2,2,2,2,2,2,2,2,2,2,2,2,2,2,2,2,2,2,2],\"coloraxis\":\"coloraxis\",\"symbol\":\"diamond\"},\"mode\":\"markers\",\"name\":\"2\",\"scene\":\"scene\",\"showlegend\":true,\"x\":[-0.1426420501587788,-0.15436423865290572,-0.16921727064745398,-0.15473148740104867,-0.1528075838684674,-0.14983196139132804,0.15207065944294504,-0.17036258954464123,-0.22631224609774417,-0.16997944955257688,-0.10112854796685992,2.5491881530883282,-0.13972932163917096,-0.16723707421764716,-0.16978365070004012,-0.23073095303954116,-0.20554233006156084,-0.16983235501466418,-0.17034486928474726,-0.17043125334433687,-0.2264015181976162,0.1758039991452615,0.2349003898953362,0.07809900813496444,-0.17017774899311286,-0.1657866198530925,-0.17011709587145046,-0.1704882111432406,-0.1727965745732605,-0.14972741128710354,-0.16928428205213256,-0.1695615162924332,1.5770169049630929,-0.1426034494805334,-0.16685311337791736,-0.17020416957443438,-0.17055869832962503,-0.16981854421776357,-0.15086370883518155,-0.17044006145056725,-0.035458142788228314,-0.14268099996961617,-0.16410906173504794,-0.17041952488499756,-0.16851546235549933,-0.16990668185902785,-0.12984350407434198,-0.14214519744992826,-0.14243217735698416,-0.14241519659541194,-0.14300540149964808,-0.22657526801302916,-0.170136234784704,-0.19503071455535154,-0.16724179311392443,-0.14221243903928382,3.857693446066539,0.45939178923974744,-0.16900475091719575,-0.15361644407093858,-0.16772459407550233,-0.17056090664314813,-0.16758973432188912,-0.15382449938134285,-0.12479672164786285,-0.13510770809386646,-0.18611538064886493,-0.1704340828868589,-0.043475942103035584,-0.11594924895272479,-0.17056979118786114,-0.1427087560166216,0.4810308728688519,-0.22596294645881282,-0.15536632370088416,-0.14244883776497017,-0.22624761827206788,-0.16869514191600896,-0.16788803054857548,-0.1554308812081085,0.37412917487520586,-0.22628298485401946,-0.14260457096421197,-0.1665308952542402,-0.17507177096157428,-0.16913430137423602,0.27554354241389845,-0.22544439397623936,-0.1707616809430024,-0.16938158396260772,-0.14123868463257527,-0.17035987618470447,-0.22624626182910568,-0.17056984963577493,-0.22639611705989487,-0.2472667235030063,0.30442200497262056,-0.14286444862071787,-0.1151962592759879,-0.16773886349291403,-0.14282311076267695,-0.17023352658931973,-0.15073447244147584,-0.15517324260147805,-0.14985356176544104,-0.09735818921240516,-0.2129900653349053,-0.22422606161524672,0.3044163667836441,-0.1705516028106233,0.3045469795308283,-0.1559063186277433,0.48823834753447387,-0.15349725351633486,-0.17051991479682616,-0.2191363550770057,-0.14986592466914891,-0.16865467822408456,-0.15562492249681095,-0.12685722401715102,-0.14146838345789525,-0.1877281472043187,-0.1700826487375167,-0.10921703731315092,-0.1699048725430676,-0.15335505168627234,-0.15463861282649022,-0.025865250259863897,-0.19836494599051185,0.3405093343266628,-0.22545279055173706,-0.17022385628174178,-0.16998745263805684,-0.22584714229971903,-0.2264241243933319,0.304811030006346,-0.1608036539471904,3.2363785064589012,-0.10707303718115484,-0.21730393724715963,-0.14264121502070964,-0.09620710974184056,1.5751056230596279,-0.17032162877303614,-0.16977373306310073,-0.16947494849325517,-0.16946188949957916,0.3049944773535354,0.06228405614751727,-0.18084730783987407,-0.17748151036912205,-0.14971209707433197,-0.16952180959492089,-0.1686528887603206,-0.22197218760873552,-0.1773270523203521,-0.15353985804787704,-0.17742717223096793,-0.12534745397658734,1.141661404619474,0.3043991548503443,-0.07849287040005105,-0.22171408144862173,-0.14247605563214338,-0.08677704028042321,1.0884081148069005,-0.22639814359434082,-0.17747906729293816,-0.1705225956045834,-0.16957323390134452,-0.22632361049580696,-0.1426206278079189,-0.207160629554672,8.03566809329876,-0.12956233952096696,0.30827040229273817,0.022315664169987374,-0.16902537428408843,-0.1806005138780389,-0.17014650177157392,0.13668190869133798,-0.22046932698119953,-0.2004780253563767,-0.10661836222807107,0.312315582908278,-0.1703833182359711,-0.13544345925359516,-0.14870399567130807,-0.14851986310149135,-0.22549353160416583,0.3045815294140308,-0.18778754619660004,-0.15575168631031305,-0.16151340587499985,-0.15081877727487367,0.3085063623223122,0.5963187951086221,2.111561232774215,-0.16242501799330158,0.3181753960449436,-0.19915436266458028,-0.17340654138588016,-0.22638031828025265,-0.17040788184266728,-0.14235648960517128,-0.11315867423861536,-0.18954234875548243,3.1168199922005986,-0.10250116967987713,-0.2263517084055215,-0.19858257392160136,-0.044544011473053445,-0.15021703864354197,-0.14264125255725438,0.38427533141738246,-0.15836450461649595,-0.15875617781501655,-0.1480883025298068,-0.16930109189802003,-0.14777384351691286,-0.149545050673028,-0.18532702310765925,-0.14191797853430071,-0.112418693801743,-0.14078685273363753,0.5249127572792756,-0.10270470739146932,-0.10926405256754736,-0.15397496965604587,-0.1424315482922249,0.5446869109452428,-0.2051036808975422,-0.17048465050480663,-0.16844204455896555,-0.13584202992616443,-0.16221917073791106,-0.15520637456207906,0.32613867705452154,-0.14983301752626266],\"y\":[-1.3361688138158285,-2.016159961642762,-1.0797089613544353,-2.2869494908817076,-2.0162563951673134,-2.076769951003486,-1.8098526130847326,-1.079703662988312,-0.9864489371557921,-1.079721165431084,-1.8050420870173975,-1.2604453109321163,-1.33617409262443,-1.0797590714604177,-1.0797401723809168,-0.4152955861329034,-1.1789898651062218,-1.079704680751711,-1.079703045642235,-1.0797004159540988,-0.986450612351648,-1.8058367062322165,-1.3380672542444456,-1.080718187011476,-1.0796972234332487,-1.0797442636066807,-1.0797030023464622,-1.0797010341116005,-1.6690619955748154,-1.0799889185555913,-1.0797012515975861,-1.0797125211860705,-1.0838137926223892,-1.3361674690287098,-1.0797567585517045,-1.0796974264328045,-1.0796963971775684,-1.0796997757956637,-2.2412441152253644,-1.0796984700151775,-1.0857505182617408,-1.336170170766183,-1.0797125147399989,-1.0797056465263195,-1.0798036084991665,-1.07970944693207,-1.336344963487423,-1.3361701665868884,-1.3361765686701144,-1.3362032402660873,-1.3361665852762783,-0.9864437513853879,-1.0796972120474673,-1.2146195222143097,-1.0797702995444214,-1.3361710656878267,-2.351744284210823,-2.3449640745693383,-1.0797167100881258,-1.0803105065337075,-1.0797160668497174,-1.0796973910155094,-1.0797067868983143,-1.0798298874393275,-2.278163280452649,-1.8047909635287092,-1.624528986695889,-1.0796935059833244,-1.0824425854150754,-2.128916649787986,-1.0796962595208306,-1.3361711377433505,-1.1230006608498824,-0.9864460949809827,-2.315120079639414,-1.3361855863290872,-0.9864474030757358,-1.0797813423586422,-1.079781749758562,-2.0162092513270524,-2.2650780597987743,-0.9864450479316049,-1.336167508099443,-1.0797057712090734,-2.2803196562356067,-1.0797060708350124,-1.3371006364114881,-0.9864646194815054,-2.1617595276462938,-1.0797752037884978,-2.283390980814924,-1.079702851007024,-0.9864502256277148,-1.079696259383185,-0.9864554463490453,-1.5095439237869444,-2.343195632634153,-1.3361684804493736,-1.8049582223621607,-1.0797406804081107,-1.3361676876587778,-1.0797056237059963,-2.3625423463770217,-2.0162069472906476,-2.076770703526659,-1.0843197584397,-0.9863291902605834,-0.9865254877915809,-2.3432037210327126,-1.079697128790639,-2.3432020404976717,-2.3150988662095573,-1.033285973671579,-2.287039220742957,-1.0796964880987652,-0.9869020434010308,-2.0767682644225194,-1.079700840749608,-2.315096954783077,-2.3272119139351015,-1.0815517759734965,-0.6392518766148052,-1.079704327980622,-1.336782902474053,-1.0797243069016285,-2.2869768704876097,-2.0501801828857498,-2.2792573748401326,-2.0462023302723944,-2.3433661362908818,-0.9864763912383336,-1.0796975934254813,-1.0797293362189309,-0.986461431751806,-0.986452045622943,-2.343213647503382,-2.1339615254825746,-1.1044934932952712,-1.2510995106687615,-0.9869099500444238,-1.3361687847209287,-1.0846383826759798,-1.018879220126366,-1.0797015185271575,-1.0797283476326929,-1.0797294176799477,-1.0797289627250788,-2.3432322875906815,-2.0844315886735862,-0.9861420746813883,-1.6690035187008303,-2.076765775118578,-2.1618069515003753,-1.079700778407496,-0.9865344955082317,-1.6690110517619987,-2.016332128097515,-1.669005069415267,-1.804924449948856,-2.3750037767747845,-2.343198222326798,-2.0206912429197,-0.9866689939104658,-2.2872396109440625,-1.0803638673907154,-1.362837248261902,-0.9864517861995062,-1.6689991288753985,-1.6691004358535129,-1.0797070135145705,-0.9864514854298496,-1.3361674691396719,-1.1837702086141542,-2.7912960449854594,-2.4042564251806233,-2.3432954498826746,-1.0801505089860481,-2.161749259089783,-1.2148457279577407,-1.0797097664185769,-1.082197773488274,-0.9865897560120086,-0.49589997856583656,-2.019160008681682,-2.34363091031312,-1.0797043851434238,-2.38347028814951,-2.076765809597956,-2.3626650750090277,-0.9864778105927356,-2.3431961016501646,-0.6392343939784655,-2.315105159182616,-2.2109998161413946,-2.362537463197577,-2.343476637126221,-2.265615681338737,-2.412241743200216,-2.1832197249256162,-2.3434267636091577,-1.2075320081791492,-2.2098836209411385,-0.9864520261360032,-1.0797060338742157,-2.2877739064994773,-2.344927299743643,-0.4917377492098146,-2.3100461383326065,-1.3362619513408605,-0.9864538992211411,-1.207567994906883,-2.078539453199298,-2.362569232294906,-1.3361687860286435,-2.3462035062129023,-2.2032497017472368,-2.203206028918776,-2.246449258376857,-1.0797377098303291,-2.076871729316249,-2.0767670482150895,-1.624573266763091,-1.336174438734967,-0.3801162113741677,-1.3362096471016505,-1.1258483424809722,-1.6692488492224322,-2.2064858649716568,-1.0798351295878241,-1.3361765467544842,-1.0906499968565588,-1.1789896497506709,-1.0796964361675239,-1.079752263996698,-1.8048185550160663,-2.1212797178703036,-2.0162068692641113,-2.3434364759263624,-2.076769987797571],\"z\":[0.12143804370939129,0.25800588589090184,-0.021672115085296713,0.31933567670182256,0.25799072056797684,0.35535829445790984,0.2511128072912049,-0.021655090427282243,0.03706237287939985,-0.02165938002486854,0.25455130796045344,-0.04705342050727837,0.12139401492777738,-0.021697890641984966,-0.021660672995527982,0.0353003331938675,0.09068063613912347,-0.02166310037216552,-0.02165541632143707,-0.021654331536009656,0.037063886466036575,0.2503913554332005,0.11583961518915856,-0.02536041517240312,-0.021658489838785676,-0.021721373802299326,-0.021658900098541246,-0.021653406100628984,0.14649966163649178,-0.02194486341201741,-0.02167178022133675,-0.02166653762025099,-0.04798417238289655,0.12143733380245597,-0.021703963450196092,-0.021658068047029935,-0.021652743551106697,-0.021663749672110544,0.2919688675186464,-0.021654370852453673,-0.023175814484267053,0.1214387600372432,-0.02174984046308289,-0.02165404332669008,-0.02167437974404703,-0.02166153891253871,0.12125824877367121,0.12143057370570462,0.1214355302476,0.12143765414994163,0.12144339583001108,0.037065927919533545,-0.021659125107735808,0.17346911678957452,-0.021696815222413825,0.12143168136088547,0.22535526032958592,0.2766684356779112,-0.021674669533621335,-0.02185671039317402,-0.021694285170261052,-0.02165262100477637,-0.0216971747917051,-0.02189647913044626,0.25458347020106176,0.2550479994737999,0.09707373518518554,-0.02165490577094379,-0.02334891090106158,0.35078606222752984,-0.021652586375895167,0.12143927050004333,-0.02773808577248503,0.0370567823284757,0.27138122990452,0.12143659058862631,0.03706124841636908,-0.021673624279282506,-0.02168591887268785,0.25802658644199516,0.2830504311096222,0.0370615782927336,0.12143735442771628,-0.021713442430588155,0.2415747110818791,-0.021673640977199447,0.11513229608998223,0.03705051523668304,0.2784137289988643,-0.021663685393052943,0.21410351921468176,-0.02165520443924608,0.037061479911681905,-0.02165258549523138,0.037064235906463294,0.667254761203744,0.2788780292615981,0.12144141171035323,0.2547587395738936,-0.02169186773271644,0.12144070931052414,-0.021656887036450367,0.22903619865782765,0.25802244436994126,0.3553586917114327,-0.022357959894134194,0.036848137016555885,0.037037340729382404,0.2788788381685362,-0.02165278658017675,0.2788766925049199,0.27138758431401505,0.030330799237929484,0.3193248382764663,-0.021653327958965504,0.0369932289429137,0.3553586626364709,-0.021681435982817344,0.27138311435898665,0.1676045914641152,-0.021931389764138356,-0.009929921404116934,-0.02165930792308553,0.12098225244149977,-0.02166023869080821,0.3193170942013323,0.33890001861029984,0.29042856353480717,0.2871120723330639,0.2783419252019555,0.037051695425391155,-0.021657752352508754,-0.02165852762500516,0.03705638355021206,0.03706435991706004,0.2788736955423567,0.31034101278636445,-0.0714878906138899,0.014844524744211192,0.03696593990119158,0.12143802835032773,-0.022347074237135545,-0.053757426880013774,-0.021655907849239847,-0.02166188115815069,-0.02166635035271085,-0.021666590521293827,0.2788725584949598,0.3528022312575771,0.03634034157150818,0.1465660123938791,0.3553560900274714,0.2783990240440346,-0.02168146889293172,0.037003711096240226,0.1465643257361939,0.2580086755878629,0.1465653207886227,0.25491081105322533,0.2689290645193087,0.27887860977537504,0.25725163619769664,0.0370117863394306,0.3191743636546682,-0.02287311046577882,-0.005744874346491178,0.03706393980231905,0.1465655828005661,0.14646835489008775,-0.021666850756514252,0.037062774213883654,0.121437596261805,0.1163894082264126,0.2008020984255095,0.20121757754112554,0.2788281532010021,-0.02455888750710888,0.27838628422941913,0.1732688664695902,-0.021657846409771565,-0.026123227535269994,0.03698568847843953,0.22729883025197745,0.25754450696958164,0.2787963274147261,-0.021654709204919645,0.2089862235960825,0.3553406913969974,0.22901333083642977,0.03705244469605246,0.27887563396751125,-0.009930576131826773,0.2713857841814704,0.26079992960550835,0.22903705030839822,0.2788407388354894,0.28656943148587066,0.25743852256108496,0.27222224125931227,0.2786885593085372,0.18364556648111421,0.347242632990499,0.037063688908623715,-0.021654186595557297,0.3192202807729679,0.17175880870724755,0.13137817252383896,0.25203160682349535,0.12083309642367626,0.03706341918475763,0.18364004644714296,0.3539078316401821,0.22903069582080854,0.121438029040664,0.2779268140528587,0.2858267549032571,0.2858288363246636,0.28685708842044155,-0.021668265549140486,0.35533594541477664,0.3553536516647568,0.09706564750661832,0.12142748402170121,-0.07366771302457015,0.12141334891725292,-0.028154046002267563,0.14544549934074325,0.2853657798428445,-0.021893711824362446,0.12143551867843985,-0.03160142510857317,0.09067391524021294,-0.021653871365156212,-0.02168008948353869,0.25506168393126016,0.3723879446073535,0.2580229435856733,0.2785677646668818,0.35535831388133876],\"type\":\"scatter3d\"},{\"customdata\":[[\"SHA-256 + Hive\"],[\"Leased POS\"]],\"hovertemplate\":\"<b>%{hovertext}</b><br><br>class=%{marker.color}<br>PC1=%{x}<br>PC2=%{y}<br>PC3=%{z}<br>Algorithm=%{customdata[0]}<extra></extra>\",\"hovertext\":[\"LitecoinCash\",\"Waves\"],\"legendgroup\":\"3\",\"marker\":{\"color\":[3,3],\"coloraxis\":\"coloraxis\",\"symbol\":\"square\"},\"mode\":\"markers\",\"name\":\"3\",\"scene\":\"scene\",\"showlegend\":true,\"x\":[-0.303650819764251,-0.4981353282464438],\"y\":[1.9906566367448273,4.381265701076205],\"z\":[14.85915675453485,27.20914018716291],\"type\":\"scatter3d\"},{\"customdata\":[[\"TRC10\"]],\"hovertemplate\":\"<b>%{hovertext}</b><br><br>class=%{marker.color}<br>PC1=%{x}<br>PC2=%{y}<br>PC3=%{z}<br>Algorithm=%{customdata[0]}<extra></extra>\",\"hovertext\":[\"BitTorrent\"],\"legendgroup\":\"1\",\"marker\":{\"color\":[1],\"coloraxis\":\"coloraxis\",\"symbol\":\"x\"},\"mode\":\"markers\",\"name\":\"1\",\"scene\":\"scene\",\"showlegend\":true,\"x\":[34.0419912795808],\"y\":[1.8030021754756624],\"z\":[-0.6043620957743244],\"type\":\"scatter3d\"}],                        {\"template\":{\"data\":{\"bar\":[{\"error_x\":{\"color\":\"#2a3f5f\"},\"error_y\":{\"color\":\"#2a3f5f\"},\"marker\":{\"line\":{\"color\":\"#E5ECF6\",\"width\":0.5},\"pattern\":{\"fillmode\":\"overlay\",\"size\":10,\"solidity\":0.2}},\"type\":\"bar\"}],\"barpolar\":[{\"marker\":{\"line\":{\"color\":\"#E5ECF6\",\"width\":0.5},\"pattern\":{\"fillmode\":\"overlay\",\"size\":10,\"solidity\":0.2}},\"type\":\"barpolar\"}],\"carpet\":[{\"aaxis\":{\"endlinecolor\":\"#2a3f5f\",\"gridcolor\":\"white\",\"linecolor\":\"white\",\"minorgridcolor\":\"white\",\"startlinecolor\":\"#2a3f5f\"},\"baxis\":{\"endlinecolor\":\"#2a3f5f\",\"gridcolor\":\"white\",\"linecolor\":\"white\",\"minorgridcolor\":\"white\",\"startlinecolor\":\"#2a3f5f\"},\"type\":\"carpet\"}],\"choropleth\":[{\"colorbar\":{\"outlinewidth\":0,\"ticks\":\"\"},\"type\":\"choropleth\"}],\"contour\":[{\"colorbar\":{\"outlinewidth\":0,\"ticks\":\"\"},\"colorscale\":[[0.0,\"#0d0887\"],[0.1111111111111111,\"#46039f\"],[0.2222222222222222,\"#7201a8\"],[0.3333333333333333,\"#9c179e\"],[0.4444444444444444,\"#bd3786\"],[0.5555555555555556,\"#d8576b\"],[0.6666666666666666,\"#ed7953\"],[0.7777777777777778,\"#fb9f3a\"],[0.8888888888888888,\"#fdca26\"],[1.0,\"#f0f921\"]],\"type\":\"contour\"}],\"contourcarpet\":[{\"colorbar\":{\"outlinewidth\":0,\"ticks\":\"\"},\"type\":\"contourcarpet\"}],\"heatmap\":[{\"colorbar\":{\"outlinewidth\":0,\"ticks\":\"\"},\"colorscale\":[[0.0,\"#0d0887\"],[0.1111111111111111,\"#46039f\"],[0.2222222222222222,\"#7201a8\"],[0.3333333333333333,\"#9c179e\"],[0.4444444444444444,\"#bd3786\"],[0.5555555555555556,\"#d8576b\"],[0.6666666666666666,\"#ed7953\"],[0.7777777777777778,\"#fb9f3a\"],[0.8888888888888888,\"#fdca26\"],[1.0,\"#f0f921\"]],\"type\":\"heatmap\"}],\"heatmapgl\":[{\"colorbar\":{\"outlinewidth\":0,\"ticks\":\"\"},\"colorscale\":[[0.0,\"#0d0887\"],[0.1111111111111111,\"#46039f\"],[0.2222222222222222,\"#7201a8\"],[0.3333333333333333,\"#9c179e\"],[0.4444444444444444,\"#bd3786\"],[0.5555555555555556,\"#d8576b\"],[0.6666666666666666,\"#ed7953\"],[0.7777777777777778,\"#fb9f3a\"],[0.8888888888888888,\"#fdca26\"],[1.0,\"#f0f921\"]],\"type\":\"heatmapgl\"}],\"histogram\":[{\"marker\":{\"pattern\":{\"fillmode\":\"overlay\",\"size\":10,\"solidity\":0.2}},\"type\":\"histogram\"}],\"histogram2d\":[{\"colorbar\":{\"outlinewidth\":0,\"ticks\":\"\"},\"colorscale\":[[0.0,\"#0d0887\"],[0.1111111111111111,\"#46039f\"],[0.2222222222222222,\"#7201a8\"],[0.3333333333333333,\"#9c179e\"],[0.4444444444444444,\"#bd3786\"],[0.5555555555555556,\"#d8576b\"],[0.6666666666666666,\"#ed7953\"],[0.7777777777777778,\"#fb9f3a\"],[0.8888888888888888,\"#fdca26\"],[1.0,\"#f0f921\"]],\"type\":\"histogram2d\"}],\"histogram2dcontour\":[{\"colorbar\":{\"outlinewidth\":0,\"ticks\":\"\"},\"colorscale\":[[0.0,\"#0d0887\"],[0.1111111111111111,\"#46039f\"],[0.2222222222222222,\"#7201a8\"],[0.3333333333333333,\"#9c179e\"],[0.4444444444444444,\"#bd3786\"],[0.5555555555555556,\"#d8576b\"],[0.6666666666666666,\"#ed7953\"],[0.7777777777777778,\"#fb9f3a\"],[0.8888888888888888,\"#fdca26\"],[1.0,\"#f0f921\"]],\"type\":\"histogram2dcontour\"}],\"mesh3d\":[{\"colorbar\":{\"outlinewidth\":0,\"ticks\":\"\"},\"type\":\"mesh3d\"}],\"parcoords\":[{\"line\":{\"colorbar\":{\"outlinewidth\":0,\"ticks\":\"\"}},\"type\":\"parcoords\"}],\"pie\":[{\"automargin\":true,\"type\":\"pie\"}],\"scatter\":[{\"marker\":{\"colorbar\":{\"outlinewidth\":0,\"ticks\":\"\"}},\"type\":\"scatter\"}],\"scatter3d\":[{\"line\":{\"colorbar\":{\"outlinewidth\":0,\"ticks\":\"\"}},\"marker\":{\"colorbar\":{\"outlinewidth\":0,\"ticks\":\"\"}},\"type\":\"scatter3d\"}],\"scattercarpet\":[{\"marker\":{\"colorbar\":{\"outlinewidth\":0,\"ticks\":\"\"}},\"type\":\"scattercarpet\"}],\"scattergeo\":[{\"marker\":{\"colorbar\":{\"outlinewidth\":0,\"ticks\":\"\"}},\"type\":\"scattergeo\"}],\"scattergl\":[{\"marker\":{\"colorbar\":{\"outlinewidth\":0,\"ticks\":\"\"}},\"type\":\"scattergl\"}],\"scattermapbox\":[{\"marker\":{\"colorbar\":{\"outlinewidth\":0,\"ticks\":\"\"}},\"type\":\"scattermapbox\"}],\"scatterpolar\":[{\"marker\":{\"colorbar\":{\"outlinewidth\":0,\"ticks\":\"\"}},\"type\":\"scatterpolar\"}],\"scatterpolargl\":[{\"marker\":{\"colorbar\":{\"outlinewidth\":0,\"ticks\":\"\"}},\"type\":\"scatterpolargl\"}],\"scatterternary\":[{\"marker\":{\"colorbar\":{\"outlinewidth\":0,\"ticks\":\"\"}},\"type\":\"scatterternary\"}],\"surface\":[{\"colorbar\":{\"outlinewidth\":0,\"ticks\":\"\"},\"colorscale\":[[0.0,\"#0d0887\"],[0.1111111111111111,\"#46039f\"],[0.2222222222222222,\"#7201a8\"],[0.3333333333333333,\"#9c179e\"],[0.4444444444444444,\"#bd3786\"],[0.5555555555555556,\"#d8576b\"],[0.6666666666666666,\"#ed7953\"],[0.7777777777777778,\"#fb9f3a\"],[0.8888888888888888,\"#fdca26\"],[1.0,\"#f0f921\"]],\"type\":\"surface\"}],\"table\":[{\"cells\":{\"fill\":{\"color\":\"#EBF0F8\"},\"line\":{\"color\":\"white\"}},\"header\":{\"fill\":{\"color\":\"#C8D4E3\"},\"line\":{\"color\":\"white\"}},\"type\":\"table\"}]},\"layout\":{\"annotationdefaults\":{\"arrowcolor\":\"#2a3f5f\",\"arrowhead\":0,\"arrowwidth\":1},\"autotypenumbers\":\"strict\",\"coloraxis\":{\"colorbar\":{\"outlinewidth\":0,\"ticks\":\"\"}},\"colorscale\":{\"diverging\":[[0,\"#8e0152\"],[0.1,\"#c51b7d\"],[0.2,\"#de77ae\"],[0.3,\"#f1b6da\"],[0.4,\"#fde0ef\"],[0.5,\"#f7f7f7\"],[0.6,\"#e6f5d0\"],[0.7,\"#b8e186\"],[0.8,\"#7fbc41\"],[0.9,\"#4d9221\"],[1,\"#276419\"]],\"sequential\":[[0.0,\"#0d0887\"],[0.1111111111111111,\"#46039f\"],[0.2222222222222222,\"#7201a8\"],[0.3333333333333333,\"#9c179e\"],[0.4444444444444444,\"#bd3786\"],[0.5555555555555556,\"#d8576b\"],[0.6666666666666666,\"#ed7953\"],[0.7777777777777778,\"#fb9f3a\"],[0.8888888888888888,\"#fdca26\"],[1.0,\"#f0f921\"]],\"sequentialminus\":[[0.0,\"#0d0887\"],[0.1111111111111111,\"#46039f\"],[0.2222222222222222,\"#7201a8\"],[0.3333333333333333,\"#9c179e\"],[0.4444444444444444,\"#bd3786\"],[0.5555555555555556,\"#d8576b\"],[0.6666666666666666,\"#ed7953\"],[0.7777777777777778,\"#fb9f3a\"],[0.8888888888888888,\"#fdca26\"],[1.0,\"#f0f921\"]]},\"colorway\":[\"#636efa\",\"#EF553B\",\"#00cc96\",\"#ab63fa\",\"#FFA15A\",\"#19d3f3\",\"#FF6692\",\"#B6E880\",\"#FF97FF\",\"#FECB52\"],\"font\":{\"color\":\"#2a3f5f\"},\"geo\":{\"bgcolor\":\"white\",\"lakecolor\":\"white\",\"landcolor\":\"#E5ECF6\",\"showlakes\":true,\"showland\":true,\"subunitcolor\":\"white\"},\"hoverlabel\":{\"align\":\"left\"},\"hovermode\":\"closest\",\"mapbox\":{\"style\":\"light\"},\"paper_bgcolor\":\"white\",\"plot_bgcolor\":\"#E5ECF6\",\"polar\":{\"angularaxis\":{\"gridcolor\":\"white\",\"linecolor\":\"white\",\"ticks\":\"\"},\"bgcolor\":\"#E5ECF6\",\"radialaxis\":{\"gridcolor\":\"white\",\"linecolor\":\"white\",\"ticks\":\"\"}},\"scene\":{\"xaxis\":{\"backgroundcolor\":\"#E5ECF6\",\"gridcolor\":\"white\",\"gridwidth\":2,\"linecolor\":\"white\",\"showbackground\":true,\"ticks\":\"\",\"zerolinecolor\":\"white\"},\"yaxis\":{\"backgroundcolor\":\"#E5ECF6\",\"gridcolor\":\"white\",\"gridwidth\":2,\"linecolor\":\"white\",\"showbackground\":true,\"ticks\":\"\",\"zerolinecolor\":\"white\"},\"zaxis\":{\"backgroundcolor\":\"#E5ECF6\",\"gridcolor\":\"white\",\"gridwidth\":2,\"linecolor\":\"white\",\"showbackground\":true,\"ticks\":\"\",\"zerolinecolor\":\"white\"}},\"shapedefaults\":{\"line\":{\"color\":\"#2a3f5f\"}},\"ternary\":{\"aaxis\":{\"gridcolor\":\"white\",\"linecolor\":\"white\",\"ticks\":\"\"},\"baxis\":{\"gridcolor\":\"white\",\"linecolor\":\"white\",\"ticks\":\"\"},\"bgcolor\":\"#E5ECF6\",\"caxis\":{\"gridcolor\":\"white\",\"linecolor\":\"white\",\"ticks\":\"\"}},\"title\":{\"x\":0.05},\"xaxis\":{\"automargin\":true,\"gridcolor\":\"white\",\"linecolor\":\"white\",\"ticks\":\"\",\"title\":{\"standoff\":15},\"zerolinecolor\":\"white\",\"zerolinewidth\":2},\"yaxis\":{\"automargin\":true,\"gridcolor\":\"white\",\"linecolor\":\"white\",\"ticks\":\"\",\"title\":{\"standoff\":15},\"zerolinecolor\":\"white\",\"zerolinewidth\":2}}},\"scene\":{\"domain\":{\"x\":[0.0,1.0],\"y\":[0.0,1.0]},\"xaxis\":{\"title\":{\"text\":\"PC1\"}},\"yaxis\":{\"title\":{\"text\":\"PC2\"}},\"zaxis\":{\"title\":{\"text\":\"PC3\"}}},\"coloraxis\":{\"colorbar\":{\"title\":{\"text\":\"class\"}},\"colorscale\":[[0.0,\"#0d0887\"],[0.1111111111111111,\"#46039f\"],[0.2222222222222222,\"#7201a8\"],[0.3333333333333333,\"#9c179e\"],[0.4444444444444444,\"#bd3786\"],[0.5555555555555556,\"#d8576b\"],[0.6666666666666666,\"#ed7953\"],[0.7777777777777778,\"#fb9f3a\"],[0.8888888888888888,\"#fdca26\"],[1.0,\"#f0f921\"]]},\"legend\":{\"title\":{\"text\":\"class\"},\"tracegroupgap\":0,\"x\":0,\"y\":1},\"margin\":{\"t\":60},\"width\":800},                        {\"responsive\": true}                    ).then(function(){\n",
       "                            \n",
       "var gd = document.getElementById('f3b95ba8-c3cc-4c6a-b1de-d88379645587');\n",
       "var x = new MutationObserver(function (mutations, observer) {{\n",
       "        var display = window.getComputedStyle(gd).display;\n",
       "        if (!display || display === 'none') {{\n",
       "            console.log([gd, 'removed!']);\n",
       "            Plotly.purge(gd);\n",
       "            observer.disconnect();\n",
       "        }}\n",
       "}});\n",
       "\n",
       "// Listen for the removal of the full notebook cells\n",
       "var notebookContainer = gd.closest('#notebook-container');\n",
       "if (notebookContainer) {{\n",
       "    x.observe(notebookContainer, {childList: true});\n",
       "}}\n",
       "\n",
       "// Listen for the clearing of the current output cell\n",
       "var outputEl = gd.closest('.output');\n",
       "if (outputEl) {{\n",
       "    x.observe(outputEl, {childList: true});\n",
       "}}\n",
       "\n",
       "                        })                };                });            </script>        </div>"
      ]
     },
     "metadata": {},
     "output_type": "display_data"
    }
   ],
   "source": [
    "# Creating a 3D-Scatter with the PCA data and the clusters\n",
    "\n",
    "fig = px.scatter_3d(\n",
    "    clustered_df,\n",
    "    x=\"PC1\",\n",
    "    y=\"PC2\",\n",
    "    z=\"PC3\",\n",
    "    color=\"class\",\n",
    "    symbol=\"class\",\n",
    "    width=800,\n",
    "    hover_name=\"CoinName\",\n",
    "    hover_data=[\"Algorithm\"],\n",
    ")\n",
    "fig.update_layout(legend=dict(x=0, y=1))\n",
    "fig.show()"
   ]
  },
  {
   "cell_type": "code",
   "execution_count": 244,
   "metadata": {},
   "outputs": [
    {
     "data": {},
     "metadata": {},
     "output_type": "display_data"
    },
    {
     "data": {
      "application/vnd.holoviews_exec.v0+json": "",
      "text/html": [
       "<div id='1002'>\n",
       "\n",
       "\n",
       "\n",
       "\n",
       "\n",
       "  <div class=\"bk-root\" id=\"aac6c8c4-4605-4903-8ffb-75a2e54ec8f2\" data-root-id=\"1002\"></div>\n",
       "</div>\n",
       "<script type=\"application/javascript\">(function(root) {\n",
       "  function embed_document(root) {\n",
       "    var docs_json = {\"d097931c-0d15-4de1-8cd7-1087a192422c\":{\"defs\":[{\"extends\":null,\"module\":null,\"name\":\"ReactiveHTML1\",\"overrides\":[],\"properties\":[]},{\"extends\":null,\"module\":null,\"name\":\"FlexBox1\",\"overrides\":[],\"properties\":[{\"default\":\"flex-start\",\"kind\":null,\"name\":\"align_content\"},{\"default\":\"flex-start\",\"kind\":null,\"name\":\"align_items\"},{\"default\":\"row\",\"kind\":null,\"name\":\"flex_direction\"},{\"default\":\"wrap\",\"kind\":null,\"name\":\"flex_wrap\"},{\"default\":\"flex-start\",\"kind\":null,\"name\":\"justify_content\"}]},{\"extends\":null,\"module\":null,\"name\":\"TemplateActions1\",\"overrides\":[],\"properties\":[{\"default\":0,\"kind\":null,\"name\":\"open_modal\"},{\"default\":0,\"kind\":null,\"name\":\"close_modal\"}]},{\"extends\":null,\"module\":null,\"name\":\"MaterialTemplateActions1\",\"overrides\":[],\"properties\":[{\"default\":0,\"kind\":null,\"name\":\"open_modal\"},{\"default\":0,\"kind\":null,\"name\":\"close_modal\"}]}],\"roots\":{\"references\":[{\"attributes\":{},\"id\":\"1017\",\"type\":\"StringEditor\"},{\"attributes\":{\"columns\":[{\"id\":\"1008\"},{\"id\":\"1013\"},{\"id\":\"1018\"},{\"id\":\"1023\"},{\"id\":\"1028\"},{\"id\":\"1033\"}],\"height\":300,\"reorderable\":false,\"source\":{\"id\":\"1004\"},\"view\":{\"id\":\"1038\"},\"width\":700},\"id\":\"1036\",\"type\":\"DataTable\"},{\"attributes\":{},\"id\":\"1022\",\"type\":\"NumberEditor\"},{\"attributes\":{},\"id\":\"1016\",\"type\":\"StringFormatter\"},{\"attributes\":{\"source\":{\"id\":\"1004\"}},\"id\":\"1038\",\"type\":\"CDSView\"},{\"attributes\":{\"margin\":[5,5,5,5],\"name\":\"HSpacer01651\",\"sizing_mode\":\"stretch_width\"},\"id\":\"1043\",\"type\":\"Spacer\"},{\"attributes\":{},\"id\":\"1007\",\"type\":\"StringEditor\"},{\"attributes\":{},\"id\":\"1012\",\"type\":\"StringEditor\"},{\"attributes\":{},\"id\":\"1032\",\"type\":\"IntEditor\"},{\"attributes\":{},\"id\":\"1031\",\"type\":\"NumberFormatter\"},{\"attributes\":{},\"id\":\"1027\",\"type\":\"NumberEditor\"},{\"attributes\":{\"editor\":{\"id\":\"1007\"},\"field\":\"CoinName\",\"formatter\":{\"id\":\"1006\"},\"title\":\"CoinName\"},\"id\":\"1008\",\"type\":\"TableColumn\"},{\"attributes\":{\"children\":[{\"id\":\"1003\"},{\"id\":\"1036\"},{\"id\":\"1043\"}],\"margin\":[0,0,0,0],\"name\":\"Row01646\",\"tags\":[\"embedded\"]},\"id\":\"1002\",\"type\":\"Row\"},{\"attributes\":{\"format\":\"0,0.0[00000]\"},\"id\":\"1021\",\"type\":\"NumberFormatter\"},{\"attributes\":{},\"id\":\"1039\",\"type\":\"UnionRenderers\"},{\"attributes\":{\"editor\":{\"id\":\"1012\"},\"field\":\"Algorithm\",\"formatter\":{\"id\":\"1011\"},\"title\":\"Algorithm\"},\"id\":\"1013\",\"type\":\"TableColumn\"},{\"attributes\":{\"format\":\"0,0.0[00000]\"},\"id\":\"1026\",\"type\":\"NumberFormatter\"},{\"attributes\":{\"editor\":{\"id\":\"1027\"},\"field\":\"TotalCoinsMined\",\"formatter\":{\"id\":\"1026\"},\"title\":\"TotalCoinsMined\"},\"id\":\"1028\",\"type\":\"TableColumn\"},{\"attributes\":{\"data\":{\"Algorithm\":[\"Scrypt\",\"Scrypt\",\"X13\",\"SHA-256\",\"Ethash\",\"Scrypt\",\"X11\",\"CryptoNight-V7\",\"Ethash\",\"Equihash\",\"SHA-512\",\"Multiple\",\"SHA-256\",\"SHA-256\",\"Scrypt\",\"X15\",\"X11\",\"Scrypt\",\"Scrypt\",\"Scrypt\",\"Multiple\",\"Scrypt\",\"SHA-256\",\"Scrypt\",\"Scrypt\",\"Scrypt\",\"Quark\",\"Groestl\",\"Scrypt\",\"Scrypt\",\"Scrypt\",\"Scrypt\",\"Scrypt\",\"X11\",\"Scrypt\",\"Groestl\",\"Multiple\",\"SHA-256\",\"Scrypt\",\"Scrypt\",\"Scrypt\",\"Scrypt\",\"PoS\",\"Scrypt\",\"Scrypt\",\"NeoScrypt\",\"Scrypt\",\"Scrypt\",\"Scrypt\",\"Scrypt\",\"X11\",\"Scrypt\",\"X11\",\"SHA-256\",\"Scrypt\",\"Scrypt\",\"Scrypt\",\"SHA3\",\"Scrypt\",\"HybridScryptHash256\",\"Scrypt\",\"Scrypt\",\"SHA-256\",\"Scrypt\",\"X13\",\"Scrypt\",\"SHA-256\",\"Scrypt\",\"X13\",\"NeoScrypt\",\"Scrypt\",\"Scrypt\",\"Scrypt\",\"Scrypt\",\"Scrypt\",\"Scrypt\",\"X11\",\"X11\",\"SHA-256\",\"Multiple\",\"SHA-256\",\"PHI1612\",\"X11\",\"SHA-256\",\"SHA-256\",\"SHA-256\",\"X11\",\"Scrypt\",\"Scrypt\",\"Scrypt\",\"Scrypt\",\"Lyra2REv2\",\"Scrypt\",\"X11\",\"Multiple\",\"SHA-256\",\"X13\",\"Scrypt\",\"CryptoNight\",\"CryptoNight\",\"Shabal256\",\"Counterparty\",\"Scrypt\",\"SHA-256\",\"Groestl\",\"Scrypt\",\"Scrypt\",\"Scrypt\",\"X13\",\"Scrypt\",\"Scrypt\",\"Scrypt\",\"Scrypt\",\"X13\",\"Scrypt\",\"Stanford Folding\",\"X11\",\"Multiple\",\"QuBit\",\"Scrypt\",\"Scrypt\",\"Scrypt\",\"M7 POW\",\"Scrypt\",\"SHA-256\",\"Scrypt\",\"X11\",\"SHA3\",\"X11\",\"Lyra2RE\",\"SHA-256\",\"QUAIT\",\"X11\",\"X11\",\"Scrypt\",\"Scrypt\",\"Scrypt\",\"Ethash\",\"X13\",\"Blake2b\",\"SHA-256\",\"X15\",\"X11\",\"SHA-256\",\"BLAKE256\",\"Scrypt\",\"1GB AES Pattern Search\",\"SHA-256\",\"X11\",\"Scrypt\",\"SHA-256\",\"SHA-256\",\"NIST5\",\"Scrypt\",\"Scrypt\",\"X11\",\"Dagger\",\"Scrypt\",\"X11GOST\",\"X11\",\"Scrypt\",\"SHA-256\",\"Scrypt\",\"PoS\",\"Scrypt\",\"X11\",\"X11\",\"SHA-256\",\"SHA-256\",\"NIST5\",\"X11\",\"Scrypt\",\"POS 3.0\",\"Scrypt\",\"Scrypt\",\"Scrypt\",\"X13\",\"X11\",\"X11\",\"Equihash\",\"X11\",\"Scrypt\",\"CryptoNight\",\"SHA-256\",\"SHA-256\",\"X11\",\"Scrypt\",\"Multiple\",\"Scrypt\",\"Scrypt\",\"Scrypt\",\"SHA-256\",\"Scrypt\",\"Scrypt\",\"SHA-256D\",\"PoS\",\"Scrypt\",\"X11\",\"Lyra2Z\",\"PoS\",\"X13\",\"X14\",\"PoS\",\"SHA-256D\",\"Ethash\",\"Equihash\",\"DPoS\",\"X11\",\"Scrypt\",\"X11\",\"X13\",\"X11\",\"PoS\",\"Scrypt\",\"Scrypt\",\"X11\",\"PoS\",\"X11\",\"SHA-256\",\"Scrypt\",\"X11\",\"Scrypt\",\"Scrypt\",\"X11\",\"CryptoNight\",\"Scrypt\",\"Scrypt\",\"Scrypt\",\"Scrypt\",\"Quark\",\"QuBit\",\"Scrypt\",\"CryptoNight\",\"Lyra2RE\",\"Scrypt\",\"SHA-256\",\"X11\",\"Scrypt\",\"X11\",\"Scrypt\",\"CryptoNight-V7\",\"Scrypt\",\"Scrypt\",\"Scrypt\",\"X13\",\"X11\",\"Equihash\",\"Scrypt\",\"Scrypt\",\"Lyra2RE\",\"Scrypt\",\"Dagger-Hashimoto\",\"X11\",\"Blake2S\",\"X11\",\"Scrypt\",\"PoS\",\"X11\",\"NIST5\",\"PoS\",\"X11\",\"Scrypt\",\"Scrypt\",\"Scrypt\",\"SHA-256\",\"X11\",\"Scrypt\",\"Scrypt\",\"SHA-256\",\"PoS\",\"Scrypt\",\"X15\",\"SHA-256\",\"Scrypt\",\"POS 3.0\",\"CryptoNight-V7\",\"536\",\"Argon2d\",\"Blake2b\",\"Cloverhash\",\"CryptoNight\",\"NIST5\",\"X11\",\"NIST5\",\"Skein\",\"Scrypt\",\"X13\",\"Scrypt\",\"X11\",\"X11\",\"Scrypt\",\"CryptoNight\",\"X13\",\"Time Travel\",\"Scrypt\",\"Keccak\",\"SkunkHash v2 Raptor\",\"X11\",\"Skein\",\"SHA-256\",\"X11\",\"Scrypt\",\"VeChainThor Authority\",\"Scrypt\",\"PoS\",\"Scrypt\",\"Scrypt\",\"Scrypt\",\"Scrypt\",\"Scrypt\",\"Scrypt\",\"Scrypt\",\"CryptoNight\",\"SHA-512\",\"Ouroboros\",\"X11\",\"Equihash\",\"NeoScrypt\",\"X11\",\"Scrypt\",\"NeoScrypt\",\"Lyra2REv2\",\"Equihash\",\"Scrypt\",\"SHA-256\",\"NIST5\",\"PHI1612\",\"Dagger\",\"Scrypt\",\"Quark\",\"Scrypt\",\"POS 2.0\",\"Scrypt\",\"SHA-256\",\"X11\",\"NeoScrypt\",\"Ethash\",\"NeoScrypt\",\"X11\",\"DPoS\",\"NIST5\",\"X13\",\"Multiple\",\"Scrypt\",\"CryptoNight\",\"CryptoNight\",\"Ethash\",\"NIST5\",\"Quark\",\"X11\",\"CryptoNight-V7\",\"Scrypt\",\"Scrypt\",\"Scrypt\",\"X11\",\"BLAKE256\",\"X11\",\"NeoScrypt\",\"Quark\",\"NeoScrypt\",\"Scrypt\",\"Scrypt\",\"Scrypt\",\"X11\",\"X11\",\"SHA-256\",\"C11\",\"POS 3.0\",\"Ethash\",\"Scrypt\",\"CryptoNight\",\"SkunkHash\",\"Scrypt\",\"CryptoNight\",\"Scrypt\",\"Dagger\",\"Lyra2REv2\",\"X13\",\"Proof-of-BibleHash\",\"SHA-256 + Hive\",\"Scrypt\",\"Scrypt\",\"X11\",\"C11\",\"Proof-of-Authority\",\"X11\",\"XEVAN\",\"Scrypt\",\"VBFT\",\"Ethash\",\"CryptoNight\",\"Scrypt\",\"IMesh\",\"NIST5\",\"Scrypt\",\"Scrypt\",\"Equihash\",\"Scrypt\",\"Lyra2Z\",\"Green Protocol\",\"PoS\",\"Scrypt\",\"Semux BFT consensus\",\"X11\",\"Quark\",\"PoS\",\"CryptoNight\",\"X16R\",\"Scrypt\",\"NIST5\",\"Lyra2RE\",\"XEVAN\",\"Tribus\",\"Scrypt\",\"Lyra2Z\",\"CryptoNight\",\"CryptoNight Heavy\",\"CryptoNight\",\"Scrypt\",\"Scrypt\",\"Jump Consistent Hash\",\"SHA-256D\",\"CryptoNight\",\"Scrypt\",\"X15\",\"Scrypt\",\"Quark\",\"SHA-256\",\"DPoS\",\"X16R\",\"HMQ1725\",\"X11\",\"X16R\",\"Quark\",\"Quark\",\"Scrypt\",\"Lyra2REv2\",\"Quark\",\"Scrypt\",\"Scrypt\",\"CryptoNight-V7\",\"Cryptonight-GPU\",\"XEVAN\",\"CryptoNight Heavy\",\"X11\",\"X11\",\"Scrypt\",\"PoS\",\"SHA-256\",\"Keccak\",\"X11\",\"X11\",\"Scrypt\",\"SHA-512\",\"X16R\",\"ECC 256K1\",\"Equihash\",\"XEVAN\",\"Lyra2Z\",\"SHA-256\",\"XEVAN\",\"X11\",\"CryptoNight\",\"Quark\",\"Blake\",\"Blake\",\"Equihash\",\"Exosis\",\"Scrypt\",\"Scrypt\",\"Equihash\",\"Quark\",\"Equihash\",\"Quark\",\"Scrypt\",\"QuBit\",\"X11\",\"Scrypt\",\"XEVAN\",\"SHA-256D\",\"X11\",\"SHA-256\",\"X13\",\"SHA-256\",\"X11\",\"DPoS\",\"Scrypt\",\"Scrypt\",\"X11\",\"NeoScrypt\",\"Scrypt\",\"Blake\",\"Scrypt\",\"SHA-256\",\"Scrypt\",\"X11\",\"Scrypt\",\"Scrypt\",\"SHA-256\",\"X11\",\"SHA-256\",\"Scrypt\",\"Scrypt\",\"Scrypt\",\"Groestl\",\"X11\",\"Scrypt\",\"PoS\",\"Scrypt\",\"Scrypt\",\"X11\",\"SHA-256\",\"DPoS\",\"Scrypt\",\"Scrypt\",\"NeoScrypt\",\"Multiple\",\"X13\",\"Equihash+Scrypt\",\"DPoS\",\"Ethash\",\"DPoS\",\"SHA-256\",\"Leased POS\",\"PoS\",\"TRC10\",\"PoS\",\"SHA-256\",\"Scrypt\",\"CryptoNight\",\"Equihash\",\"Scrypt\"],\"CoinName\":[\"42 Coin\",\"404Coin\",\"EliteCoin\",\"Bitcoin\",\"Ethereum\",\"Litecoin\",\"Dash\",\"Monero\",\"Ethereum Classic\",\"ZCash\",\"Bitshares\",\"DigiByte\",\"BitcoinDark\",\"PayCoin\",\"ProsperCoin\",\"KoboCoin\",\"Spreadcoin\",\"Argentum\",\"Aurora Coin\",\"BlueCoin\",\"MyriadCoin\",\"MoonCoin\",\"ZetaCoin\",\"SexCoin\",\"Quatloo\",\"EnergyCoin\",\"QuarkCoin\",\"Riecoin\",\"Digitalcoin \",\"BitBar\",\"Catcoin\",\"CryptoBullion\",\"CannaCoin\",\"CryptCoin\",\"CasinoCoin\",\"Diamond\",\"Verge\",\"DevCoin\",\"EarthCoin\",\"E-Gulden\",\"Einsteinium\",\"Emerald\",\"Exclusive Coin\",\"FlutterCoin\",\"Franko\",\"FeatherCoin\",\"GrandCoin\",\"GlobalCoin\",\"GoldCoin\",\"HoboNickels\",\"HyperStake\",\"Infinite Coin\",\"IOCoin\",\"IXcoin\",\"KrugerCoin\",\"LuckyCoin\",\"Litebar \",\"MaxCoin\",\"MegaCoin\",\"MediterraneanCoin\",\"MintCoin\",\"MinCoin\",\"MazaCoin\",\"Nautilus Coin\",\"NavCoin\",\"NobleCoin\",\"Namecoin\",\"NyanCoin\",\"OpalCoin\",\"Orbitcoin\",\"PotCoin\",\"PhoenixCoin\",\"Reddcoin\",\"RonPaulCoin\",\"StableCoin\",\"SmartCoin\",\"SuperCoin\",\"SyncCoin\",\"SysCoin\",\"TeslaCoin\",\"TigerCoin\",\"TittieCoin\",\"TorCoin\",\"TerraCoin\",\"UnbreakableCoin\",\"Unobtanium\",\"UroCoin\",\"UnitaryStatus Dollar\",\"UltraCoin\",\"ViaCoin\",\"VeriCoin\",\"Vertcoin\",\"WorldCoin\",\"X11 Coin\",\"Crypti\",\"JouleCoin\",\"StealthCoin\",\"ZCC Coin\",\"ByteCoin\",\"DigitalNote \",\"BurstCoin\",\"StorjCoin\",\"MonaCoin\",\"Neutron\",\"FairCoin\",\"Gulden\",\"RubyCoin\",\"PesetaCoin\",\"Kore\",\"Wild Beast Coin\",\"Dnotes\",\"Flo\",\"8BIT Coin\",\"Sativa Coin\",\"ArtByte\",\"Folding Coin\",\"Ucoin\",\"Unitus\",\"CypherPunkCoin\",\"OmniCron\",\"Vtorrent\",\"GreenCoin\",\"Cryptonite\",\"MasterCoin\",\"SoonCoin\",\"1Credit\",\"IslaCoin\",\"Nexus\",\"MarsCoin \",\"Crypto\",\"Anarchists Prime\",\"Droidz\",\"BowsCoin\",\"Squall Coin\",\"Song Coin\",\"BitZeny\",\"Diggits\",\"Expanse\",\"Paycon\",\"Siacoin\",\"Emercoin\",\"EverGreenCoin\",\"MindCoin\",\"I0coin\",\"Decred\",\"Revolution VR\",\"HOdlcoin\",\"EDRCoin\",\"Hitcoin\",\"Gamecredits\",\"DubaiCoin\",\"CarpeDiemCoin\",\"PWR Coin\",\"BillaryCoin\",\"GPU Coin\",\"Adzcoin\",\"SoilCoin\",\"YoCoin\",\"SibCoin\",\"EuropeCoin\",\"ZeitCoin\",\"SwingCoin\",\"SafeExchangeCoin\",\"Nebuchadnezzar\",\"Francs\",\"BolivarCoin\",\"Ratecoin\",\"Revenu\",\"Clockcoin\",\"VIP Tokens\",\"BitSend\",\"Omni\",\"Let it Ride\",\"PutinCoin\",\"iBankCoin\",\"Frankywillcoin\",\"MudraCoin\",\"PizzaCoin\",\"Lutetium Coin\",\"Komodo\",\"GoldBlocks\",\"CarterCoin\",\"Karbo\",\"BitTokens\",\"ZayedCoin\",\"MustangCoin\",\"ZoneCoin\",\"Circuits of Value\",\"RootCoin\",\"DopeCoin\",\"BitCurrency\",\"DollarCoin\",\"Swiscoin\",\"Shilling\",\"BuzzCoin\",\"Opair\",\"PesoBit\",\"Halloween Coin\",\"ZCoin\",\"CoffeeCoin\",\"RoyalCoin\",\"GanjaCoin V2\",\"TeamUP\",\"LanaCoin\",\"Elementrem\",\"ZClassic\",\"ARK\",\"InsaneCoin\",\"KiloCoin\",\"ArtexCoin\",\"EmberCoin\",\"XenixCoin\",\"FreeCoin\",\"PLNCoin\",\"AquariusCoin\",\"Kurrent\",\"Creatio\",\"Eternity\",\"Eurocoin\",\"BitcoinFast\",\"Stakenet\",\"BitConnect Coin\",\"MoneyCoin\",\"Enigma\",\"Cannabis Industry Coin\",\"Russiacoin\",\"PandaCoin\",\"GameUnits\",\"GAKHcoin\",\"Allsafe\",\"LiteCreed\",\"OsmiumCoin\",\"Bikercoins\",\"HexxCoin\",\"Klingon Empire Darsek\",\"Internet of People\",\"KushCoin\",\"Printerium\",\"PacCoin\",\"Impeach\",\"Citadel\",\"Zilbercoin\",\"FirstCoin\",\"BeaverCoin\",\"FindCoin\",\"VaultCoin\",\"Zero\",\"OpenChat\",\"Canada eCoin\",\"Zoin\",\"RenosCoin\",\"DubaiCoin\",\"VirtacoinPlus\",\"TajCoin\",\"Impact\",\"EB3coin\",\"Atmos\",\"HappyCoin\",\"Coinonat\",\"MacronCoin\",\"Condensate\",\"Independent Money System\",\"ArgusCoin\",\"LomoCoin\",\"ProCurrency\",\"GoldReserve\",\"BenjiRolls\",\"GrowthCoin\",\"ILCoin\",\"Phreak\",\"Degas Coin\",\"HTML5 Coin\",\"Ultimate Secure Cash\",\"EquiTrader\",\"QTUM\",\"Quantum Resistant Ledger\",\"Espers\",\"Dynamic\",\"Nano\",\"ChanCoin\",\"Dinastycoin\",\"Denarius\",\"DigitalPrice\",\"Virta Unique Coin\",\"Bitcoin Planet\",\"Unify\",\"BritCoin\",\"SocialCoin\",\"ArcticCoin\",\"DAS\",\"Linda\",\"LeviarCoin\",\"DeepOnion\",\"Bitcore\",\"gCn Coin\",\"SmartCash\",\"Signatum\",\"Onix\",\"Cream\",\"Bitcoin Cash\",\"Monoeci\",\"Draftcoin\",\"Vechain\",\"Sojourn Coin\",\"Stakecoin\",\"NewYorkCoin\",\"FrazCoin\",\"Kronecoin\",\"AdCoin\",\"Linx\",\"CoinonatX\",\"Ethereum Dark\",\"Sumokoin\",\"Obsidian\",\"Cardano\",\"Regalcoin\",\"BitcoinZ\",\"TrezarCoin\",\"Elements\",\"TerraNovaCoin\",\"VIVO Coin\",\"Rupee\",\"Bitcoin Gold\",\"WomenCoin\",\"Theresa May Coin\",\"NamoCoin\",\"LUXCoin\",\"Pirl\",\"Xios\",\"Bitcloud 2.0\",\"eBoost\",\"KekCoin\",\"BlackholeCoin\",\"Infinity Economics\",\"Pura\",\"Innova\",\"Ellaism\",\"GoByte\",\"Magnet\",\"Lamden Tau\",\"Electra\",\"Bitcoin Diamond\",\"SHIELD\",\"Cash & Back Coin\",\"UltraNote\",\"BitCoal\",\"DaxxCoin\",\"Bulwark\",\"Kalkulus\",\"AC3\",\"Lethean\",\"GermanCoin\",\"LiteCoin Ultra\",\"PopularCoin\",\"PhantomX\",\"Photon\",\"Sucre\",\"SparksPay\",\"Digiwage\",\"GunCoin\",\"IrishCoin\",\"Trollcoin\",\"Litecoin Plus\",\"Monkey Project\",\"Pioneer Coin\",\"UnitedBitcoin\",\"Interzone\",\"TokenPay\",\"1717 Masonic Commemorative Token\",\"My Big Coin\",\"TurtleCoin\",\"MUNcoin\",\"Unified Society USDEX\",\"Niobio Cash\",\"ShareChain\",\"Travelflex\",\"KREDS\",\"Tokyo Coin\",\"BiblePay\",\"LitecoinCash\",\"BitFlip\",\"LottoCoin\",\"Crypto Improvement Fund\",\"Stipend\",\"Poa Network\",\"Pushi\",\"Ellerium\",\"Velox\",\"Ontology\",\"Callisto Network\",\"BitTube\",\"Poseidon\",\"Aidos Kuneen\",\"Bitspace\",\"Briacoin\",\"Ignition\",\"Bitrolium\",\"MedicCoin\",\"Alpenschillling\",\"Bitcoin Green\",\"Deviant Coin\",\"Abjcoin\",\"Semux\",\"FuturoCoin\",\"Carebit\",\"Zealium\",\"Monero Classic\",\"Proton\",\"iDealCash\",\"Jumpcoin\",\"Infinex\",\"Bitcoin Incognito\",\"KEYCO\",\"HollyWoodCoin\",\"GINcoin\",\"PlatinCoin\",\"Loki\",\"Newton Coin\",\"Swisscoin\",\"Xt3ch\",\"MassGrid\",\"TheVig\",\"PluraCoin\",\"EmaratCoin\",\"Dekado\",\"Lynx\",\"Poseidon Quark\",\"BitcoinWSpectrum\",\"Muse\",\"Motion\",\"PlusOneCoin\",\"Axe\",\"Trivechain\",\"Dystem\",\"Giant\",\"Peony Coin\",\"Absolute Coin\",\"Vitae\",\"HexCoin\",\"TPCash\",\"Webchain\",\"Ryo\",\"Urals Coin\",\"Qwertycoin\",\"ARENON\",\"EUNO\",\"MMOCoin\",\"Ketan\",\"Project Pai\",\"XDNA\",\"PAXEX\",\"Azart\",\"ThunderStake\",\"Kcash\",\"Xchange\",\"Acute Angle Cloud\",\"CrypticCoin\",\"Bettex coin\",\"Actinium\",\"Bitcoin SV\",\"BitMoney\",\"Junson Ming Chan Coin\",\"FREDEnergy\",\"HerbCoin\",\"Universal Molecule\",\"Lithium\",\"PirateCash\",\"Exosis\",\"Block-Logic\",\"Oduwa\",\"Beam\",\"Galilel\",\"Bithereum\",\"Crypto Sports\",\"Credit\",\"SLICE\",\"Dash Platinum\",\"Nasdacoin\",\"Beetle Coin\",\"Titan Coin\",\"Award\",\"BLAST\",\"Bitcoin Rhodium\",\"GlobalToken\",\"Insane Coin\",\"ALAX\",\"LiteDoge\",\"SolarCoin\",\"TruckCoin\",\"UFO Coin\",\"OrangeCoin\",\"BlakeCoin\",\"BitstarCoin\",\"NeosCoin\",\"HyperCoin\",\"PinkCoin\",\"Crypto Escudo\",\"AudioCoin\",\"IncaKoin\",\"Piggy Coin\",\"Crown Coin\",\"Genstake\",\"SmileyCoin\",\"XiaoMiCoin\",\"Groestlcoin\",\"CapriCoin\",\" ClubCoin\",\"Radium\",\"Bata\",\"Pakcoin\",\"Creditbit \",\"OKCash\",\"Lisk\",\"HiCoin\",\"WhiteCoin\",\"FriendshipCoin\",\"JoinCoin\",\"Triangles Coin\",\"Vollar\",\"EOS\",\"Reality Clash\",\"Oxycoin\",\"TigerCash\",\"Waves\",\"Particl\",\"BitTorrent\",\"Nxt\",\"ZEPHYR\",\"Gapcoin\",\"Beldex\",\"Horizen\",\"BitcoinPlus\"],\"ProofType\":[\"PoW/PoS\",\"PoW/PoS\",\"PoW/PoS\",\"PoW\",\"PoW\",\"PoW\",\"PoW/PoS\",\"PoW\",\"PoW\",\"PoW\",\"PoS\",\"PoW\",\"PoW/PoS\",\"PoS\",\"PoW\",\"PoW/PoS\",\"PoW\",\"PoW\",\"PoW/PoS\",\"PoW/PoS\",\"PoW\",\"PoW\",\"PoW\",\"PoW\",\"PoW\",\"PoW/PoS\",\"PoW\",\"PoW\",\"PoW\",\"PoW/PoS\",\"PoW\",\"PoW/PoS\",\"PoW\",\"PoW\",\"PoC\",\"PoW/PoS\",\"PoW\",\"PoW\",\"PoW\",\"PoW\",\"PoW\",\"PoW\",\"PoS\",\"PoS/PoW/PoT\",\"PoW\",\"PoW\",\"PoW\",\"PoW\",\"PoW\",\"PoW/PoS\",\"PoS\",\"PoW\",\"PoW/PoS\",\"PoW\",\"PoW\",\"PoW\",\"PoW\",\"PoW/PoS\",\"PoW\",\"PoW\",\"PoS\",\"PoW\",\"PoW/PoS\",\"PoS\",\"PoW/PoS\",\"PoW\",\"PoW\",\"PoW\",\"PoW/PoS\",\"PoW/PoS\",\"PoW/PoS\",\"PoW/PoS\",\"PoW/PoS\",\"PoW\",\"PoW\",\"PoW\",\"PoS\",\"PoW/PoS\",\"PoW\",\"PoS\",\"PoW\",\"PoS\",\"PoW/PoS\",\"PoW\",\"PoW\",\"PoW\",\"PoW\",\"PoW/PoS\",\"PoW/PoS\",\"PoW\",\"PoST\",\"PoW\",\"PoW\",\"PoW/PoS\",\"PoS\",\"PoW\",\"PoW/PoS\",\"PoW/PoS\",\"PoW\",\"PoW\",\"PoC\",\"PoS\",\"PoW\",\"PoW/PoS\",\"PoW/PoS\",\"PoW\",\"PoS\",\"PoW\",\"PoW/PoS\",\"PoW\",\"PoS\",\"PoW\",\"PoW/PoS\",\"PoW/PoS\",\"PoW\",\"PoW\",\"PoS\",\"PoW\",\"PoW\",\"PoW\",\"PoW/PoS\",\"PoW\",\"PoW\",\"PoW\",\"PoW\",\"PoW\",\"PoW/PoS\",\"PoW/nPoS\",\"PoW\",\"PoW\",\"PoW\",\"PoW/PoS\",\"PoW\",\"PoS/PoW\",\"PoW\",\"PoW\",\"PoS\",\"PoW\",\"PoW/PoS\",\"PoW\",\"PoW/PoS\",\"PoW/PoS\",\"PoW\",\"PoW\",\"PoW/PoS\",\"PoW\",\"PoW\",\"PoW/PoS\",\"PoW/PoS\",\"PoW\",\"PoW/PoS\",\"PoW\",\"PoW/PoS\",\"PoW/PoS\",\"PoS\",\"PoW\",\"PoW\",\"PoW\",\"PoW\",\"PoW/PoS\",\"PoS\",\"PoW/PoS\",\"PoC\",\"PoS\",\"PoW\",\"PoW\",\"PoW/PoS\",\"PoW/PoS\",\"PoW/PoS\",\"PoW/PoS\",\"PoW/PoS\",\"PoW\",\"PoS\",\"PoW/PoS\",\"PoW/PoS\",\"PoW/PoS\",\"PoS\",\"PoW\",\"PoS\",\"dPoW/PoW\",\"PoW/PoS\",\"PoW/PoS\",\"PoW\",\"PoW/PoS\",\"PoW\",\"PoW/PoS\",\"PoW/PoS\",\"PoW\",\"PoW/PoS\",\"PoW\",\"PoS\",\"PoW\",\"PoW/PoW\",\"PoW\",\"PoW/PoS\",\"PoS\",\"PoW/PoS\",\"PoW/PoS\",\"PoW\",\"PoS\",\"PoS\",\"PoW/PoS\",\"PoS\",\"PoW/PoS\",\"PoW\",\"PoW\",\"DPoS\",\"PoW/PoS\",\"PoW\",\"PoW\",\"PoW/PoS\",\"PoW/PoS\",\"PoS\",\"PoW/PoS\",\"PoW/PoS\",\"PoW\",\"PoS\",\"PoW/PoS\",\"PoW/PoS\",\"PoW/PoS\",\"TPoS\",\"PoW/PoS\",\"PoW/PoS\",\"PoW/PoS\",\"PoW\",\"PoW/PoS\",\"PoS\",\"PoW/PoS\",\"PoW/PoS\",\"PoS\",\"PoW/PoS\",\"PoW\",\"PoW\",\"PoW\",\"PoW/PoS\",\"PoW/PoS\",\"PoW/PoS\",\"PoW/PoS\",\"PoW\",\"PoW/PoS\",\"PoW\",\"PoS\",\"PoW/PoS \",\"PoW\",\"PoS\",\"PoW\",\"PoW\",\"PoW/PoS\",\"PoW\",\"PoW\",\"PoS\",\"PoW\",\"PoW/PoS\",\"PoW/PoS\",\"PoW/PoS\",\"PoW\",\"PoS\",\"PoW/PoS\",\"PoW\",\"PoS\",\"PoW/PoS\",\"PoW/PoS\",\"PoW/PoS\",\"PoW/PoS\",\"PoS\",\"PoW/PoS\",\"PoW\",\"PoS\",\"PoW\",\"PoS\",\"PoW/PoS\",\"PoW/PoS\",\"PoS\",\"PoW\",\"PoS\",\"PoW\",\"PoW/PoS\",\"PoW\",\"PoW\",\"PoW\",\"PoW\",\"PoW/PoS\",\"PoW\",\"PoW/PoS\",\"PoW/PoS\",\"PoW\",\"PoW/PoS\",\"PoW\",\"PoW\",\"PoW\",\"PoW/PoS\",\"PoW\",\"PoW/PoS\",\"PoW\",\"PoW\",\"PoW\",\"PoS\",\"PoW\",\"PoW/PoS\",\"PoW\",\"PoW/PoS\",\"PoS\",\"Proof of Authority\",\"PoW\",\"PoS\",\"PoW\",\"PoW\",\"PoW\",\"PoW\",\"PoW\",\"PoW/PoS\",\"PoW/PoS\",\"PoW\",\"PoS\",\"PoS\",\"PoW/PoS\",\"PoW\",\"PoW/PoS\",\"PoW\",\"PoW/PoS\",\"PoW\",\"PoS\",\"PoW\",\"PoW/PoS\",\"PoW/PoS\",\"PoW/PoS\",\"PoW/PoS\",\"PoW\",\"PoW/PoS\",\"PoW/PoS\",\"PoW\",\"PoS\",\"PoW/PoS\",\"PoS\",\"PoW\",\"PoW\",\"PoW\",\"PoW\",\"PoW/PoS\",\"DPoS\",\"PoW/PoS\",\"PoW/PoS\",\"PoW\",\"PoW/PoS\",\"PoW\",\"PoW\",\"PoW\",\"PoS\",\"PoS\",\"PoW\",\"PoW\",\"PoW/PoS\",\"PoW/PoS\",\"PoW\",\"PoW/PoS\",\"PoW\",\"PoW\",\"PoW\",\"PoS\",\"PoW\",\"PoW\",\"PoW/PoS\",\"PoW/PoS\",\"PoS\",\"PoW\",\"PoW\",\"PoW\",\"PoS\",\"PoS\",\"PoW and PoS\",\"PoW\",\"PoW\",\"PoW/PoS\",\"PoW\",\"PoW\",\"PoW\",\"PoW\",\"PoS\",\"POBh\",\"PoW + Hive\",\"PoW\",\"PoW\",\"PoW\",\"PoW/PoS\",\"PoA\",\"PoW/PoS\",\"PoW/PoS\",\"PoS\",\"PoS\",\"PoW\",\"PoW\",\"PoW\",\"PoW\",\"PoW/PoS\",\"PoW/PoS\",\"PoW/PoS\",\"PoW\",\"PoS\",\"PoW\",\"PoS\",\"PoS\",\"PoW/PoS\",\"DPoS\",\"PoW\",\"PoW/PoS\",\"PoS\",\"PoW\",\"PoS\",\"PoW/PoS\",\"PoW\",\"PoW\",\"PoS/PoW\",\"PoW\",\"PoS\",\"PoW\",\"PoW\",\"PoW\",\"PoW\",\"PoW/PoS\",\"PoS\",\"PoW\",\"PoW/PoS\",\"PoW\",\"PoW/PoS\",\"PoS\",\"HPoW\",\"PoS\",\"PoS\",\"PoS\",\"PoW\",\"PoW\",\"PoW\",\"PoW/PoS\",\"PoS\",\"PoW/PoS\",\"PoS\",\"PoW/PoS\",\"PoS\",\"PoW\",\"PoW/PoS\",\"PoW\",\"PoW\",\"PoW\",\"PoW\",\"PoS\",\"PoW/PoS\",\"PoS\",\"PoS\",\"PoW\",\"PoW/PoS\",\"PoS\",\"PoW\",\"PoW/PoS\",\"Zero-Knowledge Proof\",\"PoW\",\"DPOS\",\"PoW\",\"PoS\",\"PoW\",\"PoW\",\"Pos\",\"PoS\",\"PoW\",\"PoW/PoS\",\"PoW\",\"PoW\",\"PoS\",\"PoW\",\"PoW\",\"PoW/PoS\",\"PoW\",\"PoW/PoS\",\"PoW\",\"PoS\",\"PoW/PoS\",\"PoW\",\"PoS\",\"PoW/PoS\",\"PoW/PoS\",\"PoW/PoS\",\"PoW/PoS\",\"PoW\",\"PoW\",\"PoW\",\"PoW/PoS\",\"DPoS\",\"PoW/PoS\",\"PoW\",\"PoW/PoS\",\"PoW\",\"PoW/PoS\",\"PoW\",\"PoW/PoS\",\"PoS\",\"PoW/PoS\",\"PoW/PoS\",\"PoW\",\"PoW/PoS\",\"PoW/PoS\",\"PoW/PoS\",\"PoW\",\"PoW/PoS\",\"PoW\",\"PoW/PoS\",\"PoW\",\"PoW/PoS\",\"PoW/PoS\",\"PoS\",\"PoW\",\"PoW\",\"Proof of Trust\",\"PoW/PoS\",\"DPoS\",\"PoS\",\"PoW/PoS\",\"PoW/PoS\",\"PoW\",\"PoW/PoS\",\"PoW\",\"DPoS\",\"PoW\",\"DPoS\",\"PoS\",\"LPoS\",\"PoS\",\"DPoS\",\"PoS/LPoS\",\"DPoS\",\"PoW/PoS\",\"PoW\",\"PoW\",\"PoS\"],\"TotalCoinSupply\":{\"__ndarray__\":\"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\",\"dtype\":\"float64\",\"order\":\"little\",\"shape\":[532]},\"TotalCoinsMined\":{\"__ndarray__\":\"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\",\"dtype\":\"float64\",\"order\":\"little\",\"shape\":[532]},\"class\":{\"__ndarray__\":\"AAAAAAAAAAAAAAAAAgAAAAIAAAACAAAAAAAAAAIAAAACAAAAAgAAAAAAAAACAAAAAAAAAAAAAAACAAAAAAAAAAIAAAACAAAAAAAAAAAAAAACAAAAAgAAAAIAAAACAAAAAgAAAAAAAAACAAAAAgAAAAIAAAAAAAAAAgAAAAAAAAACAAAAAgAAAAAAAAAAAAAAAgAAAAIAAAACAAAAAgAAAAIAAAACAAAAAAAAAAAAAAACAAAAAgAAAAIAAAACAAAAAgAAAAAAAAAAAAAAAgAAAAAAAAACAAAAAgAAAAIAAAACAAAAAAAAAAIAAAACAAAAAAAAAAIAAAAAAAAAAAAAAAAAAAACAAAAAgAAAAIAAAAAAAAAAAAAAAAAAAAAAAAAAAAAAAIAAAACAAAAAgAAAAAAAAAAAAAAAgAAAAAAAAACAAAAAAAAAAAAAAACAAAAAgAAAAIAAAACAAAAAAAAAAAAAAACAAAAAAAAAAIAAAACAAAAAAAAAAAAAAACAAAAAAAAAAAAAAACAAAAAgAAAAAAAAAAAAAAAgAAAAAAAAAAAAAAAgAAAAAAAAACAAAAAAAAAAIAAAAAAAAAAgAAAAAAAAAAAAAAAgAAAAIAAAAAAAAAAgAAAAIAAAACAAAAAAAAAAIAAAACAAAAAgAAAAIAAAACAAAAAAAAAAAAAAACAAAAAgAAAAIAAAAAAAAAAgAAAAAAAAACAAAAAgAAAAAAAAACAAAAAAAAAAIAAAAAAAAAAAAAAAIAAAACAAAAAAAAAAIAAAACAAAAAAAAAAAAAAACAAAAAAAAAAIAAAAAAAAAAAAAAAAAAAACAAAAAgAAAAIAAAACAAAAAAAAAAAAAAAAAAAAAAAAAAAAAAACAAAAAgAAAAAAAAAAAAAAAAAAAAAAAAAAAAAAAgAAAAAAAAAAAAAAAAAAAAAAAAAAAAAAAgAAAAAAAAACAAAAAAAAAAAAAAACAAAAAAAAAAIAAAAAAAAAAAAAAAIAAAAAAAAAAgAAAAAAAAACAAAAAAAAAAIAAAAAAAAAAAAAAAAAAAAAAAAAAgAAAAAAAAAAAAAAAAAAAAAAAAAAAAAAAgAAAAIAAAAAAAAAAAAAAAIAAAACAAAAAAAAAAAAAAAAAAAAAAAAAAAAAAACAAAAAAAAAAAAAAAAAAAAAAAAAAAAAAAAAAAAAAAAAAAAAAACAAAAAAAAAAAAAAAAAAAAAAAAAAAAAAAAAAAAAgAAAAIAAAACAAAAAAAAAAAAAAAAAAAAAAAAAAIAAAAAAAAAAgAAAAAAAAAAAAAAAgAAAAAAAAACAAAAAgAAAAAAAAACAAAAAgAAAAAAAAACAAAAAAAAAAAAAAAAAAAAAgAAAAAAAAAAAAAAAgAAAAAAAAAAAAAAAAAAAAAAAAAAAAAAAAAAAAAAAAACAAAAAAAAAAIAAAAAAAAAAAAAAAAAAAAAAAAAAgAAAAAAAAACAAAAAAAAAAIAAAACAAAAAgAAAAIAAAAAAAAAAgAAAAAAAAAAAAAAAgAAAAAAAAACAAAAAgAAAAIAAAAAAAAAAgAAAAAAAAACAAAAAgAAAAIAAAAAAAAAAgAAAAAAAAACAAAAAAAAAAAAAAAAAAAAAgAAAAAAAAACAAAAAgAAAAIAAAACAAAAAgAAAAAAAAAAAAAAAgAAAAAAAAAAAAAAAAAAAAIAAAAAAAAAAgAAAAAAAAACAAAAAAAAAAIAAAAAAAAAAAAAAAAAAAAAAAAAAgAAAAAAAAAAAAAAAgAAAAAAAAAAAAAAAAAAAAIAAAACAAAAAgAAAAIAAAAAAAAAAAAAAAAAAAAAAAAAAgAAAAAAAAACAAAAAgAAAAIAAAAAAAAAAAAAAAIAAAACAAAAAAAAAAAAAAACAAAAAAAAAAIAAAACAAAAAgAAAAAAAAACAAAAAgAAAAAAAAAAAAAAAAAAAAIAAAACAAAAAgAAAAAAAAAAAAAAAAAAAAIAAAACAAAAAAAAAAIAAAACAAAAAgAAAAIAAAAAAAAAAAAAAAMAAAACAAAAAgAAAAIAAAAAAAAAAgAAAAAAAAAAAAAAAAAAAAAAAAACAAAAAgAAAAIAAAACAAAAAAAAAAAAAAAAAAAAAgAAAAAAAAACAAAAAAAAAAAAAAAAAAAAAAAAAAIAAAAAAAAAAAAAAAIAAAAAAAAAAAAAAAIAAAACAAAAAAAAAAIAAAAAAAAAAgAAAAIAAAACAAAAAgAAAAAAAAAAAAAAAgAAAAAAAAACAAAAAAAAAAAAAAAAAAAAAAAAAAAAAAAAAAAAAgAAAAIAAAACAAAAAAAAAAAAAAAAAAAAAAAAAAAAAAAAAAAAAgAAAAAAAAACAAAAAgAAAAIAAAACAAAAAAAAAAAAAAAAAAAAAAAAAAIAAAAAAAAAAAAAAAIAAAAAAAAAAAAAAAIAAAAAAAAAAgAAAAAAAAACAAAAAgAAAAAAAAAAAAAAAgAAAAAAAAACAAAAAgAAAAAAAAACAAAAAgAAAAAAAAACAAAAAAAAAAIAAAAAAAAAAAAAAAIAAAAAAAAAAAAAAAAAAAAAAAAAAAAAAAIAAAACAAAAAgAAAAAAAAAAAAAAAAAAAAIAAAAAAAAAAgAAAAAAAAACAAAAAAAAAAAAAAAAAAAAAAAAAAIAAAAAAAAAAAAAAAAAAAACAAAAAAAAAAIAAAAAAAAAAgAAAAAAAAAAAAAAAAAAAAIAAAACAAAAAAAAAAAAAAAAAAAAAAAAAAAAAAAAAAAAAgAAAAAAAAACAAAAAAAAAAIAAAAAAAAAAAAAAAMAAAAAAAAAAQAAAAAAAAAAAAAAAAAAAAIAAAACAAAAAAAAAA==\",\"dtype\":\"int32\",\"order\":\"little\",\"shape\":[532]}},\"selected\":{\"id\":\"1005\"},\"selection_policy\":{\"id\":\"1039\"}},\"id\":\"1004\",\"type\":\"ColumnDataSource\"},{\"attributes\":{\"editor\":{\"id\":\"1032\"},\"field\":\"class\",\"formatter\":{\"id\":\"1031\"},\"title\":\"class\"},\"id\":\"1033\",\"type\":\"TableColumn\"},{\"attributes\":{\"editor\":{\"id\":\"1022\"},\"field\":\"TotalCoinSupply\",\"formatter\":{\"id\":\"1021\"},\"title\":\"TotalCoinSupply\"},\"id\":\"1023\",\"type\":\"TableColumn\"},{\"attributes\":{},\"id\":\"1005\",\"type\":\"Selection\"},{\"attributes\":{\"editor\":{\"id\":\"1017\"},\"field\":\"ProofType\",\"formatter\":{\"id\":\"1016\"},\"title\":\"ProofType\"},\"id\":\"1018\",\"type\":\"TableColumn\"},{\"attributes\":{},\"id\":\"1006\",\"type\":\"StringFormatter\"},{\"attributes\":{},\"id\":\"1011\",\"type\":\"StringFormatter\"},{\"attributes\":{\"margin\":[5,5,5,5],\"name\":\"HSpacer01650\",\"sizing_mode\":\"stretch_width\"},\"id\":\"1003\",\"type\":\"Spacer\"}],\"root_ids\":[\"1002\"]},\"title\":\"Bokeh Application\",\"version\":\"2.4.1\"}};\n",
       "    var render_items = [{\"docid\":\"d097931c-0d15-4de1-8cd7-1087a192422c\",\"root_ids\":[\"1002\"],\"roots\":{\"1002\":\"aac6c8c4-4605-4903-8ffb-75a2e54ec8f2\"}}];\n",
       "    root.Bokeh.embed.embed_items_notebook(docs_json, render_items);\n",
       "  }\n",
       "  if (root.Bokeh !== undefined && root.Bokeh.Panel !== undefined) {\n",
       "    embed_document(root);\n",
       "  } else {\n",
       "    var attempts = 0;\n",
       "    var timer = setInterval(function(root) {\n",
       "      if (root.Bokeh !== undefined && root.Bokeh.Panel !== undefined) {\n",
       "        clearInterval(timer);\n",
       "        embed_document(root);\n",
       "      } else if (document.readyState == \"complete\") {\n",
       "        attempts++;\n",
       "        if (attempts > 200) {\n",
       "          clearInterval(timer);\n",
       "          console.log(\"Bokeh: ERROR: Unable to run BokehJS code because BokehJS library is missing\");\n",
       "        }\n",
       "      }\n",
       "    }, 25, root)\n",
       "  }\n",
       "})(window);</script>"
      ],
      "text/plain": [
       ":Table   [CoinName,Algorithm,ProofType,TotalCoinSupply,TotalCoinsMined,class]"
      ]
     },
     "execution_count": 244,
     "metadata": {
      "application/vnd.holoviews_exec.v0+json": {
       "id": "1002"
      }
     },
     "output_type": "execute_result"
    }
   ],
   "source": [
    "# Create a table with tradable cryptocurrencies.\n",
    "clustered_df.hvplot.table(columns=['CoinName','Algorithm','ProofType','TotalCoinSupply','TotalCoinsMined','class'], sortable=True, selectable=True)"
   ]
  },
  {
   "cell_type": "code",
   "execution_count": 245,
   "metadata": {},
   "outputs": [
    {
     "data": {
      "text/html": [
       "<div>\n",
       "<style scoped>\n",
       "    .dataframe tbody tr th:only-of-type {\n",
       "        vertical-align: middle;\n",
       "    }\n",
       "\n",
       "    .dataframe tbody tr th {\n",
       "        vertical-align: top;\n",
       "    }\n",
       "\n",
       "    .dataframe thead th {\n",
       "        text-align: right;\n",
       "    }\n",
       "</style>\n",
       "<table border=\"1\" class=\"dataframe\">\n",
       "  <thead>\n",
       "    <tr style=\"text-align: right;\">\n",
       "      <th></th>\n",
       "      <th>TotalCoinsMined</th>\n",
       "      <th>TotalCoinSupply</th>\n",
       "    </tr>\n",
       "  </thead>\n",
       "  <tbody>\n",
       "    <tr>\n",
       "      <th>42</th>\n",
       "      <td>4.199995e+01</td>\n",
       "      <td>4.200000e+01</td>\n",
       "    </tr>\n",
       "    <tr>\n",
       "      <th>404</th>\n",
       "      <td>1.055185e+09</td>\n",
       "      <td>5.320000e+08</td>\n",
       "    </tr>\n",
       "    <tr>\n",
       "      <th>1337</th>\n",
       "      <td>2.927942e+10</td>\n",
       "      <td>3.141590e+11</td>\n",
       "    </tr>\n",
       "    <tr>\n",
       "      <th>BTC</th>\n",
       "      <td>1.792718e+07</td>\n",
       "      <td>2.100000e+07</td>\n",
       "    </tr>\n",
       "    <tr>\n",
       "      <th>ETH</th>\n",
       "      <td>1.076842e+08</td>\n",
       "      <td>0.000000e+00</td>\n",
       "    </tr>\n",
       "  </tbody>\n",
       "</table>\n",
       "</div>"
      ],
      "text/plain": [
       "      TotalCoinsMined  TotalCoinSupply\n",
       "42       4.199995e+01     4.200000e+01\n",
       "404      1.055185e+09     5.320000e+08\n",
       "1337     2.927942e+10     3.141590e+11\n",
       "BTC      1.792718e+07     2.100000e+07\n",
       "ETH      1.076842e+08     0.000000e+00"
      ]
     },
     "execution_count": 245,
     "metadata": {},
     "output_type": "execute_result"
    }
   ],
   "source": [
    "# create scalable just coins dataframe\n",
    "crypto_trade=clustered_df[clustered_df.columns[2:4]]\n",
    "crypto_trade.head()"
   ]
  },
  {
   "cell_type": "code",
   "execution_count": 246,
   "metadata": {},
   "outputs": [
    {
     "name": "stdout",
     "output_type": "stream",
     "text": [
      "There are 532 tradeable cryptocurrencies.\n"
     ]
    }
   ],
   "source": [
    "# Print the total number of tradable cryptocurrencies.\n",
    "y=clustered_df[\"CoinName\"].count()\n",
    "print(f\"There are {y} tradeable cryptocurrencies.\")"
   ]
  },
  {
   "cell_type": "code",
   "execution_count": 260,
   "metadata": {},
   "outputs": [
    {
     "data": {
      "text/plain": [
       "array([[0.00000000e+00, 4.20000000e-11],\n",
       "       [1.06585514e-03, 5.32000000e-04],\n",
       "       [2.95755050e-02, 3.14159000e-01],\n",
       "       ...,\n",
       "       [9.90134792e-04, 1.40022261e-03],\n",
       "       [7.37027937e-06, 2.10000000e-05],\n",
       "       [1.29582244e-07, 1.00000000e-06]])"
      ]
     },
     "execution_count": 260,
     "metadata": {},
     "output_type": "execute_result"
    }
   ],
   "source": [
    "# Scaling data to create the scatter plot with tradable cryptocurrencies.\n",
    "# YOUR CODE HERE\n",
    "crypto_coins_scaled = MinMaxScaler().fit_transform(crypto_trade)\n",
    "crypto_coins_scaled"
   ]
  },
  {
   "cell_type": "code",
   "execution_count": 267,
   "metadata": {},
   "outputs": [
    {
     "data": {
      "text/html": [
       "<div>\n",
       "<style scoped>\n",
       "    .dataframe tbody tr th:only-of-type {\n",
       "        vertical-align: middle;\n",
       "    }\n",
       "\n",
       "    .dataframe tbody tr th {\n",
       "        vertical-align: top;\n",
       "    }\n",
       "\n",
       "    .dataframe thead th {\n",
       "        text-align: right;\n",
       "    }\n",
       "</style>\n",
       "<table border=\"1\" class=\"dataframe\">\n",
       "  <thead>\n",
       "    <tr style=\"text-align: right;\">\n",
       "      <th></th>\n",
       "      <th>Total_Coin_Supply_Scaled</th>\n",
       "      <th>Total_Coins_Mined_Scaled</th>\n",
       "      <th>CoinName</th>\n",
       "      <th>class</th>\n",
       "    </tr>\n",
       "  </thead>\n",
       "  <tbody>\n",
       "    <tr>\n",
       "      <th>42</th>\n",
       "      <td>4.200000e-11</td>\n",
       "      <td>0.000000</td>\n",
       "      <td>42 Coin</td>\n",
       "      <td>0</td>\n",
       "    </tr>\n",
       "    <tr>\n",
       "      <th>404</th>\n",
       "      <td>5.320000e-04</td>\n",
       "      <td>0.001066</td>\n",
       "      <td>404Coin</td>\n",
       "      <td>0</td>\n",
       "    </tr>\n",
       "    <tr>\n",
       "      <th>1337</th>\n",
       "      <td>3.141590e-01</td>\n",
       "      <td>0.029576</td>\n",
       "      <td>EliteCoin</td>\n",
       "      <td>0</td>\n",
       "    </tr>\n",
       "    <tr>\n",
       "      <th>BTC</th>\n",
       "      <td>2.100000e-05</td>\n",
       "      <td>0.000018</td>\n",
       "      <td>Bitcoin</td>\n",
       "      <td>2</td>\n",
       "    </tr>\n",
       "    <tr>\n",
       "      <th>ETH</th>\n",
       "      <td>0.000000e+00</td>\n",
       "      <td>0.000109</td>\n",
       "      <td>Ethereum</td>\n",
       "      <td>2</td>\n",
       "    </tr>\n",
       "    <tr>\n",
       "      <th>LTC</th>\n",
       "      <td>8.400000e-05</td>\n",
       "      <td>0.000064</td>\n",
       "      <td>Litecoin</td>\n",
       "      <td>2</td>\n",
       "    </tr>\n",
       "    <tr>\n",
       "      <th>DASH</th>\n",
       "      <td>2.200000e-05</td>\n",
       "      <td>0.000009</td>\n",
       "      <td>Dash</td>\n",
       "      <td>0</td>\n",
       "    </tr>\n",
       "    <tr>\n",
       "      <th>XMR</th>\n",
       "      <td>0.000000e+00</td>\n",
       "      <td>0.000017</td>\n",
       "      <td>Monero</td>\n",
       "      <td>2</td>\n",
       "    </tr>\n",
       "    <tr>\n",
       "      <th>ETC</th>\n",
       "      <td>2.100000e-04</td>\n",
       "      <td>0.000115</td>\n",
       "      <td>Ethereum Classic</td>\n",
       "      <td>2</td>\n",
       "    </tr>\n",
       "    <tr>\n",
       "      <th>ZEC</th>\n",
       "      <td>2.100000e-05</td>\n",
       "      <td>0.000007</td>\n",
       "      <td>ZCash</td>\n",
       "      <td>2</td>\n",
       "    </tr>\n",
       "  </tbody>\n",
       "</table>\n",
       "</div>"
      ],
      "text/plain": [
       "      Total_Coin_Supply_Scaled  Total_Coins_Mined_Scaled          CoinName  \\\n",
       "42                4.200000e-11                  0.000000           42 Coin   \n",
       "404               5.320000e-04                  0.001066           404Coin   \n",
       "1337              3.141590e-01                  0.029576         EliteCoin   \n",
       "BTC               2.100000e-05                  0.000018           Bitcoin   \n",
       "ETH               0.000000e+00                  0.000109          Ethereum   \n",
       "LTC               8.400000e-05                  0.000064          Litecoin   \n",
       "DASH              2.200000e-05                  0.000009              Dash   \n",
       "XMR               0.000000e+00                  0.000017            Monero   \n",
       "ETC               2.100000e-04                  0.000115  Ethereum Classic   \n",
       "ZEC               2.100000e-05                  0.000007             ZCash   \n",
       "\n",
       "      class  \n",
       "42        0  \n",
       "404       0  \n",
       "1337      0  \n",
       "BTC       2  \n",
       "ETH       2  \n",
       "LTC       2  \n",
       "DASH      0  \n",
       "XMR       2  \n",
       "ETC       2  \n",
       "ZEC       2  "
      ]
     },
     "execution_count": 267,
     "metadata": {},
     "output_type": "execute_result"
    }
   ],
   "source": [
    "# Create a new DataFrame that has the scaled data with the clustered_df DataFrame index.\n",
    "df_index2=(crypto_trade.index.tolist())\n",
    "crypto_coins_scaled_with_index=pd.DataFrame(\n",
    "    data=crypto_coins_scaled, columns=[\"Total_Coins_Mined_Scaled\", \"Total_Coin_Supply_Scaled\"], index = df_index2\n",
    ")\n",
    "crypto_coins_scaled_with_index.head()\n",
    "\n",
    "\n",
    "# Add the \"Class\" column from the clustered_df DataFrame to the new DataFrame. \n",
    "clustered_df2=pd.concat([crypto_df_join,crypto_coins_scaled_with_index],axis=1)\n",
    "clustered_df2\n",
    "\n",
    "\n",
    "# Add the \"CoinName\" column from the clustered_df DataFrame to the new DataFrame.\n",
    "clustered_df3=pd.concat([clustered_df2,name_df],axis=1)\n",
    "clustered_df3\n",
    "\n",
    "plot_df = clustered_df3.reindex(columns=['Total_Coin_Supply_Scaled','Total_Coins_Mined_Scaled','CoinName','class'])\n",
    "plot_df.head(10)"
   ]
  },
  {
   "cell_type": "code",
   "execution_count": 270,
   "metadata": {},
   "outputs": [
    {
     "data": {},
     "metadata": {},
     "output_type": "display_data"
    },
    {
     "data": {
      "application/vnd.holoviews_exec.v0+json": "",
      "text/html": [
       "<div id='1781'>\n",
       "\n",
       "\n",
       "\n",
       "\n",
       "\n",
       "  <div class=\"bk-root\" id=\"0b811fde-9af1-4fac-b419-84cd688096b4\" data-root-id=\"1781\"></div>\n",
       "</div>\n",
       "<script type=\"application/javascript\">(function(root) {\n",
       "  function embed_document(root) {\n",
       "    var docs_json = {\"112fa050-e196-4489-92ec-df2fb1771914\":{\"defs\":[{\"extends\":null,\"module\":null,\"name\":\"ReactiveHTML1\",\"overrides\":[],\"properties\":[]},{\"extends\":null,\"module\":null,\"name\":\"FlexBox1\",\"overrides\":[],\"properties\":[{\"default\":\"flex-start\",\"kind\":null,\"name\":\"align_content\"},{\"default\":\"flex-start\",\"kind\":null,\"name\":\"align_items\"},{\"default\":\"row\",\"kind\":null,\"name\":\"flex_direction\"},{\"default\":\"wrap\",\"kind\":null,\"name\":\"flex_wrap\"},{\"default\":\"flex-start\",\"kind\":null,\"name\":\"justify_content\"}]},{\"extends\":null,\"module\":null,\"name\":\"TemplateActions1\",\"overrides\":[],\"properties\":[{\"default\":0,\"kind\":null,\"name\":\"open_modal\"},{\"default\":0,\"kind\":null,\"name\":\"close_modal\"}]},{\"extends\":null,\"module\":null,\"name\":\"MaterialTemplateActions1\",\"overrides\":[],\"properties\":[{\"default\":0,\"kind\":null,\"name\":\"open_modal\"},{\"default\":0,\"kind\":null,\"name\":\"close_modal\"}]}],\"roots\":{\"references\":[{\"attributes\":{},\"id\":\"1821\",\"type\":\"AllLabels\"},{\"attributes\":{\"axis\":{\"id\":\"1802\"},\"coordinates\":null,\"dimension\":1,\"grid_line_color\":null,\"group\":null,\"ticker\":null},\"id\":\"1805\",\"type\":\"Grid\"},{\"attributes\":{\"data\":{\"Total_Coin_Supply_Scaled\":{\"__ndarray__\":\"ycfuAiUF9j4AAAAAAAAAAMnH7gIlBRY/AAAAAAAAAAC8eapDboYrP8nH7gIlBfY+Gy/dJAaBlT/Jx+4CJQX2PvBo44i1+PQ+je21oPfGED/8qfHSTWJgP/p+arx0k9g/ib6z/mRBJj/8qfHSTWIwPyxDHOviNho/M4gP7PgvMD/Jx+4CJQUWP7L2gSi7QAk/ycfuAiUF9j7wSz/Ze47rPj+rzJTW3/I+pFNXPsvzkD8bL90kBoGVP9nO91PjpYs/ycfuAiUF9j6QlH3NrqUzP43ttaD3xgA/VwJQYS6Q5z7Jx+4CJQU2P2DlR/V3Rlc/0vvG155ZEj+5x9OsU/ASP2+BBMWPMbc/ycfuAiUF9j4QhtqnBWUxP/Bo44i1+PQ+5TOPsjSmtj7Jx+4CJQUGPyxDHOviNio/8GjjiLX45D64HoXrUbiOP8nH7gIlBfY+t32P+usVNj/Jx+4CJQX2Pvyp8dJNYjA/SK+8mvLXCj8BiLt6FRlNP3lgr+vWpQg/ycfuAiUFBj/waOOItfgUP43ttaD3xpA+AAAAAAAAAAB7hQX3Ax74PsnH7gIlBRY/EIbapwVlMT8O1v85zJcHP0p6GFqdnMc/exSuR+F6hD/wSz/Ze44bP7x5qkNuhls/W/Vl2/zOJT9a1mVHlgvGPvBo44i1+CQ//Knx0k1iUD/8qfHSTWJQPwAAAAAAAAAAAAAAAAAAAADehccd5EfMPnsUrkfheoQ/2ubG9IQlXj/k2j6HRsmkPsnH7gIlBfY+WmQ730+Ntz/6nLtdL00BP5RCuSEIPxE/DLjfiIsvDD/Jx+4CJQX2PvBLP9l7jis//Knx0k1iMD+vYF3BRrrxPgAAAAAAAAAAje21oPfG8D7Jx+4CJQX2Prx5qkNuhis/NqDyJ2J8FT/Jx+4CJQUWP4EoVhUzJZY/ycfuAiUFFj9pHVVNEHX/PtZqzafuECY/VOQQcXMq+T7waOOItfj0PixDHOviNvo+NvzifD+vpD4sQxzr4jb6PixDHOviNio/8GjjiLX45D6GKKim+WrkPmEyVTAqqVM/LEMc6+I2Kj8FUDmLZE/mPmkdVU0Qdf8+hrpZzYRw9j5ocXvtfnr7PsnH7gIlBfY+exSuR+F6hD/8qfHSTWJAPyMPRBZp4i0/ycfuAiUF9j5nalGC4sTGPixDHOviNvo+7jW0ZbX45D6ZmZmZmZm5P1bxRuaRPyg/DLjfiIsvzD78qfHSTWJQP2ZMwRpn0/E+LEMc6+I2Gj/Jx+4CJQX2PhFxfE4eu8I+/Knx0k1icD/K8IEYRkwJP4YGlqZ3nwI/exSuR+F6ZD8/q8yU1t8SP7x5qkNuhhs/AAAAAAAAAAA1Xz6j/Uw2P2kdVU0Qdf8+/Knx0k1iYD8sQxzr4jYaP0Tl8JuTNvQ+YTJVMCqpEz9pHVVNEHUPP2hNPRxu0fM+3gAz38FPDD/Jx+4CJQX2PpmZmZmZmck/exSuR+F6dD8vbqMBvAVSP8nH7gIlBfY+Gy/dJAaBhT8AAAAAAAAAAPBo44i1+PQ+ycfuAiUFFj8sQxzr4jYaPyxDHOviNho/YIu+dztNFz8bL90kBoGVP5LLf0i/fV0/3gAz38FP/D7Jx+4CJQX2PgfnNJzIfCQ/LEMc6+I2Gj/HuriNBvA2Pw7W/znMlwc/0vvG155ZMj/eMBuuH6wAPziEKjV7oEU/wvUoXI/CtT8sQxzr4jbqPnsUrkfheoQ/L26jAbwFQj8ytSUbIWBQP+F8nEfhenQ/CtejcD0Ktz+S762jBcP0PsnH7gIlBfY+/Knx0k1iQD+N7bWg98YQP3uFBfcDHvg+rY3F90Ql9T57hQX3Ax74PgAAAAAAAPA/qVlWUAdo8T7Jx+4CJQU2P3sUrkfheoQ/LEMc6+I2Gj8vbqMBvAVSP/Bo44i1+AQ/D0a5gUfZkj/8qfHSTWJAP4RaKOGWizA/ObTIdr6fej/8qfHSTWJQP8nH7gIlBfY+LEMc6+I2+j7S+8bXnlkSP2EyVTAqqTM/LEMc6+I2Gj/8nTdfNkvzPsnH7gIlBfY+8Es/2XuO+z4/q8yU1t/yPsnH7gIlBeY+PDcbTSupQz9hMlUwKqkjP1pkO99Pjcc/ycfuAiUFJj/8qfHSTWJQP1/xdY3mJfc+ycfuAiUF9j7Jx+4CJQX2PhC6QRvWLfc+eekmMQisXD8twS+PQR4XP7x5qkNuhis/W+uLhLacxz8VjErqBDRhPyxDHOviNvo+LEMc6+I2Gj/FjzF3LSF/P8nH7gIlBRY/ycfuAiUF9j7OcAM+P4yAP3eOZ997jhs/OAFH7010+j7Jx+4CJQX2PmkdVU0QdR8/do/HZw05MT+KexXhcjEAPyxDHOviNho/je21oPfGED8H04s1t53BPsnH7gIlBSY/WtO84xQduT/8qfHSTWJwP3npJjEIrHw//Knx0k1iUD/Jx+4CJQUGP5mZmZmZmak/vHmqQ26GGz/waOOItfjUPsWtghjo2ic/XxllR/R8xz4VjErqBDRhPzZ4sbJurfk++d5KlPXwVj/Jx+4CJQX2Pg==\",\"dtype\":\"float64\",\"order\":\"little\",\"shape\":[239]},\"Total_Coins_Mined_Scaled\":{\"__ndarray__\":\"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\",\"dtype\":\"float64\",\"order\":\"little\",\"shape\":[239]},\"class\":{\"__ndarray__\":\"AgAAAAIAAAACAAAAAgAAAAIAAAACAAAAAgAAAAIAAAACAAAAAgAAAAIAAAACAAAAAgAAAAIAAAACAAAAAgAAAAIAAAACAAAAAgAAAAIAAAACAAAAAgAAAAIAAAACAAAAAgAAAAIAAAACAAAAAgAAAAIAAAACAAAAAgAAAAIAAAACAAAAAgAAAAIAAAACAAAAAgAAAAIAAAACAAAAAgAAAAIAAAACAAAAAgAAAAIAAAACAAAAAgAAAAIAAAACAAAAAgAAAAIAAAACAAAAAgAAAAIAAAACAAAAAgAAAAIAAAACAAAAAgAAAAIAAAACAAAAAgAAAAIAAAACAAAAAgAAAAIAAAACAAAAAgAAAAIAAAACAAAAAgAAAAIAAAACAAAAAgAAAAIAAAACAAAAAgAAAAIAAAACAAAAAgAAAAIAAAACAAAAAgAAAAIAAAACAAAAAgAAAAIAAAACAAAAAgAAAAIAAAACAAAAAgAAAAIAAAACAAAAAgAAAAIAAAACAAAAAgAAAAIAAAACAAAAAgAAAAIAAAACAAAAAgAAAAIAAAACAAAAAgAAAAIAAAACAAAAAgAAAAIAAAACAAAAAgAAAAIAAAACAAAAAgAAAAIAAAACAAAAAgAAAAIAAAACAAAAAgAAAAIAAAACAAAAAgAAAAIAAAACAAAAAgAAAAIAAAACAAAAAgAAAAIAAAACAAAAAgAAAAIAAAACAAAAAgAAAAIAAAACAAAAAgAAAAIAAAACAAAAAgAAAAIAAAACAAAAAgAAAAIAAAACAAAAAgAAAAIAAAACAAAAAgAAAAIAAAACAAAAAgAAAAIAAAACAAAAAgAAAAIAAAACAAAAAgAAAAIAAAACAAAAAgAAAAIAAAACAAAAAgAAAAIAAAACAAAAAgAAAAIAAAACAAAAAgAAAAIAAAACAAAAAgAAAAIAAAACAAAAAgAAAAIAAAACAAAAAgAAAAIAAAACAAAAAgAAAAIAAAACAAAAAgAAAAIAAAACAAAAAgAAAAIAAAACAAAAAgAAAAIAAAACAAAAAgAAAAIAAAACAAAAAgAAAAIAAAACAAAAAgAAAAIAAAACAAAAAgAAAAIAAAACAAAAAgAAAAIAAAACAAAAAgAAAAIAAAACAAAAAgAAAAIAAAACAAAAAgAAAAIAAAACAAAAAgAAAAIAAAACAAAAAgAAAAIAAAACAAAAAgAAAAIAAAACAAAAAgAAAAIAAAACAAAAAgAAAAIAAAACAAAAAgAAAAIAAAACAAAAAgAAAAIAAAA=\",\"dtype\":\"int32\",\"order\":\"little\",\"shape\":[239]}},\"selected\":{\"id\":\"1869\"},\"selection_policy\":{\"id\":\"1887\"}},\"id\":\"1868\",\"type\":\"ColumnDataSource\"},{\"attributes\":{},\"id\":\"1807\",\"type\":\"PanTool\"},{\"attributes\":{\"fill_color\":{\"value\":\"#30a2da\"},\"hatch_color\":{\"value\":\"#30a2da\"},\"line_color\":{\"value\":\"#30a2da\"},\"size\":{\"value\":5.477225575051661},\"x\":{\"field\":\"Total_Coins_Mined_Scaled\"},\"y\":{\"field\":\"Total_Coin_Supply_Scaled\"}},\"id\":\"1828\",\"type\":\"Scatter\"},{\"attributes\":{\"fill_alpha\":{\"value\":0.1},\"fill_color\":{\"value\":\"#fc4f30\"},\"hatch_alpha\":{\"value\":0.1},\"hatch_color\":{\"value\":\"#fc4f30\"},\"line_alpha\":{\"value\":0.1},\"line_color\":{\"value\":\"#fc4f30\"},\"size\":{\"value\":5.477225575051661},\"x\":{\"field\":\"Total_Coins_Mined_Scaled\"},\"y\":{\"field\":\"Total_Coin_Supply_Scaled\"}},\"id\":\"1850\",\"type\":\"Scatter\"},{\"attributes\":{\"overlay\":{\"id\":\"1811\"}},\"id\":\"1809\",\"type\":\"BoxZoomTool\"},{\"attributes\":{},\"id\":\"1847\",\"type\":\"Selection\"},{\"attributes\":{\"margin\":[5,5,5,5],\"name\":\"HSpacer03404\",\"sizing_mode\":\"stretch_width\"},\"id\":\"1782\",\"type\":\"Spacer\"},{\"attributes\":{\"data\":{\"Total_Coin_Supply_Scaled\":{\"__ndarray__\":\"rkfhehSu7z8=\",\"dtype\":\"float64\",\"order\":\"little\",\"shape\":[1]},\"Total_Coins_Mined_Scaled\":{\"__ndarray__\":\"AAAAAAAA8D8=\",\"dtype\":\"float64\",\"order\":\"little\",\"shape\":[1]},\"class\":{\"__ndarray__\":\"AQAAAA==\",\"dtype\":\"int32\",\"order\":\"little\",\"shape\":[1]}},\"selected\":{\"id\":\"1847\"},\"selection_policy\":{\"id\":\"1863\"}},\"id\":\"1846\",\"type\":\"ColumnDataSource\"},{\"attributes\":{\"fill_color\":{\"value\":\"#6d904f\"},\"hatch_color\":{\"value\":\"#6d904f\"},\"line_color\":{\"value\":\"#6d904f\"},\"size\":{\"value\":5.477225575051661},\"x\":{\"field\":\"Total_Coins_Mined_Scaled\"},\"y\":{\"field\":\"Total_Coin_Supply_Scaled\"}},\"id\":\"1895\",\"type\":\"Scatter\"},{\"attributes\":{},\"id\":\"1794\",\"type\":\"LinearScale\"},{\"attributes\":{\"data\":{\"Total_Coin_Supply_Scaled\":{\"__ndarray__\":\"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\",\"dtype\":\"float64\",\"order\":\"little\",\"shape\":[290]},\"Total_Coins_Mined_Scaled\":{\"__ndarray__\":\"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\",\"dtype\":\"float64\",\"order\":\"little\",\"shape\":[290]},\"class\":{\"__ndarray__\":\"AAAAAAAAAAAAAAAAAAAAAAAAAAAAAAAAAAAAAAAAAAAAAAAAAAAAAAAAAAAAAAAAAAAAAAAAAAAAAAAAAAAAAAAAAAAAAAAAAAAAAAAAAAAAAAAAAAAAAAAAAAAAAAAAAAAAAAAAAAAAAAAAAAAAAAAAAAAAAAAAAAAAAAAAAAAAAAAAAAAAAAAAAAAAAAAAAAAAAAAAAAAAAAAAAAAAAAAAAAAAAAAAAAAAAAAAAAAAAAAAAAAAAAAAAAAAAAAAAAAAAAAAAAAAAAAAAAAAAAAAAAAAAAAAAAAAAAAAAAAAAAAAAAAAAAAAAAAAAAAAAAAAAAAAAAAAAAAAAAAAAAAAAAAAAAAAAAAAAAAAAAAAAAAAAAAAAAAAAAAAAAAAAAAAAAAAAAAAAAAAAAAAAAAAAAAAAAAAAAAAAAAAAAAAAAAAAAAAAAAAAAAAAAAAAAAAAAAAAAAAAAAAAAAAAAAAAAAAAAAAAAAAAAAAAAAAAAAAAAAAAAAAAAAAAAAAAAAAAAAAAAAAAAAAAAAAAAAAAAAAAAAAAAAAAAAAAAAAAAAAAAAAAAAAAAAAAAAAAAAAAAAAAAAAAAAAAAAAAAAAAAAAAAAAAAAAAAAAAAAAAAAAAAAAAAAAAAAAAAAAAAAAAAAAAAAAAAAAAAAAAAAAAAAAAAAAAAAAAAAAAAAAAAAAAAAAAAAAAAAAAAAAAAAAAAAAAAAAAAAAAAAAAAAAAAAAAAAAAAAAAAAAAAAAAAAAAAAAAAAAAAAAAAAAAAAAAAAAAAAAAAAAAAAAAAAAAAAAAAAAAAAAAAAAAAAAAAAAAAAAAAAAAAAAAAAAAAAAAAAAAAAAAAAAAAAAAAAAAAAAAAAAAAAAAAAAAAAAAAAAAAAAAAAAAAAAAAAAAAAAAAAAAAAAAAAAAAAAAAAAAAAAAAAAAAAAAAAAAAAAAAAAAAAAAAAAAAAAAAAAAAAAAAAAAAAAAAAAAAAAAAAAAAAAAAAAAAAAAAAAAAAAAAAAAAAAAAAAAAAAAAAAAAAAAAAAAAAAAAAAAAAAAAAAAAAAAAAAAAAAAAAAAAAAAAAAAAAAAAAAAAAAAAAAAAAAAAAAAAAAAAAAAAAAAAAAAAAAAAAAAAAAAAAAAAAAAAAAAAAAAAAAAAAAAAAAAAAAAAAAAAAAAAAAAAAAAAAAAAAAAAAAAAAAAAAAAAAAAAAAAAAAAAAAAAAAAAAAAAAAAAAAAAAAAAAAAAAAAAAAAAAAAAAAAAAAAAAAAAAAAAAAAAAAAAAAAAAAAAAAAAAAAAAAAAAAAAAAAAAAAAAAAAAAAAAAAAAAAAAAAAAAAAAAAAAAAAAAAAAAAAAAAAAAAAAAAAAAAAAAAAAAAAAAAAAAAAAAAAAAAAAAAAAAAAAAAAAAAAAAAAAAAAAAAAAAAAAAAAAAAAAAAAAAAAAAAAAAAAAAAAAAAAAAAAAAAAAAAAAAAAAAAAAAAAAAAAAAAAAAAAAAAAAAAAAAAAAAAAAAAAAAAAAAAAAAAAAAAAAAAAAAAAAAAAAAAAAAAAAAAAAAAAA=\",\"dtype\":\"int32\",\"order\":\"little\",\"shape\":[290]}},\"selected\":{\"id\":\"1826\"},\"selection_policy\":{\"id\":\"1840\"}},\"id\":\"1825\",\"type\":\"ColumnDataSource\"},{\"attributes\":{\"fill_color\":{\"value\":\"#fc4f30\"},\"hatch_color\":{\"value\":\"#fc4f30\"},\"line_color\":{\"value\":\"#fc4f30\"},\"size\":{\"value\":5.477225575051661},\"x\":{\"field\":\"Total_Coins_Mined_Scaled\"},\"y\":{\"field\":\"Total_Coin_Supply_Scaled\"}},\"id\":\"1849\",\"type\":\"Scatter\"},{\"attributes\":{},\"id\":\"1824\",\"type\":\"AllLabels\"},{\"attributes\":{\"fill_alpha\":{\"value\":0.1},\"fill_color\":{\"value\":\"#e5ae38\"},\"hatch_alpha\":{\"value\":0.1},\"hatch_color\":{\"value\":\"#e5ae38\"},\"line_alpha\":{\"value\":0.1},\"line_color\":{\"value\":\"#e5ae38\"},\"size\":{\"value\":5.477225575051661},\"x\":{\"field\":\"Total_Coins_Mined_Scaled\"},\"y\":{\"field\":\"Total_Coin_Supply_Scaled\"}},\"id\":\"1872\",\"type\":\"Scatter\"},{\"attributes\":{},\"id\":\"1820\",\"type\":\"BasicTickFormatter\"},{\"attributes\":{},\"id\":\"1887\",\"type\":\"UnionRenderers\"},{\"attributes\":{},\"id\":\"1893\",\"type\":\"Selection\"},{\"attributes\":{\"bottom_units\":\"screen\",\"coordinates\":null,\"fill_alpha\":0.5,\"fill_color\":\"lightgrey\",\"group\":null,\"left_units\":\"screen\",\"level\":\"overlay\",\"line_alpha\":1.0,\"line_color\":\"black\",\"line_dash\":[4,4],\"line_width\":2,\"right_units\":\"screen\",\"syncable\":false,\"top_units\":\"screen\"},\"id\":\"1811\",\"type\":\"BoxAnnotation\"},{\"attributes\":{\"axis_label\":\"Total_Coins_Mined_Scaled\",\"coordinates\":null,\"formatter\":{\"id\":\"1820\"},\"group\":null,\"major_label_policy\":{\"id\":\"1821\"},\"ticker\":{\"id\":\"1799\"}},\"id\":\"1798\",\"type\":\"LinearAxis\"},{\"attributes\":{\"fill_alpha\":{\"value\":0.2},\"fill_color\":{\"value\":\"#30a2da\"},\"hatch_alpha\":{\"value\":0.2},\"hatch_color\":{\"value\":\"#30a2da\"},\"line_alpha\":{\"value\":0.2},\"line_color\":{\"value\":\"#30a2da\"},\"size\":{\"value\":5.477225575051661},\"x\":{\"field\":\"Total_Coins_Mined_Scaled\"},\"y\":{\"field\":\"Total_Coin_Supply_Scaled\"}},\"id\":\"1830\",\"type\":\"Scatter\"},{\"attributes\":{\"label\":{\"value\":\"3\"},\"renderers\":[{\"id\":\"1898\"}]},\"id\":\"1916\",\"type\":\"LegendItem\"},{\"attributes\":{\"end\":1.042857142857143,\"reset_end\":1.042857142857143,\"reset_start\":-0.04285714285714286,\"start\":-0.04285714285714286,\"tags\":[[[\"Total_Coins_Mined_Scaled\",\"Total_Coins_Mined_Scaled\",null]]]},\"id\":\"1783\",\"type\":\"Range1d\"},{\"attributes\":{\"angle\":{\"value\":0.0},\"fill_alpha\":{\"value\":1.0},\"fill_color\":{\"value\":\"#30a2da\"},\"hatch_alpha\":{\"value\":1.0},\"hatch_color\":{\"value\":\"#30a2da\"},\"hatch_scale\":{\"value\":12.0},\"hatch_weight\":{\"value\":1.0},\"line_alpha\":{\"value\":1.0},\"line_cap\":{\"value\":\"butt\"},\"line_color\":{\"value\":\"#30a2da\"},\"line_dash\":{\"value\":[]},\"line_dash_offset\":{\"value\":0},\"line_join\":{\"value\":\"bevel\"},\"line_width\":{\"value\":1},\"marker\":{\"value\":\"circle\"},\"size\":{\"value\":5.477225575051661},\"x\":{\"field\":\"Total_Coins_Mined_Scaled\"},\"y\":{\"field\":\"Total_Coin_Supply_Scaled\"}},\"id\":\"1845\",\"type\":\"Scatter\"},{\"attributes\":{\"source\":{\"id\":\"1846\"}},\"id\":\"1853\",\"type\":\"CDSView\"},{\"attributes\":{\"coordinates\":null,\"data_source\":{\"id\":\"1846\"},\"glyph\":{\"id\":\"1849\"},\"group\":null,\"hover_glyph\":null,\"muted_glyph\":{\"id\":\"1851\"},\"nonselection_glyph\":{\"id\":\"1850\"},\"selection_glyph\":{\"id\":\"1867\"},\"view\":{\"id\":\"1853\"}},\"id\":\"1852\",\"type\":\"GlyphRenderer\"},{\"attributes\":{\"angle\":{\"value\":0.0},\"fill_alpha\":{\"value\":1.0},\"fill_color\":{\"value\":\"#6d904f\"},\"hatch_alpha\":{\"value\":1.0},\"hatch_color\":{\"value\":\"#6d904f\"},\"hatch_scale\":{\"value\":12.0},\"hatch_weight\":{\"value\":1.0},\"line_alpha\":{\"value\":1.0},\"line_cap\":{\"value\":\"butt\"},\"line_color\":{\"value\":\"#6d904f\"},\"line_dash\":{\"value\":[]},\"line_dash_offset\":{\"value\":0},\"line_join\":{\"value\":\"bevel\"},\"line_width\":{\"value\":1},\"marker\":{\"value\":\"circle\"},\"size\":{\"value\":5.477225575051661},\"x\":{\"field\":\"Total_Coins_Mined_Scaled\"},\"y\":{\"field\":\"Total_Coin_Supply_Scaled\"}},\"id\":\"1917\",\"type\":\"Scatter\"},{\"attributes\":{\"data\":{\"Total_Coin_Supply_Scaled\":{\"__ndarray__\":\"vHmqQ26GSz8sQxzr4jYaPw==\",\"dtype\":\"float64\",\"order\":\"little\",\"shape\":[2]},\"Total_Coins_Mined_Scaled\":{\"__ndarray__\":\"2kYnjEohRT/roebfvnoaPw==\",\"dtype\":\"float64\",\"order\":\"little\",\"shape\":[2]},\"class\":{\"__ndarray__\":\"AwAAAAMAAAA=\",\"dtype\":\"int32\",\"order\":\"little\",\"shape\":[2]}},\"selected\":{\"id\":\"1893\"},\"selection_policy\":{\"id\":\"1913\"}},\"id\":\"1892\",\"type\":\"ColumnDataSource\"},{\"attributes\":{},\"id\":\"1803\",\"type\":\"BasicTicker\"},{\"attributes\":{},\"id\":\"1796\",\"type\":\"LinearScale\"},{\"attributes\":{\"coordinates\":null,\"data_source\":{\"id\":\"1892\"},\"glyph\":{\"id\":\"1895\"},\"group\":null,\"hover_glyph\":null,\"muted_glyph\":{\"id\":\"1897\"},\"nonselection_glyph\":{\"id\":\"1896\"},\"selection_glyph\":{\"id\":\"1917\"},\"view\":{\"id\":\"1899\"}},\"id\":\"1898\",\"type\":\"GlyphRenderer\"},{\"attributes\":{},\"id\":\"1840\",\"type\":\"UnionRenderers\"},{\"attributes\":{\"coordinates\":null,\"data_source\":{\"id\":\"1825\"},\"glyph\":{\"id\":\"1828\"},\"group\":null,\"hover_glyph\":null,\"muted_glyph\":{\"id\":\"1830\"},\"nonselection_glyph\":{\"id\":\"1829\"},\"selection_glyph\":{\"id\":\"1845\"},\"view\":{\"id\":\"1832\"}},\"id\":\"1831\",\"type\":\"GlyphRenderer\"},{\"attributes\":{\"source\":{\"id\":\"1825\"}},\"id\":\"1832\",\"type\":\"CDSView\"},{\"attributes\":{\"callback\":null,\"renderers\":[{\"id\":\"1831\"},{\"id\":\"1852\"},{\"id\":\"1874\"},{\"id\":\"1898\"}],\"tags\":[\"hv_created\"],\"tooltips\":[[\"class\",\"@{class}\"],[\"Total_Coins_Mined_Scaled\",\"@{Total_Coins_Mined_Scaled}\"],[\"Total_Coin_Supply_Scaled\",\"@{Total_Coin_Supply_Scaled}\"]]},\"id\":\"1785\",\"type\":\"HoverTool\"},{\"attributes\":{\"fill_alpha\":{\"value\":0.1},\"fill_color\":{\"value\":\"#6d904f\"},\"hatch_alpha\":{\"value\":0.1},\"hatch_color\":{\"value\":\"#6d904f\"},\"line_alpha\":{\"value\":0.1},\"line_color\":{\"value\":\"#6d904f\"},\"size\":{\"value\":5.477225575051661},\"x\":{\"field\":\"Total_Coins_Mined_Scaled\"},\"y\":{\"field\":\"Total_Coin_Supply_Scaled\"}},\"id\":\"1896\",\"type\":\"Scatter\"},{\"attributes\":{\"coordinates\":null,\"group\":null,\"text_color\":\"black\",\"text_font_size\":\"12pt\"},\"id\":\"1790\",\"type\":\"Title\"},{\"attributes\":{},\"id\":\"1823\",\"type\":\"BasicTickFormatter\"},{\"attributes\":{},\"id\":\"1913\",\"type\":\"UnionRenderers\"},{\"attributes\":{\"tools\":[{\"id\":\"1785\"},{\"id\":\"1806\"},{\"id\":\"1807\"},{\"id\":\"1808\"},{\"id\":\"1809\"},{\"id\":\"1810\"}]},\"id\":\"1812\",\"type\":\"Toolbar\"},{\"attributes\":{},\"id\":\"1806\",\"type\":\"SaveTool\"},{\"attributes\":{},\"id\":\"1863\",\"type\":\"UnionRenderers\"},{\"attributes\":{\"children\":[{\"id\":\"1782\"},{\"id\":\"1789\"},{\"id\":\"2062\"}],\"margin\":[0,0,0,0],\"name\":\"Row03400\",\"tags\":[\"embedded\"]},\"id\":\"1781\",\"type\":\"Row\"},{\"attributes\":{\"coordinates\":null,\"data_source\":{\"id\":\"1868\"},\"glyph\":{\"id\":\"1871\"},\"group\":null,\"hover_glyph\":null,\"muted_glyph\":{\"id\":\"1873\"},\"nonselection_glyph\":{\"id\":\"1872\"},\"selection_glyph\":{\"id\":\"1891\"},\"view\":{\"id\":\"1875\"}},\"id\":\"1874\",\"type\":\"GlyphRenderer\"},{\"attributes\":{\"below\":[{\"id\":\"1798\"}],\"center\":[{\"id\":\"1801\"},{\"id\":\"1805\"}],\"height\":300,\"left\":[{\"id\":\"1802\"}],\"margin\":[5,5,5,5],\"min_border_bottom\":10,\"min_border_left\":10,\"min_border_right\":10,\"min_border_top\":10,\"renderers\":[{\"id\":\"1831\"},{\"id\":\"1852\"},{\"id\":\"1874\"},{\"id\":\"1898\"}],\"right\":[{\"id\":\"1843\"}],\"sizing_mode\":\"fixed\",\"title\":{\"id\":\"1790\"},\"toolbar\":{\"id\":\"1812\"},\"width\":700,\"x_range\":{\"id\":\"1783\"},\"x_scale\":{\"id\":\"1794\"},\"y_range\":{\"id\":\"1784\"},\"y_scale\":{\"id\":\"1796\"}},\"id\":\"1789\",\"subtype\":\"Figure\",\"type\":\"Plot\"},{\"attributes\":{\"angle\":{\"value\":0.0},\"fill_alpha\":{\"value\":1.0},\"fill_color\":{\"value\":\"#e5ae38\"},\"hatch_alpha\":{\"value\":1.0},\"hatch_color\":{\"value\":\"#e5ae38\"},\"hatch_scale\":{\"value\":12.0},\"hatch_weight\":{\"value\":1.0},\"line_alpha\":{\"value\":1.0},\"line_cap\":{\"value\":\"butt\"},\"line_color\":{\"value\":\"#e5ae38\"},\"line_dash\":{\"value\":[]},\"line_dash_offset\":{\"value\":0},\"line_join\":{\"value\":\"bevel\"},\"line_width\":{\"value\":1},\"marker\":{\"value\":\"circle\"},\"size\":{\"value\":5.477225575051661},\"x\":{\"field\":\"Total_Coins_Mined_Scaled\"},\"y\":{\"field\":\"Total_Coin_Supply_Scaled\"}},\"id\":\"1891\",\"type\":\"Scatter\"},{\"attributes\":{},\"id\":\"1808\",\"type\":\"WheelZoomTool\"},{\"attributes\":{\"axis_label\":\"Total_Coin_Supply_Scaled\",\"coordinates\":null,\"formatter\":{\"id\":\"1823\"},\"group\":null,\"major_label_policy\":{\"id\":\"1824\"},\"ticker\":{\"id\":\"1803\"}},\"id\":\"1802\",\"type\":\"LinearAxis\"},{\"attributes\":{\"label\":{\"value\":\"0\"},\"renderers\":[{\"id\":\"1831\"}]},\"id\":\"1844\",\"type\":\"LegendItem\"},{\"attributes\":{\"fill_color\":{\"value\":\"#e5ae38\"},\"hatch_color\":{\"value\":\"#e5ae38\"},\"line_color\":{\"value\":\"#e5ae38\"},\"size\":{\"value\":5.477225575051661},\"x\":{\"field\":\"Total_Coins_Mined_Scaled\"},\"y\":{\"field\":\"Total_Coin_Supply_Scaled\"}},\"id\":\"1871\",\"type\":\"Scatter\"},{\"attributes\":{\"label\":{\"value\":\"1\"},\"renderers\":[{\"id\":\"1852\"}]},\"id\":\"1866\",\"type\":\"LegendItem\"},{\"attributes\":{\"source\":{\"id\":\"1892\"}},\"id\":\"1899\",\"type\":\"CDSView\"},{\"attributes\":{\"axis\":{\"id\":\"1798\"},\"coordinates\":null,\"grid_line_color\":null,\"group\":null,\"ticker\":null},\"id\":\"1801\",\"type\":\"Grid\"},{\"attributes\":{\"end\":1.1,\"reset_end\":1.1,\"reset_start\":-0.1,\"start\":-0.1,\"tags\":[[[\"Total_Coin_Supply_Scaled\",\"Total_Coin_Supply_Scaled\",null]]]},\"id\":\"1784\",\"type\":\"Range1d\"},{\"attributes\":{\"fill_alpha\":{\"value\":0.2},\"fill_color\":{\"value\":\"#6d904f\"},\"hatch_alpha\":{\"value\":0.2},\"hatch_color\":{\"value\":\"#6d904f\"},\"line_alpha\":{\"value\":0.2},\"line_color\":{\"value\":\"#6d904f\"},\"size\":{\"value\":5.477225575051661},\"x\":{\"field\":\"Total_Coins_Mined_Scaled\"},\"y\":{\"field\":\"Total_Coin_Supply_Scaled\"}},\"id\":\"1897\",\"type\":\"Scatter\"},{\"attributes\":{\"click_policy\":\"mute\",\"coordinates\":null,\"group\":null,\"items\":[{\"id\":\"1844\"},{\"id\":\"1866\"},{\"id\":\"1890\"},{\"id\":\"1916\"}],\"location\":[0,0],\"title\":\"class\"},\"id\":\"1843\",\"type\":\"Legend\"},{\"attributes\":{},\"id\":\"1810\",\"type\":\"ResetTool\"},{\"attributes\":{},\"id\":\"1799\",\"type\":\"BasicTicker\"},{\"attributes\":{\"fill_alpha\":{\"value\":0.2},\"fill_color\":{\"value\":\"#fc4f30\"},\"hatch_alpha\":{\"value\":0.2},\"hatch_color\":{\"value\":\"#fc4f30\"},\"line_alpha\":{\"value\":0.2},\"line_color\":{\"value\":\"#fc4f30\"},\"size\":{\"value\":5.477225575051661},\"x\":{\"field\":\"Total_Coins_Mined_Scaled\"},\"y\":{\"field\":\"Total_Coin_Supply_Scaled\"}},\"id\":\"1851\",\"type\":\"Scatter\"},{\"attributes\":{},\"id\":\"1826\",\"type\":\"Selection\"},{\"attributes\":{\"source\":{\"id\":\"1868\"}},\"id\":\"1875\",\"type\":\"CDSView\"},{\"attributes\":{\"fill_alpha\":{\"value\":0.1},\"fill_color\":{\"value\":\"#30a2da\"},\"hatch_alpha\":{\"value\":0.1},\"hatch_color\":{\"value\":\"#30a2da\"},\"line_alpha\":{\"value\":0.1},\"line_color\":{\"value\":\"#30a2da\"},\"size\":{\"value\":5.477225575051661},\"x\":{\"field\":\"Total_Coins_Mined_Scaled\"},\"y\":{\"field\":\"Total_Coin_Supply_Scaled\"}},\"id\":\"1829\",\"type\":\"Scatter\"},{\"attributes\":{\"angle\":{\"value\":0.0},\"fill_alpha\":{\"value\":1.0},\"fill_color\":{\"value\":\"#fc4f30\"},\"hatch_alpha\":{\"value\":1.0},\"hatch_color\":{\"value\":\"#fc4f30\"},\"hatch_scale\":{\"value\":12.0},\"hatch_weight\":{\"value\":1.0},\"line_alpha\":{\"value\":1.0},\"line_cap\":{\"value\":\"butt\"},\"line_color\":{\"value\":\"#fc4f30\"},\"line_dash\":{\"value\":[]},\"line_dash_offset\":{\"value\":0},\"line_join\":{\"value\":\"bevel\"},\"line_width\":{\"value\":1},\"marker\":{\"value\":\"circle\"},\"size\":{\"value\":5.477225575051661},\"x\":{\"field\":\"Total_Coins_Mined_Scaled\"},\"y\":{\"field\":\"Total_Coin_Supply_Scaled\"}},\"id\":\"1867\",\"type\":\"Scatter\"},{\"attributes\":{},\"id\":\"1869\",\"type\":\"Selection\"},{\"attributes\":{\"margin\":[5,5,5,5],\"name\":\"HSpacer03405\",\"sizing_mode\":\"stretch_width\"},\"id\":\"2062\",\"type\":\"Spacer\"},{\"attributes\":{\"label\":{\"value\":\"2\"},\"renderers\":[{\"id\":\"1874\"}]},\"id\":\"1890\",\"type\":\"LegendItem\"},{\"attributes\":{\"fill_alpha\":{\"value\":0.2},\"fill_color\":{\"value\":\"#e5ae38\"},\"hatch_alpha\":{\"value\":0.2},\"hatch_color\":{\"value\":\"#e5ae38\"},\"line_alpha\":{\"value\":0.2},\"line_color\":{\"value\":\"#e5ae38\"},\"size\":{\"value\":5.477225575051661},\"x\":{\"field\":\"Total_Coins_Mined_Scaled\"},\"y\":{\"field\":\"Total_Coin_Supply_Scaled\"}},\"id\":\"1873\",\"type\":\"Scatter\"}],\"root_ids\":[\"1781\"]},\"title\":\"Bokeh Application\",\"version\":\"2.4.1\"}};\n",
       "    var render_items = [{\"docid\":\"112fa050-e196-4489-92ec-df2fb1771914\",\"root_ids\":[\"1781\"],\"roots\":{\"1781\":\"0b811fde-9af1-4fac-b419-84cd688096b4\"}}];\n",
       "    root.Bokeh.embed.embed_items_notebook(docs_json, render_items);\n",
       "  }\n",
       "  if (root.Bokeh !== undefined && root.Bokeh.Panel !== undefined) {\n",
       "    embed_document(root);\n",
       "  } else {\n",
       "    var attempts = 0;\n",
       "    var timer = setInterval(function(root) {\n",
       "      if (root.Bokeh !== undefined && root.Bokeh.Panel !== undefined) {\n",
       "        clearInterval(timer);\n",
       "        embed_document(root);\n",
       "      } else if (document.readyState == \"complete\") {\n",
       "        attempts++;\n",
       "        if (attempts > 200) {\n",
       "          clearInterval(timer);\n",
       "          console.log(\"Bokeh: ERROR: Unable to run BokehJS code because BokehJS library is missing\");\n",
       "        }\n",
       "      }\n",
       "    }, 25, root)\n",
       "  }\n",
       "})(window);</script>"
      ],
      "text/plain": [
       ":NdOverlay   [class]\n",
       "   :Scatter   [Total_Coins_Mined_Scaled]   (Total_Coin_Supply_Scaled,class)"
      ]
     },
     "execution_count": 270,
     "metadata": {
      "application/vnd.holoviews_exec.v0+json": {
       "id": "1781"
      }
     },
     "output_type": "execute_result"
    }
   ],
   "source": [
    "# Create a hvplot.scatter plot using x=\"TotalCoinsMined\" and y=\"TotalCoinSupply\".\n",
    "plot_df.hvplot.scatter(x=\"Total_Coins_Mined_Scaled\", y=\"Total_Coin_Supply_Scaled\", hover_cols=\"class\", by=\"class\")"
   ]
  },
  {
   "cell_type": "code",
   "execution_count": null,
   "metadata": {},
   "outputs": [],
   "source": []
  }
 ],
 "metadata": {
  "file_extension": ".py",
  "kernelspec": {
   "display_name": "mlenv",
   "language": "python",
   "name": "mlenv"
  },
  "language_info": {
   "codemirror_mode": {
    "name": "ipython",
    "version": 3
   },
   "file_extension": ".py",
   "mimetype": "text/x-python",
   "name": "python",
   "nbconvert_exporter": "python",
   "pygments_lexer": "ipython3",
   "version": "3.7.11"
  },
  "latex_envs": {
   "LaTeX_envs_menu_present": true,
   "autoclose": false,
   "autocomplete": true,
   "bibliofile": "biblio.bib",
   "cite_by": "apalike",
   "current_citInitial": 1,
   "eqLabelWithNumbers": true,
   "eqNumInitial": 1,
   "hotkeys": {
    "equation": "Ctrl-E",
    "itemize": "Ctrl-I"
   },
   "labels_anchors": false,
   "latex_user_defs": false,
   "report_style_numbering": false,
   "user_envs_cfg": false
  },
  "mimetype": "text/x-python",
  "name": "python",
  "npconvert_exporter": "python",
  "pygments_lexer": "ipython3",
  "version": 3
 },
 "nbformat": 4,
 "nbformat_minor": 2
}
